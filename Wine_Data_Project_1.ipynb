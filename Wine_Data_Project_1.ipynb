{
 "cells": [
  {
   "cell_type": "code",
   "execution_count": 1,
   "id": "8d30c848",
   "metadata": {},
   "outputs": [],
   "source": [
    "import pandas as pd\n",
    "import numpy as np\n",
    "import seaborn as sns\n",
    "import requests\n",
    "import matplotlib.pyplot as plt\n",
    "import statsmodels.api as sm"
   ]
  },
  {
   "cell_type": "code",
   "execution_count": 2,
   "id": "69736abd",
   "metadata": {},
   "outputs": [],
   "source": [
    "wine_data = pd.read_csv('winemag-data-130k-v2.csv')"
   ]
  },
  {
   "cell_type": "code",
   "execution_count": 3,
   "id": "5bdf0ad7",
   "metadata": {},
   "outputs": [
    {
     "data": {
      "text/plain": [
       "(129971, 14)"
      ]
     },
     "execution_count": 3,
     "metadata": {},
     "output_type": "execute_result"
    }
   ],
   "source": [
    "wine_data.shape"
   ]
  },
  {
   "cell_type": "code",
   "execution_count": 4,
   "id": "37fa7269",
   "metadata": {},
   "outputs": [
    {
     "data": {
      "text/html": [
       "<div>\n",
       "<style scoped>\n",
       "    .dataframe tbody tr th:only-of-type {\n",
       "        vertical-align: middle;\n",
       "    }\n",
       "\n",
       "    .dataframe tbody tr th {\n",
       "        vertical-align: top;\n",
       "    }\n",
       "\n",
       "    .dataframe thead th {\n",
       "        text-align: right;\n",
       "    }\n",
       "</style>\n",
       "<table border=\"1\" class=\"dataframe\">\n",
       "  <thead>\n",
       "    <tr style=\"text-align: right;\">\n",
       "      <th></th>\n",
       "      <th>Unnamed: 0</th>\n",
       "      <th>country</th>\n",
       "      <th>description</th>\n",
       "      <th>designation</th>\n",
       "      <th>points</th>\n",
       "      <th>price</th>\n",
       "      <th>province</th>\n",
       "      <th>region_1</th>\n",
       "      <th>region_2</th>\n",
       "      <th>taster_name</th>\n",
       "      <th>taster_twitter_handle</th>\n",
       "      <th>title</th>\n",
       "      <th>variety</th>\n",
       "      <th>winery</th>\n",
       "    </tr>\n",
       "  </thead>\n",
       "  <tbody>\n",
       "    <tr>\n",
       "      <th>0</th>\n",
       "      <td>0</td>\n",
       "      <td>Italy</td>\n",
       "      <td>Aromas include tropical fruit, broom, brimston...</td>\n",
       "      <td>Vulkà Bianco</td>\n",
       "      <td>87</td>\n",
       "      <td>NaN</td>\n",
       "      <td>Sicily &amp; Sardinia</td>\n",
       "      <td>Etna</td>\n",
       "      <td>NaN</td>\n",
       "      <td>Kerin O’Keefe</td>\n",
       "      <td>@kerinokeefe</td>\n",
       "      <td>Nicosia 2013 Vulkà Bianco  (Etna)</td>\n",
       "      <td>White Blend</td>\n",
       "      <td>Nicosia</td>\n",
       "    </tr>\n",
       "    <tr>\n",
       "      <th>1</th>\n",
       "      <td>1</td>\n",
       "      <td>Portugal</td>\n",
       "      <td>This is ripe and fruity, a wine that is smooth...</td>\n",
       "      <td>Avidagos</td>\n",
       "      <td>87</td>\n",
       "      <td>15.0</td>\n",
       "      <td>Douro</td>\n",
       "      <td>NaN</td>\n",
       "      <td>NaN</td>\n",
       "      <td>Roger Voss</td>\n",
       "      <td>@vossroger</td>\n",
       "      <td>Quinta dos Avidagos 2011 Avidagos Red (Douro)</td>\n",
       "      <td>Portuguese Red</td>\n",
       "      <td>Quinta dos Avidagos</td>\n",
       "    </tr>\n",
       "    <tr>\n",
       "      <th>2</th>\n",
       "      <td>2</td>\n",
       "      <td>US</td>\n",
       "      <td>Tart and snappy, the flavors of lime flesh and...</td>\n",
       "      <td>NaN</td>\n",
       "      <td>87</td>\n",
       "      <td>14.0</td>\n",
       "      <td>Oregon</td>\n",
       "      <td>Willamette Valley</td>\n",
       "      <td>Willamette Valley</td>\n",
       "      <td>Paul Gregutt</td>\n",
       "      <td>@paulgwine</td>\n",
       "      <td>Rainstorm 2013 Pinot Gris (Willamette Valley)</td>\n",
       "      <td>Pinot Gris</td>\n",
       "      <td>Rainstorm</td>\n",
       "    </tr>\n",
       "    <tr>\n",
       "      <th>3</th>\n",
       "      <td>3</td>\n",
       "      <td>US</td>\n",
       "      <td>Pineapple rind, lemon pith and orange blossom ...</td>\n",
       "      <td>Reserve Late Harvest</td>\n",
       "      <td>87</td>\n",
       "      <td>13.0</td>\n",
       "      <td>Michigan</td>\n",
       "      <td>Lake Michigan Shore</td>\n",
       "      <td>NaN</td>\n",
       "      <td>Alexander Peartree</td>\n",
       "      <td>NaN</td>\n",
       "      <td>St. Julian 2013 Reserve Late Harvest Riesling ...</td>\n",
       "      <td>Riesling</td>\n",
       "      <td>St. Julian</td>\n",
       "    </tr>\n",
       "    <tr>\n",
       "      <th>4</th>\n",
       "      <td>4</td>\n",
       "      <td>US</td>\n",
       "      <td>Much like the regular bottling from 2012, this...</td>\n",
       "      <td>Vintner's Reserve Wild Child Block</td>\n",
       "      <td>87</td>\n",
       "      <td>65.0</td>\n",
       "      <td>Oregon</td>\n",
       "      <td>Willamette Valley</td>\n",
       "      <td>Willamette Valley</td>\n",
       "      <td>Paul Gregutt</td>\n",
       "      <td>@paulgwine</td>\n",
       "      <td>Sweet Cheeks 2012 Vintner's Reserve Wild Child...</td>\n",
       "      <td>Pinot Noir</td>\n",
       "      <td>Sweet Cheeks</td>\n",
       "    </tr>\n",
       "  </tbody>\n",
       "</table>\n",
       "</div>"
      ],
      "text/plain": [
       "   Unnamed: 0   country                                        description  \\\n",
       "0           0     Italy  Aromas include tropical fruit, broom, brimston...   \n",
       "1           1  Portugal  This is ripe and fruity, a wine that is smooth...   \n",
       "2           2        US  Tart and snappy, the flavors of lime flesh and...   \n",
       "3           3        US  Pineapple rind, lemon pith and orange blossom ...   \n",
       "4           4        US  Much like the regular bottling from 2012, this...   \n",
       "\n",
       "                          designation  points  price           province  \\\n",
       "0                        Vulkà Bianco      87    NaN  Sicily & Sardinia   \n",
       "1                            Avidagos      87   15.0              Douro   \n",
       "2                                 NaN      87   14.0             Oregon   \n",
       "3                Reserve Late Harvest      87   13.0           Michigan   \n",
       "4  Vintner's Reserve Wild Child Block      87   65.0             Oregon   \n",
       "\n",
       "              region_1           region_2         taster_name  \\\n",
       "0                 Etna                NaN       Kerin O’Keefe   \n",
       "1                  NaN                NaN          Roger Voss   \n",
       "2    Willamette Valley  Willamette Valley        Paul Gregutt   \n",
       "3  Lake Michigan Shore                NaN  Alexander Peartree   \n",
       "4    Willamette Valley  Willamette Valley        Paul Gregutt   \n",
       "\n",
       "  taster_twitter_handle                                              title  \\\n",
       "0          @kerinokeefe                  Nicosia 2013 Vulkà Bianco  (Etna)   \n",
       "1            @vossroger      Quinta dos Avidagos 2011 Avidagos Red (Douro)   \n",
       "2           @paulgwine       Rainstorm 2013 Pinot Gris (Willamette Valley)   \n",
       "3                   NaN  St. Julian 2013 Reserve Late Harvest Riesling ...   \n",
       "4           @paulgwine   Sweet Cheeks 2012 Vintner's Reserve Wild Child...   \n",
       "\n",
       "          variety               winery  \n",
       "0     White Blend              Nicosia  \n",
       "1  Portuguese Red  Quinta dos Avidagos  \n",
       "2      Pinot Gris            Rainstorm  \n",
       "3        Riesling           St. Julian  \n",
       "4      Pinot Noir         Sweet Cheeks  "
      ]
     },
     "execution_count": 4,
     "metadata": {},
     "output_type": "execute_result"
    }
   ],
   "source": [
    "wine_data.head()"
   ]
  },
  {
   "cell_type": "code",
   "execution_count": 5,
   "id": "e257f931",
   "metadata": {},
   "outputs": [],
   "source": [
    "wine_data['year'] = wine_data['title'].str.extract(r'(\\d{4})')\n",
    "wine_data['year'] = wine_data['year'].astype(str)"
   ]
  },
  {
   "cell_type": "code",
   "execution_count": 6,
   "id": "f5a6c2ed",
   "metadata": {
    "scrolled": true
   },
   "outputs": [],
   "source": [
    "#wine_data['country'].value_counts() #Italy is third for most value counts!"
   ]
  },
  {
   "cell_type": "code",
   "execution_count": 7,
   "id": "ca50f5a0",
   "metadata": {},
   "outputs": [
    {
     "data": {
      "text/plain": [
       "118840"
      ]
     },
     "execution_count": 7,
     "metadata": {},
     "output_type": "execute_result"
    }
   ],
   "source": [
    "wine_data['title'].nunique()"
   ]
  },
  {
   "cell_type": "code",
   "execution_count": 8,
   "id": "962634b7",
   "metadata": {},
   "outputs": [
    {
     "data": {
      "text/plain": [
       "0"
      ]
     },
     "execution_count": 8,
     "metadata": {},
     "output_type": "execute_result"
    }
   ],
   "source": [
    "wine_data.duplicated().sum() #There are no rows completely duplicated"
   ]
  },
  {
   "cell_type": "code",
   "execution_count": 9,
   "id": "16588d58",
   "metadata": {
    "scrolled": false
   },
   "outputs": [
    {
     "data": {
      "text/plain": [
       "10881"
      ]
     },
     "execution_count": 9,
     "metadata": {},
     "output_type": "execute_result"
    }
   ],
   "source": [
    "wine_data.duplicated(subset=['title', 'variety']).sum() \n",
    "#The other 250 are duplicated titles with different varieties(grapes)"
   ]
  },
  {
   "cell_type": "code",
   "execution_count": 10,
   "id": "3c5f7884",
   "metadata": {},
   "outputs": [],
   "source": [
    "wine_data.drop_duplicates(subset=['title', 'variety'], keep='first', inplace=True)"
   ]
  },
  {
   "cell_type": "code",
   "execution_count": 11,
   "id": "e1b48aca",
   "metadata": {},
   "outputs": [
    {
     "data": {
      "text/plain": [
       "(119090, 15)"
      ]
     },
     "execution_count": 11,
     "metadata": {},
     "output_type": "execute_result"
    }
   ],
   "source": [
    "wine_data.shape"
   ]
  },
  {
   "cell_type": "code",
   "execution_count": 12,
   "id": "d9aad92f",
   "metadata": {},
   "outputs": [
    {
     "data": {
      "text/plain": [
       "0"
      ]
     },
     "execution_count": 12,
     "metadata": {},
     "output_type": "execute_result"
    }
   ],
   "source": [
    "wine_data.duplicated(subset=['title', 'variety']).sum() "
   ]
  },
  {
   "cell_type": "code",
   "execution_count": 13,
   "id": "c99eb318",
   "metadata": {
    "scrolled": true
   },
   "outputs": [
    {
     "data": {
      "text/html": [
       "<div>\n",
       "<style scoped>\n",
       "    .dataframe tbody tr th:only-of-type {\n",
       "        vertical-align: middle;\n",
       "    }\n",
       "\n",
       "    .dataframe tbody tr th {\n",
       "        vertical-align: top;\n",
       "    }\n",
       "\n",
       "    .dataframe thead th {\n",
       "        text-align: right;\n",
       "    }\n",
       "</style>\n",
       "<table border=\"1\" class=\"dataframe\">\n",
       "  <thead>\n",
       "    <tr style=\"text-align: right;\">\n",
       "      <th></th>\n",
       "      <th>country</th>\n",
       "      <th>count</th>\n",
       "    </tr>\n",
       "  </thead>\n",
       "  <tbody>\n",
       "    <tr>\n",
       "      <th>0</th>\n",
       "      <td>US</td>\n",
       "      <td>50233</td>\n",
       "    </tr>\n",
       "    <tr>\n",
       "      <th>1</th>\n",
       "      <td>France</td>\n",
       "      <td>19970</td>\n",
       "    </tr>\n",
       "    <tr>\n",
       "      <th>2</th>\n",
       "      <td>Italy</td>\n",
       "      <td>17812</td>\n",
       "    </tr>\n",
       "    <tr>\n",
       "      <th>3</th>\n",
       "      <td>Spain</td>\n",
       "      <td>6026</td>\n",
       "    </tr>\n",
       "    <tr>\n",
       "      <th>4</th>\n",
       "      <td>Portugal</td>\n",
       "      <td>5222</td>\n",
       "    </tr>\n",
       "    <tr>\n",
       "      <th>5</th>\n",
       "      <td>Chile</td>\n",
       "      <td>4179</td>\n",
       "    </tr>\n",
       "    <tr>\n",
       "      <th>6</th>\n",
       "      <td>Argentina</td>\n",
       "      <td>3543</td>\n",
       "    </tr>\n",
       "    <tr>\n",
       "      <th>7</th>\n",
       "      <td>Austria</td>\n",
       "      <td>3024</td>\n",
       "    </tr>\n",
       "    <tr>\n",
       "      <th>8</th>\n",
       "      <td>Australia</td>\n",
       "      <td>2183</td>\n",
       "    </tr>\n",
       "    <tr>\n",
       "      <th>9</th>\n",
       "      <td>Germany</td>\n",
       "      <td>1990</td>\n",
       "    </tr>\n",
       "  </tbody>\n",
       "</table>\n",
       "</div>"
      ],
      "text/plain": [
       "     country  count\n",
       "0         US  50233\n",
       "1     France  19970\n",
       "2      Italy  17812\n",
       "3      Spain   6026\n",
       "4   Portugal   5222\n",
       "5      Chile   4179\n",
       "6  Argentina   3543\n",
       "7    Austria   3024\n",
       "8  Australia   2183\n",
       "9    Germany   1990"
      ]
     },
     "execution_count": 13,
     "metadata": {},
     "output_type": "execute_result"
    }
   ],
   "source": [
    "# Sort the countries based on the count of entries in descending order\n",
    "sorted_countries = wine_data['country'].value_counts().sort_values(ascending=False)\n",
    "\n",
    "# Select the top 10 countries\n",
    "top_10_countries = sorted_countries.head(10)\n",
    "\n",
    "top_countries_df = pd.DataFrame(top_10_countries).reset_index(drop=False)\n",
    "top_countries_df"
   ]
  },
  {
   "cell_type": "code",
   "execution_count": 14,
   "id": "f9b94218",
   "metadata": {
    "scrolled": false
   },
   "outputs": [
    {
     "data": {
      "image/png": "[encoded data removed]",
      "text/plain": [
       "<Figure size 1000x600 with 1 Axes>"
      ]
     },
     "metadata": {},
     "output_type": "display_data"
    }
   ],
   "source": [
    "colors = sns.color_palette(\"deep\", len(top_countries_df))\n",
    "\n",
    "plt.figure(figsize=(10, 6))\n",
    "plt.barh(top_countries_df['country'], top_countries_df['count'], color= colors)\n",
    "plt.xlabel('Number of Reviews by Country')\n",
    "plt.ylabel('Country')\n",
    "plt.title('Top 10 Countries with most Reviews')\n",
    "plt.gca().invert_yaxis() \n",
    "plt.show()"
   ]
  },
  {
   "cell_type": "code",
   "execution_count": 15,
   "id": "af91e9db",
   "metadata": {
    "scrolled": true
   },
   "outputs": [
    {
     "data": {
      "text/plain": [
       "province\n",
       "California         33472\n",
       "Washington          7945\n",
       "Bordeaux            5531\n",
       "Tuscany             5387\n",
       "Oregon              4921\n",
       "                   ...  \n",
       "Markopoulo             1\n",
       "Krania Olympus         1\n",
       "Corinthia              1\n",
       "Slovenska Istra        1\n",
       "Neuchâtel              1\n",
       "Name: count, Length: 425, dtype: int64"
      ]
     },
     "execution_count": 15,
     "metadata": {},
     "output_type": "execute_result"
    }
   ],
   "source": [
    "wine_data['province'].value_counts() #Top province is California"
   ]
  },
  {
   "cell_type": "code",
   "execution_count": 16,
   "id": "19c04b41",
   "metadata": {
    "scrolled": true
   },
   "outputs": [
    {
     "name": "stdout",
     "output_type": "stream",
     "text": [
      "province\n",
      "California          33472\n",
      "Washington           7945\n",
      "Bordeaux             5531\n",
      "Tuscany              5387\n",
      "Oregon               4921\n",
      "Burgundy             3661\n",
      "Northern Spain       3552\n",
      "Piedmont             3427\n",
      "Mendoza Province     3037\n",
      "New York             2453\n",
      "Name: count, dtype: int64\n"
     ]
    }
   ],
   "source": [
    "# Sort the province based on the count of entries in descending order\n",
    "sorted_province = wine_data['province'].value_counts().sort_values(ascending=False)\n",
    "\n",
    "# Select the top 10 province\n",
    "top_10_province = sorted_province.head(10)\n",
    "\n",
    "print(top_10_province)"
   ]
  },
  {
   "cell_type": "code",
   "execution_count": 17,
   "id": "01b4be4a",
   "metadata": {},
   "outputs": [
    {
     "name": "stdout",
     "output_type": "stream",
     "text": [
      "province\n",
      "California    33472\n",
      "Washington     7945\n",
      "Oregon         4921\n",
      "New York       2453\n",
      "Virginia        722\n",
      "Idaho           178\n",
      "Michigan        105\n",
      "Texas            90\n",
      "America          80\n",
      "Colorado         62\n",
      "Name: count, dtype: int64\n"
     ]
    }
   ],
   "source": [
    "#top province within the US\n",
    "top_provinces_us = wine_data['province'][wine_data['country'] == 'US'].value_counts().sort_values(ascending=False).head(10)\n",
    "print(top_provinces_us)"
   ]
  },
  {
   "cell_type": "code",
   "execution_count": 18,
   "id": "bdd95ce9",
   "metadata": {
    "scrolled": false
   },
   "outputs": [
    {
     "data": {
      "text/plain": [
       "variety\n",
       "Pinot Noir                  12239\n",
       "Chardonnay                  10810\n",
       "Cabernet Sauvignon           8824\n",
       "Red Blend                    8224\n",
       "Bordeaux-style Red Blend     6445\n",
       "                            ...  \n",
       "Merlot-Shiraz                   1\n",
       "Folle Blanche                   1\n",
       "Forcallà                        1\n",
       "Tamianka                        1\n",
       "Bobal-Cabernet Sauvignon        1\n",
       "Name: count, Length: 707, dtype: int64"
      ]
     },
     "execution_count": 18,
     "metadata": {},
     "output_type": "execute_result"
    }
   ],
   "source": [
    "wine_data['variety'].value_counts() #Majority are Pinot Noir and Chardonnay (makes sense with Cali being 1)"
   ]
  },
  {
   "cell_type": "code",
   "execution_count": 19,
   "id": "6bec3729",
   "metadata": {
    "scrolled": false
   },
   "outputs": [
    {
     "data": {
      "text/html": [
       "<div>\n",
       "<style scoped>\n",
       "    .dataframe tbody tr th:only-of-type {\n",
       "        vertical-align: middle;\n",
       "    }\n",
       "\n",
       "    .dataframe tbody tr th {\n",
       "        vertical-align: top;\n",
       "    }\n",
       "\n",
       "    .dataframe thead th {\n",
       "        text-align: right;\n",
       "    }\n",
       "</style>\n",
       "<table border=\"1\" class=\"dataframe\">\n",
       "  <thead>\n",
       "    <tr style=\"text-align: right;\">\n",
       "      <th></th>\n",
       "      <th>variety</th>\n",
       "      <th>count</th>\n",
       "    </tr>\n",
       "  </thead>\n",
       "  <tbody>\n",
       "    <tr>\n",
       "      <th>0</th>\n",
       "      <td>Pinot Noir</td>\n",
       "      <td>12239</td>\n",
       "    </tr>\n",
       "    <tr>\n",
       "      <th>1</th>\n",
       "      <td>Chardonnay</td>\n",
       "      <td>10810</td>\n",
       "    </tr>\n",
       "    <tr>\n",
       "      <th>2</th>\n",
       "      <td>Cabernet Sauvignon</td>\n",
       "      <td>8824</td>\n",
       "    </tr>\n",
       "    <tr>\n",
       "      <th>3</th>\n",
       "      <td>Red Blend</td>\n",
       "      <td>8224</td>\n",
       "    </tr>\n",
       "    <tr>\n",
       "      <th>4</th>\n",
       "      <td>Bordeaux-style Red Blend</td>\n",
       "      <td>6445</td>\n",
       "    </tr>\n",
       "    <tr>\n",
       "      <th>5</th>\n",
       "      <td>Riesling</td>\n",
       "      <td>4759</td>\n",
       "    </tr>\n",
       "    <tr>\n",
       "      <th>6</th>\n",
       "      <td>Sauvignon Blanc</td>\n",
       "      <td>4566</td>\n",
       "    </tr>\n",
       "    <tr>\n",
       "      <th>7</th>\n",
       "      <td>Syrah</td>\n",
       "      <td>3822</td>\n",
       "    </tr>\n",
       "    <tr>\n",
       "      <th>8</th>\n",
       "      <td>Rosé</td>\n",
       "      <td>3215</td>\n",
       "    </tr>\n",
       "    <tr>\n",
       "      <th>9</th>\n",
       "      <td>Merlot</td>\n",
       "      <td>2889</td>\n",
       "    </tr>\n",
       "  </tbody>\n",
       "</table>\n",
       "</div>"
      ],
      "text/plain": [
       "                    variety  count\n",
       "0                Pinot Noir  12239\n",
       "1                Chardonnay  10810\n",
       "2        Cabernet Sauvignon   8824\n",
       "3                 Red Blend   8224\n",
       "4  Bordeaux-style Red Blend   6445\n",
       "5                  Riesling   4759\n",
       "6           Sauvignon Blanc   4566\n",
       "7                     Syrah   3822\n",
       "8                      Rosé   3215\n",
       "9                    Merlot   2889"
      ]
     },
     "execution_count": 19,
     "metadata": {},
     "output_type": "execute_result"
    }
   ],
   "source": [
    "# Sort the variety based on the count of entries in descending order\n",
    "sorted_variety = wine_data['variety'].value_counts().sort_values(ascending=False)\n",
    "\n",
    "# Select the top 10 variety\n",
    "top_10_variety = sorted_variety.head(10)\n",
    "\n",
    "top_variety_df = pd.DataFrame(top_10_variety).reset_index(drop=False)\n",
    "top_variety_df"
   ]
  },
  {
   "cell_type": "code",
   "execution_count": 20,
   "id": "02bec3a7",
   "metadata": {},
   "outputs": [
    {
     "data": {
      "image/png": "[encoded data removed]",
      "text/plain": [
       "<Figure size 1000x600 with 1 Axes>"
      ]
     },
     "metadata": {},
     "output_type": "display_data"
    }
   ],
   "source": [
    "colors = sns.color_palette(\"deep\", len(top_variety_df))\n",
    "\n",
    "plt.figure(figsize=(10, 6))\n",
    "plt.barh(top_variety_df['variety'], top_variety_df['count'], color= colors)\n",
    "plt.xlabel('Number of Reviews by Variety')\n",
    "plt.ylabel('Variety')\n",
    "plt.title('Top 10 Varieties with most Reviews')\n",
    "plt.gca().invert_yaxis() \n",
    "plt.show()"
   ]
  },
  {
   "cell_type": "code",
   "execution_count": 21,
   "id": "baf07606",
   "metadata": {},
   "outputs": [
    {
     "data": {
      "text/plain": [
       "21"
      ]
     },
     "execution_count": 21,
     "metadata": {},
     "output_type": "execute_result"
    }
   ],
   "source": [
    "wine_data['points'].nunique()"
   ]
  },
  {
   "cell_type": "code",
   "execution_count": 22,
   "id": "82beb303",
   "metadata": {
    "scrolled": true
   },
   "outputs": [],
   "source": [
    "#wine_data['points'].value_counts() #Points range from 80 to 100"
   ]
  },
  {
   "cell_type": "code",
   "execution_count": 23,
   "id": "e438d5d2",
   "metadata": {
    "scrolled": true
   },
   "outputs": [
    {
     "data": {
      "text/html": [
       "<div>\n",
       "<style scoped>\n",
       "    .dataframe tbody tr th:only-of-type {\n",
       "        vertical-align: middle;\n",
       "    }\n",
       "\n",
       "    .dataframe tbody tr th {\n",
       "        vertical-align: top;\n",
       "    }\n",
       "\n",
       "    .dataframe thead th {\n",
       "        text-align: right;\n",
       "    }\n",
       "</style>\n",
       "<table border=\"1\" class=\"dataframe\">\n",
       "  <thead>\n",
       "    <tr style=\"text-align: right;\">\n",
       "      <th></th>\n",
       "      <th>Unnamed: 0</th>\n",
       "      <th>country</th>\n",
       "      <th>description</th>\n",
       "      <th>designation</th>\n",
       "      <th>points</th>\n",
       "      <th>price</th>\n",
       "      <th>province</th>\n",
       "      <th>region_1</th>\n",
       "      <th>region_2</th>\n",
       "      <th>taster_name</th>\n",
       "      <th>taster_twitter_handle</th>\n",
       "      <th>title</th>\n",
       "      <th>variety</th>\n",
       "      <th>winery</th>\n",
       "      <th>year</th>\n",
       "    </tr>\n",
       "  </thead>\n",
       "  <tbody>\n",
       "    <tr>\n",
       "      <th>345</th>\n",
       "      <td>345</td>\n",
       "      <td>Australia</td>\n",
       "      <td>This wine contains some material over 100 year...</td>\n",
       "      <td>Rare</td>\n",
       "      <td>100</td>\n",
       "      <td>350.0</td>\n",
       "      <td>Victoria</td>\n",
       "      <td>Rutherglen</td>\n",
       "      <td>NaN</td>\n",
       "      <td>Joe Czerwinski</td>\n",
       "      <td>@JoeCz</td>\n",
       "      <td>Chambers Rosewood Vineyards NV Rare Muscat (Ru...</td>\n",
       "      <td>Muscat</td>\n",
       "      <td>Chambers Rosewood Vineyards</td>\n",
       "      <td>nan</td>\n",
       "    </tr>\n",
       "    <tr>\n",
       "      <th>7335</th>\n",
       "      <td>7335</td>\n",
       "      <td>Italy</td>\n",
       "      <td>Thick as molasses and dark as caramelized brow...</td>\n",
       "      <td>Occhio di Pernice</td>\n",
       "      <td>100</td>\n",
       "      <td>210.0</td>\n",
       "      <td>Tuscany</td>\n",
       "      <td>Vin Santo di Montepulciano</td>\n",
       "      <td>NaN</td>\n",
       "      <td>NaN</td>\n",
       "      <td>NaN</td>\n",
       "      <td>Avignonesi 1995 Occhio di Pernice  (Vin Santo ...</td>\n",
       "      <td>Prugnolo Gentile</td>\n",
       "      <td>Avignonesi</td>\n",
       "      <td>1995</td>\n",
       "    </tr>\n",
       "    <tr>\n",
       "      <th>36528</th>\n",
       "      <td>36528</td>\n",
       "      <td>France</td>\n",
       "      <td>This is a fabulous wine from the greatest Cham...</td>\n",
       "      <td>Brut</td>\n",
       "      <td>100</td>\n",
       "      <td>259.0</td>\n",
       "      <td>Champagne</td>\n",
       "      <td>Champagne</td>\n",
       "      <td>NaN</td>\n",
       "      <td>Roger Voss</td>\n",
       "      <td>@vossroger</td>\n",
       "      <td>Krug 2002 Brut  (Champagne)</td>\n",
       "      <td>Champagne Blend</td>\n",
       "      <td>Krug</td>\n",
       "      <td>2002</td>\n",
       "    </tr>\n",
       "    <tr>\n",
       "      <th>39286</th>\n",
       "      <td>39286</td>\n",
       "      <td>Italy</td>\n",
       "      <td>A perfect wine from a classic vintage, the 200...</td>\n",
       "      <td>Masseto</td>\n",
       "      <td>100</td>\n",
       "      <td>460.0</td>\n",
       "      <td>Tuscany</td>\n",
       "      <td>Toscana</td>\n",
       "      <td>NaN</td>\n",
       "      <td>NaN</td>\n",
       "      <td>NaN</td>\n",
       "      <td>Tenuta dell'Ornellaia 2007 Masseto Merlot (Tos...</td>\n",
       "      <td>Merlot</td>\n",
       "      <td>Tenuta dell'Ornellaia</td>\n",
       "      <td>2007</td>\n",
       "    </tr>\n",
       "    <tr>\n",
       "      <th>42197</th>\n",
       "      <td>42197</td>\n",
       "      <td>Portugal</td>\n",
       "      <td>This is the latest release of what has long be...</td>\n",
       "      <td>Barca-Velha</td>\n",
       "      <td>100</td>\n",
       "      <td>450.0</td>\n",
       "      <td>Douro</td>\n",
       "      <td>NaN</td>\n",
       "      <td>NaN</td>\n",
       "      <td>Roger Voss</td>\n",
       "      <td>@vossroger</td>\n",
       "      <td>Casa Ferreirinha 2008 Barca-Velha Red (Douro)</td>\n",
       "      <td>Portuguese Red</td>\n",
       "      <td>Casa Ferreirinha</td>\n",
       "      <td>2008</td>\n",
       "    </tr>\n",
       "  </tbody>\n",
       "</table>\n",
       "</div>"
      ],
      "text/plain": [
       "       Unnamed: 0    country  \\\n",
       "345           345  Australia   \n",
       "7335         7335      Italy   \n",
       "36528       36528     France   \n",
       "39286       39286      Italy   \n",
       "42197       42197   Portugal   \n",
       "\n",
       "                                             description        designation  \\\n",
       "345    This wine contains some material over 100 year...               Rare   \n",
       "7335   Thick as molasses and dark as caramelized brow...  Occhio di Pernice   \n",
       "36528  This is a fabulous wine from the greatest Cham...               Brut   \n",
       "39286  A perfect wine from a classic vintage, the 200...            Masseto   \n",
       "42197  This is the latest release of what has long be...        Barca-Velha   \n",
       "\n",
       "       points  price   province                    region_1 region_2  \\\n",
       "345       100  350.0   Victoria                  Rutherglen      NaN   \n",
       "7335      100  210.0    Tuscany  Vin Santo di Montepulciano      NaN   \n",
       "36528     100  259.0  Champagne                   Champagne      NaN   \n",
       "39286     100  460.0    Tuscany                     Toscana      NaN   \n",
       "42197     100  450.0      Douro                         NaN      NaN   \n",
       "\n",
       "          taster_name taster_twitter_handle  \\\n",
       "345    Joe Czerwinski                @JoeCz   \n",
       "7335              NaN                   NaN   \n",
       "36528      Roger Voss            @vossroger   \n",
       "39286             NaN                   NaN   \n",
       "42197      Roger Voss            @vossroger   \n",
       "\n",
       "                                                   title           variety  \\\n",
       "345    Chambers Rosewood Vineyards NV Rare Muscat (Ru...            Muscat   \n",
       "7335   Avignonesi 1995 Occhio di Pernice  (Vin Santo ...  Prugnolo Gentile   \n",
       "36528                        Krug 2002 Brut  (Champagne)   Champagne Blend   \n",
       "39286  Tenuta dell'Ornellaia 2007 Masseto Merlot (Tos...            Merlot   \n",
       "42197      Casa Ferreirinha 2008 Barca-Velha Red (Douro)    Portuguese Red   \n",
       "\n",
       "                            winery  year  \n",
       "345    Chambers Rosewood Vineyards   nan  \n",
       "7335                    Avignonesi  1995  \n",
       "36528                         Krug  2002  \n",
       "39286        Tenuta dell'Ornellaia  2007  \n",
       "42197             Casa Ferreirinha  2008  "
      ]
     },
     "execution_count": 23,
     "metadata": {},
     "output_type": "execute_result"
    }
   ],
   "source": [
    "#WINE BOTTLES WITH PERFECT SCORE\n",
    "\n",
    "max_point = wine_data[wine_data['points']==wine_data['points'].max()]\n",
    "max_point.head()\n",
    "\n",
    "#There are 19 bottles... two of them are only $80"
   ]
  },
  {
   "cell_type": "code",
   "execution_count": 24,
   "id": "d95761b6",
   "metadata": {},
   "outputs": [
    {
     "data": {
      "text/plain": [
       "price\n",
       "450.0     2\n",
       "1500.0    2\n",
       "80.0      2\n",
       "350.0     1\n",
       "210.0     1\n",
       "259.0     1\n",
       "460.0     1\n",
       "550.0     1\n",
       "200.0     1\n",
       "150.0     1\n",
       "250.0     1\n",
       "617.0     1\n",
       "270.0     1\n",
       "359.0     1\n",
       "650.0     1\n",
       "848.0     1\n",
       "Name: count, dtype: int64"
      ]
     },
     "execution_count": 24,
     "metadata": {},
     "output_type": "execute_result"
    }
   ],
   "source": [
    "max_point['price'].value_counts()"
   ]
  },
  {
   "cell_type": "markdown",
   "id": "14cab3c9",
   "metadata": {},
   "source": [
    "### Mention this in the conclusion"
   ]
  },
  {
   "cell_type": "code",
   "execution_count": 25,
   "id": "139e84e8",
   "metadata": {
    "scrolled": false
   },
   "outputs": [
    {
     "data": {
      "text/plain": [
       "variety\n",
       "Pinot Noir                  1282\n",
       "Chardonnay                  1231\n",
       "Red Blend                   1208\n",
       "Cabernet Sauvignon           950\n",
       "Bordeaux-style Red Blend     745\n",
       "Sauvignon Blanc              640\n",
       "Riesling                     572\n",
       "Rosé                         417\n",
       "Syrah                        410\n",
       "Sangiovese                   385\n",
       "Name: count, dtype: int64"
      ]
     },
     "execution_count": 25,
     "metadata": {},
     "output_type": "execute_result"
    }
   ],
   "source": [
    "#THE TOP 10 VARIETIES WITH THE HIGHEST value_count POINT 88\n",
    "\n",
    "top_point = wine_data['points'].value_counts().idxmax()\n",
    "\n",
    "variety_top_value_point = wine_data[wine_data['points'] == top_point]['variety']#.iloc[0]\n",
    "\n",
    "variety_top_value_point.value_counts().head(10)"
   ]
  },
  {
   "cell_type": "markdown",
   "id": "931ac331",
   "metadata": {},
   "source": [
    "### Mention this in the conclusion"
   ]
  },
  {
   "cell_type": "code",
   "execution_count": 26,
   "id": "9b0bcb58",
   "metadata": {},
   "outputs": [
    {
     "data": {
      "text/plain": [
       "15159"
      ]
     },
     "execution_count": 26,
     "metadata": {},
     "output_type": "execute_result"
    }
   ],
   "source": [
    "len(variety_top_value_point)"
   ]
  },
  {
   "cell_type": "code",
   "execution_count": 27,
   "id": "adc3264e",
   "metadata": {},
   "outputs": [
    {
     "data": {
      "text/plain": [
       "119057"
      ]
     },
     "execution_count": 27,
     "metadata": {},
     "output_type": "execute_result"
    }
   ],
   "source": [
    "wine_data['description'].nunique() #Filter out unique values by key words (fruity, acidity, citrus...)"
   ]
  },
  {
   "cell_type": "code",
   "execution_count": 28,
   "id": "d0058e48",
   "metadata": {
    "scrolled": true
   },
   "outputs": [],
   "source": [
    "#wine_data['description'].value_counts() TOO MANY DESCRIPTIONS TO SUCCEFULY FILTER OUT"
   ]
  },
  {
   "cell_type": "code",
   "execution_count": 29,
   "id": "f0c5bc90",
   "metadata": {
    "scrolled": true
   },
   "outputs": [
    {
     "data": {
      "text/plain": [
       "707"
      ]
     },
     "execution_count": 29,
     "metadata": {},
     "output_type": "execute_result"
    }
   ],
   "source": [
    "wine_data['variety'].nunique()"
   ]
  },
  {
   "cell_type": "code",
   "execution_count": 30,
   "id": "b9e52651",
   "metadata": {},
   "outputs": [
    {
     "data": {
      "text/plain": [
       "43"
      ]
     },
     "execution_count": 30,
     "metadata": {},
     "output_type": "execute_result"
    }
   ],
   "source": [
    "wine_data['country'].nunique()"
   ]
  },
  {
   "cell_type": "code",
   "execution_count": 31,
   "id": "56fec540",
   "metadata": {},
   "outputs": [],
   "source": [
    "wine_data.drop(columns=['Unnamed: 0', 'designation', 'region_1', 'region_2',\n",
    "                        'taster_name', 'taster_twitter_handle'], inplace=True)"
   ]
  },
  {
   "cell_type": "code",
   "execution_count": 32,
   "id": "7ae14d85",
   "metadata": {
    "scrolled": true
   },
   "outputs": [
    {
     "data": {
      "text/plain": [
       "country         object\n",
       "description     object\n",
       "points           int64\n",
       "price          float64\n",
       "province        object\n",
       "title           object\n",
       "variety         object\n",
       "winery          object\n",
       "year            object\n",
       "dtype: object"
      ]
     },
     "execution_count": 32,
     "metadata": {},
     "output_type": "execute_result"
    }
   ],
   "source": [
    "wine_data.dtypes"
   ]
  },
  {
   "cell_type": "markdown",
   "id": "a6931878",
   "metadata": {},
   "source": [
    "#### Categorical Data: \n",
    "Country, Description, Province, Title, Variety, Winery\n",
    "\n",
    "#### Numerical Data: \n",
    "Points, Price"
   ]
  },
  {
   "cell_type": "code",
   "execution_count": 33,
   "id": "097dfa7d",
   "metadata": {},
   "outputs": [
    {
     "data": {
      "text/html": [
       "<div>\n",
       "<style scoped>\n",
       "    .dataframe tbody tr th:only-of-type {\n",
       "        vertical-align: middle;\n",
       "    }\n",
       "\n",
       "    .dataframe tbody tr th {\n",
       "        vertical-align: top;\n",
       "    }\n",
       "\n",
       "    .dataframe thead th {\n",
       "        text-align: right;\n",
       "    }\n",
       "</style>\n",
       "<table border=\"1\" class=\"dataframe\">\n",
       "  <thead>\n",
       "    <tr style=\"text-align: right;\">\n",
       "      <th></th>\n",
       "      <th>country</th>\n",
       "      <th>description</th>\n",
       "      <th>province</th>\n",
       "      <th>title</th>\n",
       "      <th>variety</th>\n",
       "      <th>winery</th>\n",
       "      <th>year</th>\n",
       "    </tr>\n",
       "  </thead>\n",
       "  <tbody>\n",
       "    <tr>\n",
       "      <th>count</th>\n",
       "      <td>119031</td>\n",
       "      <td>119090</td>\n",
       "      <td>119031</td>\n",
       "      <td>119090</td>\n",
       "      <td>119089</td>\n",
       "      <td>119090</td>\n",
       "      <td>119090</td>\n",
       "    </tr>\n",
       "    <tr>\n",
       "      <th>unique</th>\n",
       "      <td>43</td>\n",
       "      <td>119057</td>\n",
       "      <td>425</td>\n",
       "      <td>118840</td>\n",
       "      <td>707</td>\n",
       "      <td>16757</td>\n",
       "      <td>92</td>\n",
       "    </tr>\n",
       "    <tr>\n",
       "      <th>top</th>\n",
       "      <td>US</td>\n",
       "      <td>Hugely delicious, just a joy to drink. So soft...</td>\n",
       "      <td>California</td>\n",
       "      <td>Lucien Lardy 2014  Beaujolais-Villages</td>\n",
       "      <td>Pinot Noir</td>\n",
       "      <td>Wines &amp; Winemakers</td>\n",
       "      <td>2012</td>\n",
       "    </tr>\n",
       "    <tr>\n",
       "      <th>freq</th>\n",
       "      <td>50233</td>\n",
       "      <td>2</td>\n",
       "      <td>33472</td>\n",
       "      <td>2</td>\n",
       "      <td>12239</td>\n",
       "      <td>209</td>\n",
       "      <td>14300</td>\n",
       "    </tr>\n",
       "  </tbody>\n",
       "</table>\n",
       "</div>"
      ],
      "text/plain": [
       "       country                                        description    province  \\\n",
       "count   119031                                             119090      119031   \n",
       "unique      43                                             119057         425   \n",
       "top         US  Hugely delicious, just a joy to drink. So soft...  California   \n",
       "freq     50233                                                  2       33472   \n",
       "\n",
       "                                         title     variety  \\\n",
       "count                                   119090      119089   \n",
       "unique                                  118840         707   \n",
       "top     Lucien Lardy 2014  Beaujolais-Villages  Pinot Noir   \n",
       "freq                                         2       12239   \n",
       "\n",
       "                    winery    year  \n",
       "count               119090  119090  \n",
       "unique               16757      92  \n",
       "top     Wines & Winemakers    2012  \n",
       "freq                   209   14300  "
      ]
     },
     "execution_count": 33,
     "metadata": {},
     "output_type": "execute_result"
    }
   ],
   "source": [
    "wine_data.describe(include='object')"
   ]
  },
  {
   "cell_type": "code",
   "execution_count": 34,
   "id": "0991757f",
   "metadata": {
    "scrolled": false
   },
   "outputs": [
    {
     "data": {
      "text/html": [
       "<div>\n",
       "<style scoped>\n",
       "    .dataframe tbody tr th:only-of-type {\n",
       "        vertical-align: middle;\n",
       "    }\n",
       "\n",
       "    .dataframe tbody tr th {\n",
       "        vertical-align: top;\n",
       "    }\n",
       "\n",
       "    .dataframe thead th {\n",
       "        text-align: right;\n",
       "    }\n",
       "</style>\n",
       "<table border=\"1\" class=\"dataframe\">\n",
       "  <thead>\n",
       "    <tr style=\"text-align: right;\">\n",
       "      <th></th>\n",
       "      <th>points</th>\n",
       "      <th>price</th>\n",
       "    </tr>\n",
       "  </thead>\n",
       "  <tbody>\n",
       "    <tr>\n",
       "      <th>count</th>\n",
       "      <td>119090.000000</td>\n",
       "      <td>110759.000000</td>\n",
       "    </tr>\n",
       "    <tr>\n",
       "      <th>mean</th>\n",
       "      <td>88.445260</td>\n",
       "      <td>35.625529</td>\n",
       "    </tr>\n",
       "    <tr>\n",
       "      <th>std</th>\n",
       "      <td>3.094847</td>\n",
       "      <td>42.164715</td>\n",
       "    </tr>\n",
       "    <tr>\n",
       "      <th>min</th>\n",
       "      <td>80.000000</td>\n",
       "      <td>4.000000</td>\n",
       "    </tr>\n",
       "    <tr>\n",
       "      <th>25%</th>\n",
       "      <td>86.000000</td>\n",
       "      <td>17.000000</td>\n",
       "    </tr>\n",
       "    <tr>\n",
       "      <th>50%</th>\n",
       "      <td>88.000000</td>\n",
       "      <td>25.000000</td>\n",
       "    </tr>\n",
       "    <tr>\n",
       "      <th>75%</th>\n",
       "      <td>91.000000</td>\n",
       "      <td>42.000000</td>\n",
       "    </tr>\n",
       "    <tr>\n",
       "      <th>max</th>\n",
       "      <td>100.000000</td>\n",
       "      <td>3300.000000</td>\n",
       "    </tr>\n",
       "  </tbody>\n",
       "</table>\n",
       "</div>"
      ],
      "text/plain": [
       "              points          price\n",
       "count  119090.000000  110759.000000\n",
       "mean       88.445260      35.625529\n",
       "std         3.094847      42.164715\n",
       "min        80.000000       4.000000\n",
       "25%        86.000000      17.000000\n",
       "50%        88.000000      25.000000\n",
       "75%        91.000000      42.000000\n",
       "max       100.000000    3300.000000"
      ]
     },
     "execution_count": 34,
     "metadata": {},
     "output_type": "execute_result"
    }
   ],
   "source": [
    "wine_data.describe()"
   ]
  },
  {
   "cell_type": "raw",
   "id": "0f8094c2",
   "metadata": {},
   "source": [
    "Conclusion:\n",
    "\n",
    "Both the average point given to wines and the median are 88\n",
    "    -Most wines received between 86 and 91 points, indicating a relatively high overall quality of wines in the dataset.\n",
    "\n",
    "The average price for a bottle of wine in the dataset is $35.36. Additionally, the standard deviation is high (41.02), indicating a wide dispersion of prices around the mean.\n",
    "    -The range for prices was from $4 to $3,300 \n",
    "    -We believe the pressence of outliers inlfluenced the values for the mean and standard deviation\n",
    "\n",
    "We found the points given to the most expensive wine and the cheapest\n",
    "    -The most expensive wine got 88 points while the cheapest wines averaged at 84"
   ]
  },
  {
   "cell_type": "code",
   "execution_count": 35,
   "id": "803f3a26",
   "metadata": {
    "scrolled": true
   },
   "outputs": [
    {
     "data": {
      "text/plain": [
       "country          59\n",
       "description       0\n",
       "points            0\n",
       "price          8331\n",
       "province         59\n",
       "title             0\n",
       "variety           1\n",
       "winery            0\n",
       "year              0\n",
       "dtype: int64"
      ]
     },
     "execution_count": 35,
     "metadata": {},
     "output_type": "execute_result"
    }
   ],
   "source": [
    "wine_data.isna().sum() #No Nan values in description, few in country, only 1 in variety"
   ]
  },
  {
   "cell_type": "code",
   "execution_count": 36,
   "id": "261ec240",
   "metadata": {},
   "outputs": [],
   "source": [
    "#Should we drop price? No, it is still interesting to mention the range."
   ]
  },
  {
   "cell_type": "code",
   "execution_count": 37,
   "id": "ef98c3f9",
   "metadata": {
    "scrolled": false
   },
   "outputs": [
    {
     "data": {
      "text/html": [
       "<div>\n",
       "<style scoped>\n",
       "    .dataframe tbody tr th:only-of-type {\n",
       "        vertical-align: middle;\n",
       "    }\n",
       "\n",
       "    .dataframe tbody tr th {\n",
       "        vertical-align: top;\n",
       "    }\n",
       "\n",
       "    .dataframe thead th {\n",
       "        text-align: right;\n",
       "    }\n",
       "</style>\n",
       "<table border=\"1\" class=\"dataframe\">\n",
       "  <thead>\n",
       "    <tr style=\"text-align: right;\">\n",
       "      <th></th>\n",
       "      <th>country</th>\n",
       "      <th>description</th>\n",
       "      <th>points</th>\n",
       "      <th>price</th>\n",
       "      <th>province</th>\n",
       "      <th>title</th>\n",
       "      <th>variety</th>\n",
       "      <th>winery</th>\n",
       "      <th>year</th>\n",
       "    </tr>\n",
       "  </thead>\n",
       "  <tbody>\n",
       "    <tr>\n",
       "      <th>80290</th>\n",
       "      <td>France</td>\n",
       "      <td>This ripe wine shows plenty of blackberry frui...</td>\n",
       "      <td>88</td>\n",
       "      <td>3300.0</td>\n",
       "      <td>Bordeaux</td>\n",
       "      <td>Château les Ormes Sorbet 2013  Médoc</td>\n",
       "      <td>Bordeaux-style Red Blend</td>\n",
       "      <td>Château les Ormes Sorbet</td>\n",
       "      <td>2013</td>\n",
       "    </tr>\n",
       "  </tbody>\n",
       "</table>\n",
       "</div>"
      ],
      "text/plain": [
       "      country                                        description  points  \\\n",
       "80290  France  This ripe wine shows plenty of blackberry frui...      88   \n",
       "\n",
       "        price  province                                 title  \\\n",
       "80290  3300.0  Bordeaux  Château les Ormes Sorbet 2013  Médoc   \n",
       "\n",
       "                        variety                    winery  year  \n",
       "80290  Bordeaux-style Red Blend  Château les Ormes Sorbet  2013  "
      ]
     },
     "metadata": {},
     "output_type": "display_data"
    }
   ],
   "source": [
    "#Find the wine bottle with the highest price\n",
    "\n",
    "max_price = wine_data[wine_data['price']==wine_data['price'].max()]\n",
    "display(max_price)"
   ]
  },
  {
   "cell_type": "code",
   "execution_count": 38,
   "id": "5bb4dc73",
   "metadata": {},
   "outputs": [
    {
     "data": {
      "text/html": [
       "<div>\n",
       "<style scoped>\n",
       "    .dataframe tbody tr th:only-of-type {\n",
       "        vertical-align: middle;\n",
       "    }\n",
       "\n",
       "    .dataframe tbody tr th {\n",
       "        vertical-align: top;\n",
       "    }\n",
       "\n",
       "    .dataframe thead th {\n",
       "        text-align: right;\n",
       "    }\n",
       "</style>\n",
       "<table border=\"1\" class=\"dataframe\">\n",
       "  <thead>\n",
       "    <tr style=\"text-align: right;\">\n",
       "      <th></th>\n",
       "      <th>country</th>\n",
       "      <th>description</th>\n",
       "      <th>points</th>\n",
       "      <th>price</th>\n",
       "      <th>province</th>\n",
       "      <th>title</th>\n",
       "      <th>variety</th>\n",
       "      <th>winery</th>\n",
       "      <th>year</th>\n",
       "    </tr>\n",
       "  </thead>\n",
       "  <tbody>\n",
       "    <tr>\n",
       "      <th>1987</th>\n",
       "      <td>Spain</td>\n",
       "      <td>Berry and cherry aromas are surprisingly sturd...</td>\n",
       "      <td>85</td>\n",
       "      <td>4.0</td>\n",
       "      <td>Central Spain</td>\n",
       "      <td>Felix Solis 2013 Flirty Bird Syrah (Vino de la...</td>\n",
       "      <td>Syrah</td>\n",
       "      <td>Felix Solis</td>\n",
       "      <td>2013</td>\n",
       "    </tr>\n",
       "    <tr>\n",
       "      <th>20484</th>\n",
       "      <td>US</td>\n",
       "      <td>Fruity, soft and rather sweet, this wine smell...</td>\n",
       "      <td>85</td>\n",
       "      <td>4.0</td>\n",
       "      <td>California</td>\n",
       "      <td>Dancing Coyote 2015 White (Clarksburg)</td>\n",
       "      <td>White Blend</td>\n",
       "      <td>Dancing Coyote</td>\n",
       "      <td>2015</td>\n",
       "    </tr>\n",
       "    <tr>\n",
       "      <th>29553</th>\n",
       "      <td>Argentina</td>\n",
       "      <td>Crimson in color but also translucent, with a ...</td>\n",
       "      <td>84</td>\n",
       "      <td>4.0</td>\n",
       "      <td>Mendoza Province</td>\n",
       "      <td>Broke Ass 2009 Red Malbec-Syrah (Mendoza)</td>\n",
       "      <td>Malbec-Syrah</td>\n",
       "      <td>Broke Ass</td>\n",
       "      <td>2009</td>\n",
       "    </tr>\n",
       "    <tr>\n",
       "      <th>31530</th>\n",
       "      <td>US</td>\n",
       "      <td>Packaged in a cute yellow recyclable Tetrapak,...</td>\n",
       "      <td>84</td>\n",
       "      <td>4.0</td>\n",
       "      <td>California</td>\n",
       "      <td>Bandit NV Chardonnay (California)</td>\n",
       "      <td>Chardonnay</td>\n",
       "      <td>Bandit</td>\n",
       "      <td>nan</td>\n",
       "    </tr>\n",
       "    <tr>\n",
       "      <th>59507</th>\n",
       "      <td>US</td>\n",
       "      <td>Sweet and fruity, this canned wine feels soft ...</td>\n",
       "      <td>83</td>\n",
       "      <td>4.0</td>\n",
       "      <td>California</td>\n",
       "      <td>Pam's Cuties NV Unoaked Chardonnay (California)</td>\n",
       "      <td>Chardonnay</td>\n",
       "      <td>Pam's Cuties</td>\n",
       "      <td>nan</td>\n",
       "    </tr>\n",
       "  </tbody>\n",
       "</table>\n",
       "</div>"
      ],
      "text/plain": [
       "         country                                        description  points  \\\n",
       "1987       Spain  Berry and cherry aromas are surprisingly sturd...      85   \n",
       "20484         US  Fruity, soft and rather sweet, this wine smell...      85   \n",
       "29553  Argentina  Crimson in color but also translucent, with a ...      84   \n",
       "31530         US  Packaged in a cute yellow recyclable Tetrapak,...      84   \n",
       "59507         US  Sweet and fruity, this canned wine feels soft ...      83   \n",
       "\n",
       "       price          province  \\\n",
       "1987     4.0     Central Spain   \n",
       "20484    4.0        California   \n",
       "29553    4.0  Mendoza Province   \n",
       "31530    4.0        California   \n",
       "59507    4.0        California   \n",
       "\n",
       "                                                   title       variety  \\\n",
       "1987   Felix Solis 2013 Flirty Bird Syrah (Vino de la...         Syrah   \n",
       "20484             Dancing Coyote 2015 White (Clarksburg)   White Blend   \n",
       "29553          Broke Ass 2009 Red Malbec-Syrah (Mendoza)  Malbec-Syrah   \n",
       "31530                  Bandit NV Chardonnay (California)    Chardonnay   \n",
       "59507    Pam's Cuties NV Unoaked Chardonnay (California)    Chardonnay   \n",
       "\n",
       "               winery  year  \n",
       "1987      Felix Solis  2013  \n",
       "20484  Dancing Coyote  2015  \n",
       "29553       Broke Ass  2009  \n",
       "31530          Bandit   nan  \n",
       "59507    Pam's Cuties   nan  "
      ]
     },
     "metadata": {},
     "output_type": "display_data"
    },
    {
     "data": {
      "text/plain": [
       "84"
      ]
     },
     "execution_count": 38,
     "metadata": {},
     "output_type": "execute_result"
    }
   ],
   "source": [
    "#Find the wine with the lowest price\n",
    "\n",
    "min_price = wine_data[wine_data['price']==wine_data['price'].min()]\n",
    "display(min_price.head())\n",
    "int(min_price['points'].mean())"
   ]
  },
  {
   "cell_type": "markdown",
   "id": "d17deeb5",
   "metadata": {},
   "source": [
    "# --------------------------------------------------------------------------------------"
   ]
  },
  {
   "cell_type": "code",
   "execution_count": 39,
   "id": "bbd0e780",
   "metadata": {},
   "outputs": [],
   "source": [
    "vivino_red_data = pd.read_csv(\"Red.csv\", encoding='latin-1')"
   ]
  },
  {
   "cell_type": "code",
   "execution_count": 40,
   "id": "d80430ad",
   "metadata": {},
   "outputs": [
    {
     "data": {
      "text/plain": [
       "(8666, 8)"
      ]
     },
     "execution_count": 40,
     "metadata": {},
     "output_type": "execute_result"
    }
   ],
   "source": [
    "vivino_red_data.shape"
   ]
  },
  {
   "cell_type": "code",
   "execution_count": 41,
   "id": "d103f4e0",
   "metadata": {},
   "outputs": [],
   "source": [
    "#vivino_red_data"
   ]
  },
  {
   "cell_type": "code",
   "execution_count": 42,
   "id": "bd1a93b3",
   "metadata": {},
   "outputs": [],
   "source": [
    "vivino_red_data.rename(columns={'ï»¿Name': 'Name'}, inplace=True)"
   ]
  },
  {
   "cell_type": "code",
   "execution_count": 43,
   "id": "ed7162f3",
   "metadata": {},
   "outputs": [],
   "source": [
    "#vivino_red_data"
   ]
  },
  {
   "cell_type": "code",
   "execution_count": 44,
   "id": "4130a988",
   "metadata": {},
   "outputs": [],
   "source": [
    "vivino_white_data = pd.read_csv(\"White.csv\", encoding='latin-1')"
   ]
  },
  {
   "cell_type": "code",
   "execution_count": 45,
   "id": "753016b2",
   "metadata": {},
   "outputs": [
    {
     "data": {
      "text/plain": [
       "(3764, 8)"
      ]
     },
     "execution_count": 45,
     "metadata": {},
     "output_type": "execute_result"
    }
   ],
   "source": [
    "vivino_white_data.shape"
   ]
  },
  {
   "cell_type": "code",
   "execution_count": 46,
   "id": "7e77d9b7",
   "metadata": {},
   "outputs": [],
   "source": [
    "#vivino_white_data"
   ]
  },
  {
   "cell_type": "code",
   "execution_count": 47,
   "id": "975b2cce",
   "metadata": {},
   "outputs": [],
   "source": [
    "vivino_white_data.rename(columns={'ï»¿Name': 'Name'}, inplace=True)\n",
    "#vivino_white_data"
   ]
  },
  {
   "cell_type": "code",
   "execution_count": 48,
   "id": "daca69bf",
   "metadata": {},
   "outputs": [],
   "source": [
    "vivino_rose_data = pd.read_csv(\"Rose.csv\", encoding='latin-1')"
   ]
  },
  {
   "cell_type": "code",
   "execution_count": 49,
   "id": "d8143253",
   "metadata": {},
   "outputs": [],
   "source": [
    "vivino_rose_data.rename(columns={'ï»¿Name': 'Name'}, inplace=True)"
   ]
  },
  {
   "cell_type": "code",
   "execution_count": 50,
   "id": "71b71cdc",
   "metadata": {},
   "outputs": [],
   "source": [
    "vivino_sparkling_data = pd.read_csv(\"Sparkling.csv\", encoding='latin-1')"
   ]
  },
  {
   "cell_type": "code",
   "execution_count": 51,
   "id": "7a2ca19a",
   "metadata": {},
   "outputs": [],
   "source": [
    "vivino_sparkling_data.rename(columns={'ï»¿Name': 'Name'}, inplace=True)"
   ]
  },
  {
   "cell_type": "code",
   "execution_count": 52,
   "id": "8940a380",
   "metadata": {
    "scrolled": true
   },
   "outputs": [],
   "source": [
    "vivino_data = pd.concat([vivino_red_data, vivino_white_data, vivino_rose_data, vivino_sparkling_data], axis=0)"
   ]
  },
  {
   "cell_type": "code",
   "execution_count": 53,
   "id": "d70db249",
   "metadata": {},
   "outputs": [
    {
     "data": {
      "text/plain": [
       "(13834, 8)"
      ]
     },
     "execution_count": 53,
     "metadata": {},
     "output_type": "execute_result"
    }
   ],
   "source": [
    "vivino_data.shape"
   ]
  },
  {
   "cell_type": "code",
   "execution_count": 54,
   "id": "95635849",
   "metadata": {},
   "outputs": [
    {
     "data": {
      "text/html": [
       "<div>\n",
       "<style scoped>\n",
       "    .dataframe tbody tr th:only-of-type {\n",
       "        vertical-align: middle;\n",
       "    }\n",
       "\n",
       "    .dataframe tbody tr th {\n",
       "        vertical-align: top;\n",
       "    }\n",
       "\n",
       "    .dataframe thead th {\n",
       "        text-align: right;\n",
       "    }\n",
       "</style>\n",
       "<table border=\"1\" class=\"dataframe\">\n",
       "  <thead>\n",
       "    <tr style=\"text-align: right;\">\n",
       "      <th></th>\n",
       "      <th>Name</th>\n",
       "      <th>Country</th>\n",
       "      <th>Region</th>\n",
       "      <th>Winery</th>\n",
       "      <th>Rating</th>\n",
       "      <th>NumberOfRatings</th>\n",
       "      <th>Price</th>\n",
       "      <th>Year</th>\n",
       "    </tr>\n",
       "  </thead>\n",
       "  <tbody>\n",
       "    <tr>\n",
       "      <th>0</th>\n",
       "      <td>Pomerol 2011</td>\n",
       "      <td>France</td>\n",
       "      <td>Pomerol</td>\n",
       "      <td>ChÃ¢teau La Providence</td>\n",
       "      <td>4.2</td>\n",
       "      <td>100</td>\n",
       "      <td>95.00</td>\n",
       "      <td>2011</td>\n",
       "    </tr>\n",
       "    <tr>\n",
       "      <th>1</th>\n",
       "      <td>Lirac 2017</td>\n",
       "      <td>France</td>\n",
       "      <td>Lirac</td>\n",
       "      <td>ChÃ¢teau Mont-Redon</td>\n",
       "      <td>4.3</td>\n",
       "      <td>100</td>\n",
       "      <td>15.50</td>\n",
       "      <td>2017</td>\n",
       "    </tr>\n",
       "    <tr>\n",
       "      <th>2</th>\n",
       "      <td>Erta e China Rosso di Toscana 2015</td>\n",
       "      <td>Italy</td>\n",
       "      <td>Toscana</td>\n",
       "      <td>Renzo Masi</td>\n",
       "      <td>3.9</td>\n",
       "      <td>100</td>\n",
       "      <td>7.45</td>\n",
       "      <td>2015</td>\n",
       "    </tr>\n",
       "    <tr>\n",
       "      <th>3</th>\n",
       "      <td>Bardolino 2019</td>\n",
       "      <td>Italy</td>\n",
       "      <td>Bardolino</td>\n",
       "      <td>Cavalchina</td>\n",
       "      <td>3.5</td>\n",
       "      <td>100</td>\n",
       "      <td>8.72</td>\n",
       "      <td>2019</td>\n",
       "    </tr>\n",
       "    <tr>\n",
       "      <th>4</th>\n",
       "      <td>Ried Scheibner Pinot Noir 2016</td>\n",
       "      <td>Austria</td>\n",
       "      <td>Carnuntum</td>\n",
       "      <td>Markowitsch</td>\n",
       "      <td>3.9</td>\n",
       "      <td>100</td>\n",
       "      <td>29.15</td>\n",
       "      <td>2016</td>\n",
       "    </tr>\n",
       "    <tr>\n",
       "      <th>...</th>\n",
       "      <td>...</td>\n",
       "      <td>...</td>\n",
       "      <td>...</td>\n",
       "      <td>...</td>\n",
       "      <td>...</td>\n",
       "      <td>...</td>\n",
       "      <td>...</td>\n",
       "      <td>...</td>\n",
       "    </tr>\n",
       "    <tr>\n",
       "      <th>1002</th>\n",
       "      <td>Special CuvÃ©e Brut AÃ¿ Champagne N.V.</td>\n",
       "      <td>France</td>\n",
       "      <td>Champagne</td>\n",
       "      <td>Bollinger</td>\n",
       "      <td>4.2</td>\n",
       "      <td>37765</td>\n",
       "      <td>46.00</td>\n",
       "      <td>N.V.</td>\n",
       "    </tr>\n",
       "    <tr>\n",
       "      <th>1003</th>\n",
       "      <td>Brut Premier Champagne N.V.</td>\n",
       "      <td>France</td>\n",
       "      <td>Champagne Premier Cru</td>\n",
       "      <td>Louis Roederer</td>\n",
       "      <td>4.2</td>\n",
       "      <td>40004</td>\n",
       "      <td>36.48</td>\n",
       "      <td>N.V.</td>\n",
       "    </tr>\n",
       "    <tr>\n",
       "      <th>1004</th>\n",
       "      <td>ImpÃ©rial Brut Champagne N.V.</td>\n",
       "      <td>France</td>\n",
       "      <td>Champagne</td>\n",
       "      <td>MoÃ«t &amp; Chandon</td>\n",
       "      <td>4.1</td>\n",
       "      <td>76037</td>\n",
       "      <td>40.61</td>\n",
       "      <td>N.V.</td>\n",
       "    </tr>\n",
       "    <tr>\n",
       "      <th>1005</th>\n",
       "      <td>Brut (Carte Jaune) Champagne N.V.</td>\n",
       "      <td>France</td>\n",
       "      <td>Champagne</td>\n",
       "      <td>Veuve Clicquot</td>\n",
       "      <td>4.2</td>\n",
       "      <td>86839</td>\n",
       "      <td>43.60</td>\n",
       "      <td>N.V.</td>\n",
       "    </tr>\n",
       "    <tr>\n",
       "      <th>1006</th>\n",
       "      <td>Brut Champagne N.V.</td>\n",
       "      <td>France</td>\n",
       "      <td>Champagne</td>\n",
       "      <td>Dom PÃ©rignon</td>\n",
       "      <td>4.6</td>\n",
       "      <td>94287</td>\n",
       "      <td>170.00</td>\n",
       "      <td>N.V.</td>\n",
       "    </tr>\n",
       "  </tbody>\n",
       "</table>\n",
       "<p>13834 rows × 8 columns</p>\n",
       "</div>"
      ],
      "text/plain": [
       "                                        Name  Country                 Region  \\\n",
       "0                               Pomerol 2011   France                Pomerol   \n",
       "1                                 Lirac 2017   France                  Lirac   \n",
       "2         Erta e China Rosso di Toscana 2015    Italy                Toscana   \n",
       "3                             Bardolino 2019    Italy              Bardolino   \n",
       "4             Ried Scheibner Pinot Noir 2016  Austria              Carnuntum   \n",
       "...                                      ...      ...                    ...   \n",
       "1002  Special CuvÃ©e Brut AÃ¿ Champagne N.V.   France              Champagne   \n",
       "1003             Brut Premier Champagne N.V.   France  Champagne Premier Cru   \n",
       "1004           ImpÃ©rial Brut Champagne N.V.   France              Champagne   \n",
       "1005       Brut (Carte Jaune) Champagne N.V.   France              Champagne   \n",
       "1006                     Brut Champagne N.V.   France              Champagne   \n",
       "\n",
       "                      Winery  Rating  NumberOfRatings   Price  Year  \n",
       "0     ChÃ¢teau La Providence     4.2              100   95.00  2011  \n",
       "1        ChÃ¢teau Mont-Redon     4.3              100   15.50  2017  \n",
       "2                 Renzo Masi     3.9              100    7.45  2015  \n",
       "3                 Cavalchina     3.5              100    8.72  2019  \n",
       "4                Markowitsch     3.9              100   29.15  2016  \n",
       "...                      ...     ...              ...     ...   ...  \n",
       "1002               Bollinger     4.2            37765   46.00  N.V.  \n",
       "1003          Louis Roederer     4.2            40004   36.48  N.V.  \n",
       "1004         MoÃ«t & Chandon     4.1            76037   40.61  N.V.  \n",
       "1005          Veuve Clicquot     4.2            86839   43.60  N.V.  \n",
       "1006           Dom PÃ©rignon     4.6            94287  170.00  N.V.  \n",
       "\n",
       "[13834 rows x 8 columns]"
      ]
     },
     "execution_count": 54,
     "metadata": {},
     "output_type": "execute_result"
    }
   ],
   "source": [
    "vivino_data"
   ]
  },
  {
   "cell_type": "code",
   "execution_count": 55,
   "id": "b1ef89d7",
   "metadata": {
    "scrolled": false
   },
   "outputs": [],
   "source": [
    "vivino_data['Name'] = vivino_data['Name'].str.extract(r'([^\\d]+)')"
   ]
  },
  {
   "cell_type": "code",
   "execution_count": 56,
   "id": "301fc79a",
   "metadata": {},
   "outputs": [],
   "source": [
    "vivino_data.drop(columns=['NumberOfRatings'], inplace = True)"
   ]
  },
  {
   "cell_type": "code",
   "execution_count": 57,
   "id": "a817a9d0",
   "metadata": {
    "scrolled": true
   },
   "outputs": [],
   "source": [
    "vivino_data.rename(columns= lambda x: x.lower(), inplace=True)\n",
    "vivino_data.rename(columns= lambda x: x.replace(\" \", \"_\"), inplace=True)"
   ]
  },
  {
   "cell_type": "code",
   "execution_count": 58,
   "id": "a7e8cfdc",
   "metadata": {},
   "outputs": [
    {
     "data": {
      "text/plain": [
       "0"
      ]
     },
     "execution_count": 58,
     "metadata": {},
     "output_type": "execute_result"
    }
   ],
   "source": [
    "vivino_data.duplicated().sum() #There are no rows completely duplicated"
   ]
  },
  {
   "cell_type": "code",
   "execution_count": 59,
   "id": "03268158",
   "metadata": {},
   "outputs": [
    {
     "data": {
      "text/plain": [
       "33"
      ]
     },
     "execution_count": 59,
     "metadata": {},
     "output_type": "execute_result"
    }
   ],
   "source": [
    "vivino_data.duplicated(subset= ['name', 'winery', 'year']).sum()"
   ]
  },
  {
   "cell_type": "code",
   "execution_count": 60,
   "id": "0047be12",
   "metadata": {},
   "outputs": [],
   "source": [
    "vivino_data.drop_duplicates(subset=['name', 'winery', 'year'], keep='first', inplace=True)"
   ]
  },
  {
   "cell_type": "code",
   "execution_count": 61,
   "id": "ec481e22",
   "metadata": {},
   "outputs": [],
   "source": [
    "#FUNCTION TO EXTRACT VARIETY FROM NAME IN VIVINO DF\n",
    "\n",
    "def name_wines(string):\n",
    "    for item in string:\n",
    "        if \"Pinot Noir\" in string:\n",
    "            return \"Pinot Noir\"\n",
    "        elif \"Sauvignon Blanc\" in string:\n",
    "            return \"Sauvignon Blanc\"\n",
    "        elif \"Pinot Gris\" in string:\n",
    "            return \"Pinot Gris\"\n",
    "        elif \"Pinot Grigio\" in string:\n",
    "            return \"Pinot Grigio\"\n",
    "        elif \"Pinot Blanc\" in string:\n",
    "            return \"Pinot Blanc\"\n",
    "        elif \"Moscato\" in string:\n",
    "            return \"Moscato\"\n",
    "        elif \"Chardonnay\" in string:\n",
    "            return \"Chardonnay\"\n",
    "        elif \"Cabernet Franc\" in string:\n",
    "            return \"Cabernet Franc\"\n",
    "        elif \"Cabernet Sauvignon\" in string:\n",
    "            return \"Cabernet Sauvignon\"\n",
    "        elif \"Centesimino\" in string:\n",
    "            return \"Centesimino\"\n",
    "        elif \"Cabernet\" in string:\n",
    "            return \"Cabernet\"\n",
    "        elif \"Colorino\" in string:\n",
    "            return \"Colorino\"\n",
    "        elif \"Jampal\" in string:\n",
    "            return \"Jampal\"\n",
    "        elif \"Chancellor\" in string:\n",
    "            return \"Chancellor\"\n",
    "        elif \"Favorita\" in string:\n",
    "            return \"Favorita\"\n",
    "        elif \"Sirica\" in string:\n",
    "            return \"Sirica\"\n",
    "        elif \"Red Blend\" in string:\n",
    "            return \"Red Blend\"\n",
    "        elif \"Pomerol\" in string:\n",
    "            return \"Pomerol\"\n",
    "        elif \"Riesling\" in string:\n",
    "            return \"Riesling\"\n",
    "        elif \"Rosé\" in string:\n",
    "            return \"Rosé\"\n",
    "        elif \"Primitivo\" in string:\n",
    "            return \"Primitivo\"\n",
    "        elif \"Zinfandel\" in string:\n",
    "            return \"Zinfandel\"\n",
    "        elif \"Rosato\" in string:\n",
    "            return \"Rosato\"\n",
    "        elif \"Graciano\" in string:\n",
    "            return \"Graciano\"\n",
    "        elif \"Crianza\" in string:\n",
    "            return \"Crianza\"\n",
    "        elif \"Azul\" in string:\n",
    "            return \"Azul\"\n",
    "        elif \"Alleanza\" in string:\n",
    "            return \"Alleanza\"\n",
    "        elif \"Barbera\" in string:\n",
    "            return \"Barbera\"\n",
    "        elif \"Meritage\" in string:\n",
    "            return \"Meritage\"\n",
    "        elif \"Tinto\" in string:\n",
    "            return \"Tinto\"\n",
    "        elif \"Blaufränkisch\" in string:\n",
    "            return \"Blaufränkisch\"\n",
    "        elif \"Viognier\" in string:\n",
    "            return \"Viognier\"\n",
    "        elif \"Syrah\" in string:\n",
    "            return \"Syrah\"\n",
    "        elif \"Tempus\" in string:\n",
    "            return \"Tempus\"\n",
    "        elif \"Pannobile\" in string:\n",
    "            return \"Pannobile\"\n",
    "        elif \"Ventoux\" in string:\n",
    "            return \"Ventoux\"\n",
    "        elif \"Nero\" in string:\n",
    "            return \"Nero\"\n",
    "        elif \"Malbec\" in string:\n",
    "            return \"Malbec\"\n",
    "        elif \"Verdejo\" in string:\n",
    "            return \"Verdejo\"\n",
    "        elif \"Sestal\" in string:\n",
    "            return \"Sestal\"\n",
    "        elif \"Verdejo\" in string:\n",
    "            return \"Verdejo\"\n",
    "        elif \"Prima\" in string:\n",
    "            return \"Prima\"\n",
    "        elif \"Prosecco\" in string:\n",
    "            return \"Prosecco\"\n",
    "        elif \"Champagne\" in string:\n",
    "            return \"Champagne\"\n",
    "        elif \"Rosso\" in string:\n",
    "            return \"Rosso\"\n",
    "        elif \"Maestro\" in string:\n",
    "            return \"Maestro\"\n",
    "        elif \"Chianti\" in string:\n",
    "            return \"Chianti\"\n",
    "        elif \"Red Blend\" in string:\n",
    "            return \"Red Blend\"\n",
    "        elif \"Cabernet\" in string:\n",
    "            return \"Cabernet\"\n",
    "        elif \"Gigondas\" in string:\n",
    "            return \"Gigondas\"\n",
    "        elif \"Fronsac\" in string:\n",
    "            return \"Fronsac\"\n",
    "        elif \"Bordeaux\" in string:\n",
    "            return \"Bordeaux\"\n",
    "        elif \"Haut\" in string:\n",
    "            return \"Haut\"\n",
    "        elif \"Muscat\" in string:\n",
    "            return \"Muscat\"\n",
    "        elif \"Sangiovese\" in string:\n",
    "            return \"Sangiovese\"\n",
    "        elif \"Tempranilo\" in string:\n",
    "            return \"Tempranilo\"\n",
    "        else: \n",
    "            return string"
   ]
  },
  {
   "cell_type": "code",
   "execution_count": 62,
   "id": "01b799f6",
   "metadata": {},
   "outputs": [],
   "source": [
    "vivino_data['variety'] = vivino_data['name']\n",
    "vivino_data['variety'].astype(str)\n",
    "vivino_data['variety'] = vivino_data['variety'].str.strip()\n",
    "vivino_data['variety'] = vivino_data['variety'].fillna('').astype(str)\n",
    "vivino_data['variety'] = vivino_data['variety'].apply(name_wines)"
   ]
  },
  {
   "cell_type": "code",
   "execution_count": 63,
   "id": "debe64a0",
   "metadata": {},
   "outputs": [
    {
     "data": {
      "text/html": [
       "<div>\n",
       "<style scoped>\n",
       "    .dataframe tbody tr th:only-of-type {\n",
       "        vertical-align: middle;\n",
       "    }\n",
       "\n",
       "    .dataframe tbody tr th {\n",
       "        vertical-align: top;\n",
       "    }\n",
       "\n",
       "    .dataframe thead th {\n",
       "        text-align: right;\n",
       "    }\n",
       "</style>\n",
       "<table border=\"1\" class=\"dataframe\">\n",
       "  <thead>\n",
       "    <tr style=\"text-align: right;\">\n",
       "      <th></th>\n",
       "      <th>name</th>\n",
       "      <th>country</th>\n",
       "      <th>region</th>\n",
       "      <th>winery</th>\n",
       "      <th>rating</th>\n",
       "      <th>price</th>\n",
       "      <th>year</th>\n",
       "      <th>variety</th>\n",
       "    </tr>\n",
       "  </thead>\n",
       "  <tbody>\n",
       "    <tr>\n",
       "      <th>0</th>\n",
       "      <td>Pomerol</td>\n",
       "      <td>France</td>\n",
       "      <td>Pomerol</td>\n",
       "      <td>ChÃ¢teau La Providence</td>\n",
       "      <td>4.2</td>\n",
       "      <td>95.00</td>\n",
       "      <td>2011</td>\n",
       "      <td>Pomerol</td>\n",
       "    </tr>\n",
       "    <tr>\n",
       "      <th>1</th>\n",
       "      <td>Lirac</td>\n",
       "      <td>France</td>\n",
       "      <td>Lirac</td>\n",
       "      <td>ChÃ¢teau Mont-Redon</td>\n",
       "      <td>4.3</td>\n",
       "      <td>15.50</td>\n",
       "      <td>2017</td>\n",
       "      <td>Lirac</td>\n",
       "    </tr>\n",
       "    <tr>\n",
       "      <th>2</th>\n",
       "      <td>Erta e China Rosso di Toscana</td>\n",
       "      <td>Italy</td>\n",
       "      <td>Toscana</td>\n",
       "      <td>Renzo Masi</td>\n",
       "      <td>3.9</td>\n",
       "      <td>7.45</td>\n",
       "      <td>2015</td>\n",
       "      <td>Rosso</td>\n",
       "    </tr>\n",
       "    <tr>\n",
       "      <th>3</th>\n",
       "      <td>Bardolino</td>\n",
       "      <td>Italy</td>\n",
       "      <td>Bardolino</td>\n",
       "      <td>Cavalchina</td>\n",
       "      <td>3.5</td>\n",
       "      <td>8.72</td>\n",
       "      <td>2019</td>\n",
       "      <td>Bardolino</td>\n",
       "    </tr>\n",
       "    <tr>\n",
       "      <th>4</th>\n",
       "      <td>Ried Scheibner Pinot Noir</td>\n",
       "      <td>Austria</td>\n",
       "      <td>Carnuntum</td>\n",
       "      <td>Markowitsch</td>\n",
       "      <td>3.9</td>\n",
       "      <td>29.15</td>\n",
       "      <td>2016</td>\n",
       "      <td>Pinot Noir</td>\n",
       "    </tr>\n",
       "    <tr>\n",
       "      <th>...</th>\n",
       "      <td>...</td>\n",
       "      <td>...</td>\n",
       "      <td>...</td>\n",
       "      <td>...</td>\n",
       "      <td>...</td>\n",
       "      <td>...</td>\n",
       "      <td>...</td>\n",
       "      <td>...</td>\n",
       "    </tr>\n",
       "    <tr>\n",
       "      <th>1002</th>\n",
       "      <td>Special CuvÃ©e Brut AÃ¿ Champagne N.V.</td>\n",
       "      <td>France</td>\n",
       "      <td>Champagne</td>\n",
       "      <td>Bollinger</td>\n",
       "      <td>4.2</td>\n",
       "      <td>46.00</td>\n",
       "      <td>N.V.</td>\n",
       "      <td>Champagne</td>\n",
       "    </tr>\n",
       "    <tr>\n",
       "      <th>1003</th>\n",
       "      <td>Brut Premier Champagne N.V.</td>\n",
       "      <td>France</td>\n",
       "      <td>Champagne Premier Cru</td>\n",
       "      <td>Louis Roederer</td>\n",
       "      <td>4.2</td>\n",
       "      <td>36.48</td>\n",
       "      <td>N.V.</td>\n",
       "      <td>Champagne</td>\n",
       "    </tr>\n",
       "    <tr>\n",
       "      <th>1004</th>\n",
       "      <td>ImpÃ©rial Brut Champagne N.V.</td>\n",
       "      <td>France</td>\n",
       "      <td>Champagne</td>\n",
       "      <td>MoÃ«t &amp; Chandon</td>\n",
       "      <td>4.1</td>\n",
       "      <td>40.61</td>\n",
       "      <td>N.V.</td>\n",
       "      <td>Champagne</td>\n",
       "    </tr>\n",
       "    <tr>\n",
       "      <th>1005</th>\n",
       "      <td>Brut (Carte Jaune) Champagne N.V.</td>\n",
       "      <td>France</td>\n",
       "      <td>Champagne</td>\n",
       "      <td>Veuve Clicquot</td>\n",
       "      <td>4.2</td>\n",
       "      <td>43.60</td>\n",
       "      <td>N.V.</td>\n",
       "      <td>Champagne</td>\n",
       "    </tr>\n",
       "    <tr>\n",
       "      <th>1006</th>\n",
       "      <td>Brut Champagne N.V.</td>\n",
       "      <td>France</td>\n",
       "      <td>Champagne</td>\n",
       "      <td>Dom PÃ©rignon</td>\n",
       "      <td>4.6</td>\n",
       "      <td>170.00</td>\n",
       "      <td>N.V.</td>\n",
       "      <td>Champagne</td>\n",
       "    </tr>\n",
       "  </tbody>\n",
       "</table>\n",
       "<p>13801 rows × 8 columns</p>\n",
       "</div>"
      ],
      "text/plain": [
       "                                        name  country                 region  \\\n",
       "0                                   Pomerol    France                Pomerol   \n",
       "1                                     Lirac    France                  Lirac   \n",
       "2             Erta e China Rosso di Toscana     Italy                Toscana   \n",
       "3                                 Bardolino     Italy              Bardolino   \n",
       "4                 Ried Scheibner Pinot Noir   Austria              Carnuntum   \n",
       "...                                      ...      ...                    ...   \n",
       "1002  Special CuvÃ©e Brut AÃ¿ Champagne N.V.   France              Champagne   \n",
       "1003             Brut Premier Champagne N.V.   France  Champagne Premier Cru   \n",
       "1004           ImpÃ©rial Brut Champagne N.V.   France              Champagne   \n",
       "1005       Brut (Carte Jaune) Champagne N.V.   France              Champagne   \n",
       "1006                     Brut Champagne N.V.   France              Champagne   \n",
       "\n",
       "                      winery  rating   price  year     variety  \n",
       "0     ChÃ¢teau La Providence     4.2   95.00  2011     Pomerol  \n",
       "1        ChÃ¢teau Mont-Redon     4.3   15.50  2017       Lirac  \n",
       "2                 Renzo Masi     3.9    7.45  2015       Rosso  \n",
       "3                 Cavalchina     3.5    8.72  2019   Bardolino  \n",
       "4                Markowitsch     3.9   29.15  2016  Pinot Noir  \n",
       "...                      ...     ...     ...   ...         ...  \n",
       "1002               Bollinger     4.2   46.00  N.V.   Champagne  \n",
       "1003          Louis Roederer     4.2   36.48  N.V.   Champagne  \n",
       "1004         MoÃ«t & Chandon     4.1   40.61  N.V.   Champagne  \n",
       "1005          Veuve Clicquot     4.2   43.60  N.V.   Champagne  \n",
       "1006           Dom PÃ©rignon     4.6  170.00  N.V.   Champagne  \n",
       "\n",
       "[13801 rows x 8 columns]"
      ]
     },
     "execution_count": 63,
     "metadata": {},
     "output_type": "execute_result"
    }
   ],
   "source": [
    "vivino_data"
   ]
  },
  {
   "cell_type": "code",
   "execution_count": 64,
   "id": "5269e28a",
   "metadata": {
    "scrolled": true
   },
   "outputs": [
    {
     "data": {
      "text/plain": [
       "name        object\n",
       "country     object\n",
       "region      object\n",
       "winery      object\n",
       "rating     float64\n",
       "price      float64\n",
       "year        object\n",
       "variety     object\n",
       "dtype: object"
      ]
     },
     "execution_count": 64,
     "metadata": {},
     "output_type": "execute_result"
    }
   ],
   "source": [
    "vivino_data.dtypes"
   ]
  },
  {
   "cell_type": "markdown",
   "id": "61cc5e84",
   "metadata": {},
   "source": [
    "#### Categorical Data: \n",
    "Name, Country, Region, Winery, Year\n",
    "\n",
    "#### Numerical Data: \n",
    "Rating, Price"
   ]
  },
  {
   "cell_type": "code",
   "execution_count": 65,
   "id": "2bd33b5d",
   "metadata": {
    "scrolled": true
   },
   "outputs": [
    {
     "data": {
      "text/html": [
       "<div>\n",
       "<style scoped>\n",
       "    .dataframe tbody tr th:only-of-type {\n",
       "        vertical-align: middle;\n",
       "    }\n",
       "\n",
       "    .dataframe tbody tr th {\n",
       "        vertical-align: top;\n",
       "    }\n",
       "\n",
       "    .dataframe thead th {\n",
       "        text-align: right;\n",
       "    }\n",
       "</style>\n",
       "<table border=\"1\" class=\"dataframe\">\n",
       "  <thead>\n",
       "    <tr style=\"text-align: right;\">\n",
       "      <th></th>\n",
       "      <th>name</th>\n",
       "      <th>country</th>\n",
       "      <th>region</th>\n",
       "      <th>winery</th>\n",
       "      <th>year</th>\n",
       "      <th>variety</th>\n",
       "    </tr>\n",
       "  </thead>\n",
       "  <tbody>\n",
       "    <tr>\n",
       "      <th>count</th>\n",
       "      <td>13801</td>\n",
       "      <td>13801</td>\n",
       "      <td>13801</td>\n",
       "      <td>13801</td>\n",
       "      <td>13801</td>\n",
       "      <td>13798</td>\n",
       "    </tr>\n",
       "    <tr>\n",
       "      <th>unique</th>\n",
       "      <td>7867</td>\n",
       "      <td>33</td>\n",
       "      <td>860</td>\n",
       "      <td>3505</td>\n",
       "      <td>34</td>\n",
       "      <td>5058</td>\n",
       "    </tr>\n",
       "    <tr>\n",
       "      <th>top</th>\n",
       "      <td>Chardonnay</td>\n",
       "      <td>Italy</td>\n",
       "      <td>Rioja</td>\n",
       "      <td>Markus Molitor</td>\n",
       "      <td>2018</td>\n",
       "      <td>Riesling</td>\n",
       "    </tr>\n",
       "    <tr>\n",
       "      <th>freq</th>\n",
       "      <td>175</td>\n",
       "      <td>3913</td>\n",
       "      <td>385</td>\n",
       "      <td>73</td>\n",
       "      <td>2718</td>\n",
       "      <td>690</td>\n",
       "    </tr>\n",
       "  </tbody>\n",
       "</table>\n",
       "</div>"
      ],
      "text/plain": [
       "               name country region          winery   year   variety\n",
       "count         13801   13801  13801           13801  13801     13798\n",
       "unique         7867      33    860            3505     34      5058\n",
       "top     Chardonnay    Italy  Rioja  Markus Molitor   2018  Riesling\n",
       "freq            175    3913    385              73   2718       690"
      ]
     },
     "execution_count": 65,
     "metadata": {},
     "output_type": "execute_result"
    }
   ],
   "source": [
    "vivino_data.describe(include='object')"
   ]
  },
  {
   "cell_type": "code",
   "execution_count": 66,
   "id": "b07e59b1",
   "metadata": {
    "scrolled": true
   },
   "outputs": [
    {
     "data": {
      "text/html": [
       "<div>\n",
       "<style scoped>\n",
       "    .dataframe tbody tr th:only-of-type {\n",
       "        vertical-align: middle;\n",
       "    }\n",
       "\n",
       "    .dataframe tbody tr th {\n",
       "        vertical-align: top;\n",
       "    }\n",
       "\n",
       "    .dataframe thead th {\n",
       "        text-align: right;\n",
       "    }\n",
       "</style>\n",
       "<table border=\"1\" class=\"dataframe\">\n",
       "  <thead>\n",
       "    <tr style=\"text-align: right;\">\n",
       "      <th></th>\n",
       "      <th>rating</th>\n",
       "      <th>price</th>\n",
       "    </tr>\n",
       "  </thead>\n",
       "  <tbody>\n",
       "    <tr>\n",
       "      <th>count</th>\n",
       "      <td>13801.000000</td>\n",
       "      <td>13801.000000</td>\n",
       "    </tr>\n",
       "    <tr>\n",
       "      <th>mean</th>\n",
       "      <td>3.865510</td>\n",
       "      <td>33.010346</td>\n",
       "    </tr>\n",
       "    <tr>\n",
       "      <th>std</th>\n",
       "      <td>0.296585</td>\n",
       "      <td>70.931123</td>\n",
       "    </tr>\n",
       "    <tr>\n",
       "      <th>min</th>\n",
       "      <td>2.200000</td>\n",
       "      <td>3.150000</td>\n",
       "    </tr>\n",
       "    <tr>\n",
       "      <th>25%</th>\n",
       "      <td>3.700000</td>\n",
       "      <td>9.900000</td>\n",
       "    </tr>\n",
       "    <tr>\n",
       "      <th>50%</th>\n",
       "      <td>3.900000</td>\n",
       "      <td>15.950000</td>\n",
       "    </tr>\n",
       "    <tr>\n",
       "      <th>75%</th>\n",
       "      <td>4.100000</td>\n",
       "      <td>32.500000</td>\n",
       "    </tr>\n",
       "    <tr>\n",
       "      <th>max</th>\n",
       "      <td>4.900000</td>\n",
       "      <td>3410.790000</td>\n",
       "    </tr>\n",
       "  </tbody>\n",
       "</table>\n",
       "</div>"
      ],
      "text/plain": [
       "             rating         price\n",
       "count  13801.000000  13801.000000\n",
       "mean       3.865510     33.010346\n",
       "std        0.296585     70.931123\n",
       "min        2.200000      3.150000\n",
       "25%        3.700000      9.900000\n",
       "50%        3.900000     15.950000\n",
       "75%        4.100000     32.500000\n",
       "max        4.900000   3410.790000"
      ]
     },
     "execution_count": 66,
     "metadata": {},
     "output_type": "execute_result"
    }
   ],
   "source": [
    "vivino_data.describe()"
   ]
  },
  {
   "cell_type": "code",
   "execution_count": 67,
   "id": "3f9e02cd",
   "metadata": {},
   "outputs": [
    {
     "data": {
      "text/html": [
       "<div>\n",
       "<style scoped>\n",
       "    .dataframe tbody tr th:only-of-type {\n",
       "        vertical-align: middle;\n",
       "    }\n",
       "\n",
       "    .dataframe tbody tr th {\n",
       "        vertical-align: top;\n",
       "    }\n",
       "\n",
       "    .dataframe thead th {\n",
       "        text-align: right;\n",
       "    }\n",
       "</style>\n",
       "<table border=\"1\" class=\"dataframe\">\n",
       "  <thead>\n",
       "    <tr style=\"text-align: right;\">\n",
       "      <th></th>\n",
       "      <th>name</th>\n",
       "      <th>country</th>\n",
       "      <th>region</th>\n",
       "      <th>winery</th>\n",
       "      <th>rating</th>\n",
       "      <th>price</th>\n",
       "      <th>year</th>\n",
       "      <th>variety</th>\n",
       "    </tr>\n",
       "  </thead>\n",
       "  <tbody>\n",
       "    <tr>\n",
       "      <th>2344</th>\n",
       "      <td>Pomerol</td>\n",
       "      <td>France</td>\n",
       "      <td>Pomerol</td>\n",
       "      <td>PÃ©trus</td>\n",
       "      <td>4.7</td>\n",
       "      <td>3410.79</td>\n",
       "      <td>2012</td>\n",
       "      <td>Pomerol</td>\n",
       "    </tr>\n",
       "  </tbody>\n",
       "</table>\n",
       "</div>"
      ],
      "text/plain": [
       "          name country   region   winery  rating    price  year  variety\n",
       "2344  Pomerol   France  Pomerol  PÃ©trus     4.7  3410.79  2012  Pomerol"
      ]
     },
     "metadata": {},
     "output_type": "display_data"
    }
   ],
   "source": [
    "#Find the wine with the highest price\n",
    "\n",
    "vivino_max_price = vivino_data[vivino_data['price']==vivino_data['price'].max()]\n",
    "display(vivino_max_price)"
   ]
  },
  {
   "cell_type": "code",
   "execution_count": 68,
   "id": "ac262dfa",
   "metadata": {
    "scrolled": true
   },
   "outputs": [
    {
     "data": {
      "text/html": [
       "<div>\n",
       "<style scoped>\n",
       "    .dataframe tbody tr th:only-of-type {\n",
       "        vertical-align: middle;\n",
       "    }\n",
       "\n",
       "    .dataframe tbody tr th {\n",
       "        vertical-align: top;\n",
       "    }\n",
       "\n",
       "    .dataframe thead th {\n",
       "        text-align: right;\n",
       "    }\n",
       "</style>\n",
       "<table border=\"1\" class=\"dataframe\">\n",
       "  <thead>\n",
       "    <tr style=\"text-align: right;\">\n",
       "      <th></th>\n",
       "      <th>name</th>\n",
       "      <th>country</th>\n",
       "      <th>region</th>\n",
       "      <th>winery</th>\n",
       "      <th>rating</th>\n",
       "      <th>price</th>\n",
       "      <th>year</th>\n",
       "      <th>variety</th>\n",
       "    </tr>\n",
       "  </thead>\n",
       "  <tbody>\n",
       "    <tr>\n",
       "      <th>100</th>\n",
       "      <td>Frizzantino Dolce N.V.</td>\n",
       "      <td>Italy</td>\n",
       "      <td>Emilia</td>\n",
       "      <td>Gualtieri</td>\n",
       "      <td>4.2</td>\n",
       "      <td>3.15</td>\n",
       "      <td>N.V.</td>\n",
       "      <td>Frizzantino Dolce N.V.</td>\n",
       "    </tr>\n",
       "    <tr>\n",
       "      <th>261</th>\n",
       "      <td>Lambrusco dellâEmilia Dolce N.V.</td>\n",
       "      <td>Italy</td>\n",
       "      <td>Emilia</td>\n",
       "      <td>Gualtieri</td>\n",
       "      <td>3.8</td>\n",
       "      <td>3.15</td>\n",
       "      <td>N.V.</td>\n",
       "      <td>Lambrusco dellâEmilia Dolce N.V.</td>\n",
       "    </tr>\n",
       "  </tbody>\n",
       "</table>\n",
       "</div>"
      ],
      "text/plain": [
       "                                   name country  region     winery  rating  \\\n",
       "100              Frizzantino Dolce N.V.   Italy  Emilia  Gualtieri     4.2   \n",
       "261  Lambrusco dellâEmilia Dolce N.V.   Italy  Emilia  Gualtieri     3.8   \n",
       "\n",
       "     price  year                             variety  \n",
       "100   3.15  N.V.              Frizzantino Dolce N.V.  \n",
       "261   3.15  N.V.  Lambrusco dellâEmilia Dolce N.V.  "
      ]
     },
     "metadata": {},
     "output_type": "display_data"
    }
   ],
   "source": [
    "#Find the wine with the lowest price\n",
    "\n",
    "vivino_min_price = vivino_data[vivino_data['price']==vivino_data['price'].min()]\n",
    "display(vivino_min_price)"
   ]
  },
  {
   "cell_type": "raw",
   "id": "10296f52",
   "metadata": {},
   "source": [
    "Conclusion:\n",
    "\n",
    "The average rating given to wines is 3.86 (similar to the median 3.9)\n",
    "    -Most wines received ratings between 3.8 and 4.1, indicating a relatively high overall quality of wines\n",
    "\n",
    "The average price for a bottle of wine in the dataset is $33.02 while the median is $15.95. Additionally, the standard deviation is high (70.90), indicating a wide dispersion of prices around the mean.\n",
    "    -The range for prices was from $3.15 to $3,410.79\n",
    "    -These results are likely due to the pressence of various outliers in the dataset\n",
    "\n",
    "We found the ratings given to the most expensive wine and the cheapest\n",
    "    -The most expensive wine got a 4.7 rating while the cheapest wines got a 3.8 and 4.2"
   ]
  },
  {
   "cell_type": "code",
   "execution_count": 69,
   "id": "19cd412f",
   "metadata": {
    "scrolled": true
   },
   "outputs": [
    {
     "data": {
      "text/plain": [
       "name       0\n",
       "country    0\n",
       "region     0\n",
       "winery     0\n",
       "rating     0\n",
       "price      0\n",
       "year       0\n",
       "variety    3\n",
       "dtype: int64"
      ]
     },
     "execution_count": 69,
     "metadata": {},
     "output_type": "execute_result"
    }
   ],
   "source": [
    "vivino_data.isna().sum() #NO NAN VALUES"
   ]
  },
  {
   "cell_type": "code",
   "execution_count": 70,
   "id": "27f0b4cf",
   "metadata": {
    "scrolled": true
   },
   "outputs": [
    {
     "data": {
      "text/plain": [
       "7867"
      ]
     },
     "execution_count": 70,
     "metadata": {},
     "output_type": "execute_result"
    }
   ],
   "source": [
    "vivino_data['name'].nunique() #ALL UNIQUE VALUES"
   ]
  },
  {
   "cell_type": "code",
   "execution_count": 71,
   "id": "463ba923",
   "metadata": {
    "scrolled": true
   },
   "outputs": [
    {
     "data": {
      "text/plain": [
       "33"
      ]
     },
     "execution_count": 71,
     "metadata": {},
     "output_type": "execute_result"
    }
   ],
   "source": [
    "vivino_data['country'].nunique()"
   ]
  },
  {
   "cell_type": "code",
   "execution_count": 72,
   "id": "dbf9955e",
   "metadata": {},
   "outputs": [
    {
     "data": {
      "text/plain": [
       "860"
      ]
     },
     "execution_count": 72,
     "metadata": {},
     "output_type": "execute_result"
    }
   ],
   "source": [
    "vivino_data['region'].nunique()"
   ]
  },
  {
   "cell_type": "code",
   "execution_count": 73,
   "id": "93b5624c",
   "metadata": {},
   "outputs": [
    {
     "data": {
      "text/plain": [
       "26"
      ]
     },
     "execution_count": 73,
     "metadata": {},
     "output_type": "execute_result"
    }
   ],
   "source": [
    "vivino_data['rating'].nunique()"
   ]
  },
  {
   "cell_type": "code",
   "execution_count": 74,
   "id": "74066dfb",
   "metadata": {
    "scrolled": true
   },
   "outputs": [],
   "source": [
    "#vivino_data['rating'].value_counts() #Ratings range from 2.2 to 4.9"
   ]
  },
  {
   "cell_type": "code",
   "execution_count": 75,
   "id": "36b588d1",
   "metadata": {},
   "outputs": [
    {
     "data": {
      "text/plain": [
       "name\n",
       "Cabernet Sauvignon     33\n",
       "Chardonnay             21\n",
       "Riesling Trocken       20\n",
       "Haut-MÃ©doc            18\n",
       "Sauvignon Blanc        17\n",
       "Chianti Classico       15\n",
       "Pinot Noir             13\n",
       "Chablis                12\n",
       "Riesling               12\n",
       "Pinot Grigio           11\n",
       "Name: count, dtype: int64"
      ]
     },
     "execution_count": 75,
     "metadata": {},
     "output_type": "execute_result"
    }
   ],
   "source": [
    "#THE TOP 10 VARIETIES WITH THE HIGHEST value_count Rating 3.8\n",
    "\n",
    "top_rating = vivino_data['rating'].value_counts().idxmax()\n",
    "\n",
    "variety_top_value_rating = vivino_data[vivino_data['rating'] == top_rating]['name']#.iloc[0]\n",
    "\n",
    "variety_top_value_rating.value_counts().head(10)"
   ]
  },
  {
   "cell_type": "code",
   "execution_count": 76,
   "id": "3d521a97",
   "metadata": {},
   "outputs": [
    {
     "data": {
      "text/plain": [
       "2055"
      ]
     },
     "execution_count": 76,
     "metadata": {},
     "output_type": "execute_result"
    }
   ],
   "source": [
    "len(variety_top_value_rating)"
   ]
  },
  {
   "cell_type": "code",
   "execution_count": 77,
   "id": "a7fcbd7a",
   "metadata": {},
   "outputs": [
    {
     "data": {
      "text/html": [
       "<div>\n",
       "<style scoped>\n",
       "    .dataframe tbody tr th:only-of-type {\n",
       "        vertical-align: middle;\n",
       "    }\n",
       "\n",
       "    .dataframe tbody tr th {\n",
       "        vertical-align: top;\n",
       "    }\n",
       "\n",
       "    .dataframe thead th {\n",
       "        text-align: right;\n",
       "    }\n",
       "</style>\n",
       "<table border=\"1\" class=\"dataframe\">\n",
       "  <thead>\n",
       "    <tr style=\"text-align: right;\">\n",
       "      <th></th>\n",
       "      <th>name</th>\n",
       "      <th>country</th>\n",
       "      <th>region</th>\n",
       "      <th>winery</th>\n",
       "      <th>rating</th>\n",
       "      <th>price</th>\n",
       "      <th>year</th>\n",
       "      <th>variety</th>\n",
       "    </tr>\n",
       "  </thead>\n",
       "  <tbody>\n",
       "    <tr>\n",
       "      <th>541</th>\n",
       "      <td>Montrachet Grand Cru Marquis de Laguiche</td>\n",
       "      <td>France</td>\n",
       "      <td>Montrachet Grand Cru</td>\n",
       "      <td>Joseph Drouhin</td>\n",
       "      <td>4.9</td>\n",
       "      <td>681.37</td>\n",
       "      <td>2017</td>\n",
       "      <td>Montrachet Grand Cru Marquis de Laguiche</td>\n",
       "    </tr>\n",
       "  </tbody>\n",
       "</table>\n",
       "</div>"
      ],
      "text/plain": [
       "                                          name country                region  \\\n",
       "541  Montrachet Grand Cru Marquis de Laguiche   France  Montrachet Grand Cru   \n",
       "\n",
       "             winery  rating   price  year  \\\n",
       "541  Joseph Drouhin     4.9  681.37  2017   \n",
       "\n",
       "                                      variety  \n",
       "541  Montrachet Grand Cru Marquis de Laguiche  "
      ]
     },
     "metadata": {},
     "output_type": "display_data"
    }
   ],
   "source": [
    "##THE BOTTLE WITH THE HIGHEST RATING 4.9\n",
    "\n",
    "vivino_max_rating = vivino_data[vivino_data['rating']==vivino_data['rating'].max()]\n",
    "display(vivino_max_rating)"
   ]
  },
  {
   "cell_type": "markdown",
   "id": "f4e16370",
   "metadata": {},
   "source": [
    "### In both datasets the wine with the highest rating is from France"
   ]
  },
  {
   "cell_type": "code",
   "execution_count": 78,
   "id": "144fa7ff",
   "metadata": {
    "scrolled": false
   },
   "outputs": [
    {
     "data": {
      "text/plain": [
       "name\n",
       "Chardonnay                                        175\n",
       "Cabernet Sauvignon                                173\n",
       "Sauvignon Blanc                                   153\n",
       "Pomerol                                           104\n",
       "Saint-Julien (Grand Cru ClassÃ©)                   87\n",
       "                                                 ... \n",
       "Paul Sauer                                          1\n",
       "Tonel                                               1\n",
       "La Garnacha Salvaje del Moncayo                     1\n",
       "St. Daniel Pinot Nero (Blauburgunder) Riserva       1\n",
       "Brut (Carte Jaune) Champagne N.V.                   1\n",
       "Name: count, Length: 7867, dtype: int64"
      ]
     },
     "execution_count": 78,
     "metadata": {},
     "output_type": "execute_result"
    }
   ],
   "source": [
    "vivino_data['name'].value_counts()"
   ]
  },
  {
   "cell_type": "code",
   "execution_count": 79,
   "id": "3c84e782",
   "metadata": {
    "scrolled": true
   },
   "outputs": [
    {
     "data": {
      "text/html": [
       "<div>\n",
       "<style scoped>\n",
       "    .dataframe tbody tr th:only-of-type {\n",
       "        vertical-align: middle;\n",
       "    }\n",
       "\n",
       "    .dataframe tbody tr th {\n",
       "        vertical-align: top;\n",
       "    }\n",
       "\n",
       "    .dataframe thead th {\n",
       "        text-align: right;\n",
       "    }\n",
       "</style>\n",
       "<table border=\"1\" class=\"dataframe\">\n",
       "  <thead>\n",
       "    <tr style=\"text-align: right;\">\n",
       "      <th></th>\n",
       "      <th>country</th>\n",
       "      <th>count</th>\n",
       "    </tr>\n",
       "  </thead>\n",
       "  <tbody>\n",
       "    <tr>\n",
       "      <th>0</th>\n",
       "      <td>Italy</td>\n",
       "      <td>3913</td>\n",
       "    </tr>\n",
       "    <tr>\n",
       "      <th>1</th>\n",
       "      <td>France</td>\n",
       "      <td>3428</td>\n",
       "    </tr>\n",
       "    <tr>\n",
       "      <th>2</th>\n",
       "      <td>Spain</td>\n",
       "      <td>1532</td>\n",
       "    </tr>\n",
       "    <tr>\n",
       "      <th>3</th>\n",
       "      <td>Germany</td>\n",
       "      <td>1228</td>\n",
       "    </tr>\n",
       "    <tr>\n",
       "      <th>4</th>\n",
       "      <td>South Africa</td>\n",
       "      <td>846</td>\n",
       "    </tr>\n",
       "    <tr>\n",
       "      <th>5</th>\n",
       "      <td>United States</td>\n",
       "      <td>526</td>\n",
       "    </tr>\n",
       "    <tr>\n",
       "      <th>6</th>\n",
       "      <td>Austria</td>\n",
       "      <td>491</td>\n",
       "    </tr>\n",
       "    <tr>\n",
       "      <th>7</th>\n",
       "      <td>Chile</td>\n",
       "      <td>431</td>\n",
       "    </tr>\n",
       "    <tr>\n",
       "      <th>8</th>\n",
       "      <td>Portugal</td>\n",
       "      <td>336</td>\n",
       "    </tr>\n",
       "    <tr>\n",
       "      <th>9</th>\n",
       "      <td>Australia</td>\n",
       "      <td>310</td>\n",
       "    </tr>\n",
       "  </tbody>\n",
       "</table>\n",
       "</div>"
      ],
      "text/plain": [
       "         country  count\n",
       "0          Italy   3913\n",
       "1         France   3428\n",
       "2          Spain   1532\n",
       "3        Germany   1228\n",
       "4   South Africa    846\n",
       "5  United States    526\n",
       "6        Austria    491\n",
       "7          Chile    431\n",
       "8       Portugal    336\n",
       "9      Australia    310"
      ]
     },
     "execution_count": 79,
     "metadata": {},
     "output_type": "execute_result"
    }
   ],
   "source": [
    "# Sort the countries based on the count of entries in descending order\n",
    "vivino_sorted_countries = vivino_data['country'].value_counts().sort_values(ascending=False)\n",
    "\n",
    "# Select the top 10 countries\n",
    "top_10_countries_vivino = vivino_sorted_countries.head(10)\n",
    "\n",
    "top_countries_vivino = pd.DataFrame(top_10_countries_vivino).reset_index(drop=False)\n",
    "top_countries_vivino"
   ]
  },
  {
   "cell_type": "code",
   "execution_count": 80,
   "id": "1e1f026b",
   "metadata": {},
   "outputs": [
    {
     "data": {
      "image/png": "[encoded data removed]",
      "text/plain": [
       "<Figure size 1000x600 with 1 Axes>"
      ]
     },
     "metadata": {},
     "output_type": "display_data"
    }
   ],
   "source": [
    "colors = sns.color_palette(\"deep\", len(top_countries_vivino))\n",
    "\n",
    "plt.figure(figsize=(10, 6))\n",
    "plt.barh(top_countries_vivino['country'], top_countries_vivino['count'], color= colors)\n",
    "plt.xlabel('Number of Reviews by Country')\n",
    "plt.ylabel('Country')\n",
    "plt.title('Vivino: Top 10 Countries with most Reviews')\n",
    "plt.gca().invert_yaxis() \n",
    "plt.show()"
   ]
  },
  {
   "cell_type": "markdown",
   "id": "73b18436",
   "metadata": {},
   "source": [
    "The top country of the original data is number 6 in this dataset"
   ]
  },
  {
   "cell_type": "code",
   "execution_count": 81,
   "id": "603cc354",
   "metadata": {
    "scrolled": true
   },
   "outputs": [
    {
     "name": "stdout",
     "output_type": "stream",
     "text": [
      "region\n",
      "California              143\n",
      "Napa Valley              87\n",
      "Columbia Valley          42\n",
      "Russian River Valley     19\n",
      "Livermore Valley         17\n",
      "Sonoma Coast             16\n",
      "Lodi                     13\n",
      "Central Coast            12\n",
      "Los Carneros             12\n",
      "Washington               11\n",
      "Name: count, dtype: int64\n"
     ]
    }
   ],
   "source": [
    "#top province within the US\n",
    "top_region_us = vivino_data['region'][vivino_data['country'] == 'United States'].value_counts().sort_values(ascending=False).head(10)\n",
    "print(top_region_us)"
   ]
  },
  {
   "cell_type": "markdown",
   "id": "efb00987",
   "metadata": {},
   "source": [
    "Most of these regions are within California; reason why region has so many unique values.\n",
    "We renamed all regions within the US by state (California, Oregon and New York) in Taisgaly's notebook."
   ]
  },
  {
   "cell_type": "code",
   "execution_count": 82,
   "id": "676d6ad4",
   "metadata": {},
   "outputs": [
    {
     "data": {
      "text/html": [
       "<div>\n",
       "<style scoped>\n",
       "    .dataframe tbody tr th:only-of-type {\n",
       "        vertical-align: middle;\n",
       "    }\n",
       "\n",
       "    .dataframe tbody tr th {\n",
       "        vertical-align: top;\n",
       "    }\n",
       "\n",
       "    .dataframe thead th {\n",
       "        text-align: right;\n",
       "    }\n",
       "</style>\n",
       "<table border=\"1\" class=\"dataframe\">\n",
       "  <thead>\n",
       "    <tr style=\"text-align: right;\">\n",
       "      <th></th>\n",
       "      <th>variety</th>\n",
       "      <th>count</th>\n",
       "    </tr>\n",
       "  </thead>\n",
       "  <tbody>\n",
       "    <tr>\n",
       "      <th>0</th>\n",
       "      <td>Riesling</td>\n",
       "      <td>690</td>\n",
       "    </tr>\n",
       "    <tr>\n",
       "      <th>1</th>\n",
       "      <td>Chardonnay</td>\n",
       "      <td>555</td>\n",
       "    </tr>\n",
       "    <tr>\n",
       "      <th>2</th>\n",
       "      <td>Cabernet Sauvignon</td>\n",
       "      <td>547</td>\n",
       "    </tr>\n",
       "    <tr>\n",
       "      <th>3</th>\n",
       "      <td>Sauvignon Blanc</td>\n",
       "      <td>354</td>\n",
       "    </tr>\n",
       "    <tr>\n",
       "      <th>4</th>\n",
       "      <td>Champagne</td>\n",
       "      <td>307</td>\n",
       "    </tr>\n",
       "    <tr>\n",
       "      <th>5</th>\n",
       "      <td>Pinot Noir</td>\n",
       "      <td>279</td>\n",
       "    </tr>\n",
       "    <tr>\n",
       "      <th>6</th>\n",
       "      <td>Rosso</td>\n",
       "      <td>265</td>\n",
       "    </tr>\n",
       "    <tr>\n",
       "      <th>7</th>\n",
       "      <td>Chianti</td>\n",
       "      <td>227</td>\n",
       "    </tr>\n",
       "    <tr>\n",
       "      <th>8</th>\n",
       "      <td>Tinto</td>\n",
       "      <td>197</td>\n",
       "    </tr>\n",
       "    <tr>\n",
       "      <th>9</th>\n",
       "      <td>Syrah</td>\n",
       "      <td>192</td>\n",
       "    </tr>\n",
       "  </tbody>\n",
       "</table>\n",
       "</div>"
      ],
      "text/plain": [
       "              variety  count\n",
       "0            Riesling    690\n",
       "1          Chardonnay    555\n",
       "2  Cabernet Sauvignon    547\n",
       "3     Sauvignon Blanc    354\n",
       "4           Champagne    307\n",
       "5          Pinot Noir    279\n",
       "6               Rosso    265\n",
       "7             Chianti    227\n",
       "8               Tinto    197\n",
       "9               Syrah    192"
      ]
     },
     "execution_count": 82,
     "metadata": {},
     "output_type": "execute_result"
    }
   ],
   "source": [
    "# Sort the variety based on the count of entries in descending order\n",
    "sorted_variety_vivino = vivino_data['variety'].value_counts().sort_values(ascending=False)\n",
    "\n",
    "# Select the top 10 variety\n",
    "top_vivino_variety = sorted_variety_vivino.head(10)\n",
    "\n",
    "top_variety_vivino = pd.DataFrame(top_vivino_variety).reset_index(drop=False)\n",
    "top_variety_vivino"
   ]
  },
  {
   "cell_type": "code",
   "execution_count": 83,
   "id": "29f7b968",
   "metadata": {
    "scrolled": true
   },
   "outputs": [
    {
     "data": {
      "image/png": "[encoded data removed]",
      "text/plain": [
       "<Figure size 1000x600 with 1 Axes>"
      ]
     },
     "metadata": {},
     "output_type": "display_data"
    }
   ],
   "source": [
    "colors = sns.color_palette(\"deep\", len(top_variety_vivino))\n",
    "\n",
    "plt.figure(figsize=(10, 6))\n",
    "plt.barh(top_variety_vivino['variety'], top_countries_vivino['count'], color= colors)\n",
    "plt.xlabel('Number of Reviews by Variety')\n",
    "plt.ylabel('Variety')\n",
    "plt.title('Vivino: Top 10 Varieties with most Reviews')\n",
    "plt.gca().invert_yaxis() \n",
    "plt.show()"
   ]
  },
  {
   "cell_type": "code",
   "execution_count": 84,
   "id": "4b0f0f6c",
   "metadata": {},
   "outputs": [
    {
     "data": {
      "text/html": [
       "<div>\n",
       "<style scoped>\n",
       "    .dataframe tbody tr th:only-of-type {\n",
       "        vertical-align: middle;\n",
       "    }\n",
       "\n",
       "    .dataframe tbody tr th {\n",
       "        vertical-align: top;\n",
       "    }\n",
       "\n",
       "    .dataframe thead th {\n",
       "        text-align: right;\n",
       "    }\n",
       "</style>\n",
       "<table border=\"1\" class=\"dataframe\">\n",
       "  <thead>\n",
       "    <tr style=\"text-align: right;\">\n",
       "      <th></th>\n",
       "      <th>name</th>\n",
       "      <th>country</th>\n",
       "      <th>region</th>\n",
       "      <th>winery</th>\n",
       "      <th>rating</th>\n",
       "      <th>price</th>\n",
       "      <th>year</th>\n",
       "      <th>variety</th>\n",
       "    </tr>\n",
       "  </thead>\n",
       "  <tbody>\n",
       "  </tbody>\n",
       "</table>\n",
       "</div>"
      ],
      "text/plain": [
       "Empty DataFrame\n",
       "Columns: [name, country, region, winery, rating, price, year, variety]\n",
       "Index: []"
      ]
     },
     "execution_count": 84,
     "metadata": {},
     "output_type": "execute_result"
    }
   ],
   "source": [
    "lowest_price_high_rating_vivino = vivino_data[(vivino_data['price'] < 10.0) & (vivino_data['rating'] > 4.5)]\n",
    "lowest_price_high_rating_vivino"
   ]
  },
  {
   "cell_type": "markdown",
   "id": "787de6d0",
   "metadata": {},
   "source": [
    "## -----------------------------------------------------------------------------------------------------"
   ]
  },
  {
   "cell_type": "code",
   "execution_count": 85,
   "id": "a1c69298",
   "metadata": {},
   "outputs": [],
   "source": [
    "merged_data = pd.merge(wine_data, vivino_data, left_on=['variety', 'year','winery','country'], \n",
    "             right_on=['variety', 'year','winery','country'])"
   ]
  },
  {
   "cell_type": "code",
   "execution_count": 86,
   "id": "dcae2642",
   "metadata": {
    "scrolled": true
   },
   "outputs": [
    {
     "data": {
      "text/plain": [
       "(234, 13)"
      ]
     },
     "execution_count": 86,
     "metadata": {},
     "output_type": "execute_result"
    }
   ],
   "source": [
    "merged_data.shape"
   ]
  },
  {
   "cell_type": "code",
   "execution_count": 87,
   "id": "5a92ee8c",
   "metadata": {
    "scrolled": true
   },
   "outputs": [
    {
     "data": {
      "text/html": [
       "<div>\n",
       "<style scoped>\n",
       "    .dataframe tbody tr th:only-of-type {\n",
       "        vertical-align: middle;\n",
       "    }\n",
       "\n",
       "    .dataframe tbody tr th {\n",
       "        vertical-align: top;\n",
       "    }\n",
       "\n",
       "    .dataframe thead th {\n",
       "        text-align: right;\n",
       "    }\n",
       "</style>\n",
       "<table border=\"1\" class=\"dataframe\">\n",
       "  <thead>\n",
       "    <tr style=\"text-align: right;\">\n",
       "      <th></th>\n",
       "      <th>country</th>\n",
       "      <th>description</th>\n",
       "      <th>points</th>\n",
       "      <th>price_x</th>\n",
       "      <th>province</th>\n",
       "      <th>title</th>\n",
       "      <th>variety</th>\n",
       "      <th>winery</th>\n",
       "      <th>year</th>\n",
       "      <th>name</th>\n",
       "      <th>region</th>\n",
       "      <th>rating</th>\n",
       "      <th>price_y</th>\n",
       "    </tr>\n",
       "  </thead>\n",
       "  <tbody>\n",
       "    <tr>\n",
       "      <th>0</th>\n",
       "      <td>Germany</td>\n",
       "      <td>Fresh and fragrant of blossoms, tart yellow pe...</td>\n",
       "      <td>91</td>\n",
       "      <td>30.0</td>\n",
       "      <td>Mosel</td>\n",
       "      <td>Fritz Haag 2014 Brauneberger Feinherb Riesling...</td>\n",
       "      <td>Riesling</td>\n",
       "      <td>Fritz Haag</td>\n",
       "      <td>2014</td>\n",
       "      <td>Riesling Trocken</td>\n",
       "      <td>Mosel</td>\n",
       "      <td>3.8</td>\n",
       "      <td>10.67</td>\n",
       "    </tr>\n",
       "    <tr>\n",
       "      <th>1</th>\n",
       "      <td>Germany</td>\n",
       "      <td>Just a touch of honey-lemon sweetness is enoug...</td>\n",
       "      <td>91</td>\n",
       "      <td>22.0</td>\n",
       "      <td>Mosel</td>\n",
       "      <td>Fritz Haag 2014 Riesling (Mosel)</td>\n",
       "      <td>Riesling</td>\n",
       "      <td>Fritz Haag</td>\n",
       "      <td>2014</td>\n",
       "      <td>Riesling Trocken</td>\n",
       "      <td>Mosel</td>\n",
       "      <td>3.8</td>\n",
       "      <td>10.67</td>\n",
       "    </tr>\n",
       "    <tr>\n",
       "      <th>2</th>\n",
       "      <td>Germany</td>\n",
       "      <td>Irresistably juicy and fruity, yet so delicate...</td>\n",
       "      <td>93</td>\n",
       "      <td>32.0</td>\n",
       "      <td>Mosel</td>\n",
       "      <td>Fritz Haag 2014 Brauneberger Kabinett Riesling...</td>\n",
       "      <td>Riesling</td>\n",
       "      <td>Fritz Haag</td>\n",
       "      <td>2014</td>\n",
       "      <td>Riesling Trocken</td>\n",
       "      <td>Mosel</td>\n",
       "      <td>3.8</td>\n",
       "      <td>10.67</td>\n",
       "    </tr>\n",
       "    <tr>\n",
       "      <th>3</th>\n",
       "      <td>Germany</td>\n",
       "      <td>Pristine layers of guava, blossom and green pl...</td>\n",
       "      <td>94</td>\n",
       "      <td>46.0</td>\n",
       "      <td>Mosel</td>\n",
       "      <td>Fritz Haag 2014 Brauneberger Juffer Auslese Ri...</td>\n",
       "      <td>Riesling</td>\n",
       "      <td>Fritz Haag</td>\n",
       "      <td>2014</td>\n",
       "      <td>Riesling Trocken</td>\n",
       "      <td>Mosel</td>\n",
       "      <td>3.8</td>\n",
       "      <td>10.67</td>\n",
       "    </tr>\n",
       "    <tr>\n",
       "      <th>4</th>\n",
       "      <td>Germany</td>\n",
       "      <td>Jolts of lemon-lime acidity reverberate throug...</td>\n",
       "      <td>91</td>\n",
       "      <td>42.0</td>\n",
       "      <td>Mosel</td>\n",
       "      <td>Fritz Haag 2014 Juffer Trocken GG Riesling (Mo...</td>\n",
       "      <td>Riesling</td>\n",
       "      <td>Fritz Haag</td>\n",
       "      <td>2014</td>\n",
       "      <td>Riesling Trocken</td>\n",
       "      <td>Mosel</td>\n",
       "      <td>3.8</td>\n",
       "      <td>10.67</td>\n",
       "    </tr>\n",
       "    <tr>\n",
       "      <th>...</th>\n",
       "      <td>...</td>\n",
       "      <td>...</td>\n",
       "      <td>...</td>\n",
       "      <td>...</td>\n",
       "      <td>...</td>\n",
       "      <td>...</td>\n",
       "      <td>...</td>\n",
       "      <td>...</td>\n",
       "      <td>...</td>\n",
       "      <td>...</td>\n",
       "      <td>...</td>\n",
       "      <td>...</td>\n",
       "      <td>...</td>\n",
       "    </tr>\n",
       "    <tr>\n",
       "      <th>229</th>\n",
       "      <td>Austria</td>\n",
       "      <td>A rather subdued nose turns into a citric pool...</td>\n",
       "      <td>88</td>\n",
       "      <td>NaN</td>\n",
       "      <td>Südsteiermark</td>\n",
       "      <td>Gross 2014 Jakobi Sauvignon Blanc (Südsteiermark)</td>\n",
       "      <td>Sauvignon Blanc</td>\n",
       "      <td>Gross</td>\n",
       "      <td>2014</td>\n",
       "      <td>Steirische Klassik Sauvignon Blanc</td>\n",
       "      <td>SÃ¼dsteiermark</td>\n",
       "      <td>3.7</td>\n",
       "      <td>19.39</td>\n",
       "    </tr>\n",
       "    <tr>\n",
       "      <th>230</th>\n",
       "      <td>Austria</td>\n",
       "      <td>Grassy notes with overtones of nettle and elde...</td>\n",
       "      <td>91</td>\n",
       "      <td>NaN</td>\n",
       "      <td>Südsteiermark</td>\n",
       "      <td>Gross 2014 Steirische Klassik Sauvignon Blanc ...</td>\n",
       "      <td>Sauvignon Blanc</td>\n",
       "      <td>Gross</td>\n",
       "      <td>2014</td>\n",
       "      <td>Steirische Klassik Sauvignon Blanc</td>\n",
       "      <td>SÃ¼dsteiermark</td>\n",
       "      <td>3.7</td>\n",
       "      <td>19.39</td>\n",
       "    </tr>\n",
       "    <tr>\n",
       "      <th>231</th>\n",
       "      <td>Argentina</td>\n",
       "      <td>Harsh, grassy, weedy berry aromas mix with a h...</td>\n",
       "      <td>81</td>\n",
       "      <td>14.0</td>\n",
       "      <td>Mendoza Province</td>\n",
       "      <td>Kaiken 2016 Reserva Malbec (Mendoza)</td>\n",
       "      <td>Malbec</td>\n",
       "      <td>Kaiken</td>\n",
       "      <td>2016</td>\n",
       "      <td>Mai The First A.Montes Malbec</td>\n",
       "      <td>Mendoza</td>\n",
       "      <td>4.4</td>\n",
       "      <td>61.05</td>\n",
       "    </tr>\n",
       "    <tr>\n",
       "      <th>232</th>\n",
       "      <td>France</td>\n",
       "      <td>This is a smooth, ripe style of Sauvignon Blan...</td>\n",
       "      <td>86</td>\n",
       "      <td>11.0</td>\n",
       "      <td>France Other</td>\n",
       "      <td>Lionel Osmin &amp; Cie 2016 La Réserve Sauvignon B...</td>\n",
       "      <td>Sauvignon Blanc</td>\n",
       "      <td>Lionel Osmin &amp; Cie</td>\n",
       "      <td>2016</td>\n",
       "      <td>Domaine San de Guilhem Colombard - Sauvignon B...</td>\n",
       "      <td>Gascogne</td>\n",
       "      <td>3.5</td>\n",
       "      <td>5.31</td>\n",
       "    </tr>\n",
       "    <tr>\n",
       "      <th>233</th>\n",
       "      <td>Australia</td>\n",
       "      <td>Yalumba's efforts with Viognier have trickled ...</td>\n",
       "      <td>85</td>\n",
       "      <td>10.0</td>\n",
       "      <td>South Australia</td>\n",
       "      <td>Oxford Landing 2015 Viognier (South Australia)</td>\n",
       "      <td>Viognier</td>\n",
       "      <td>Oxford Landing</td>\n",
       "      <td>2015</td>\n",
       "      <td>Viognier</td>\n",
       "      <td>South Australia</td>\n",
       "      <td>3.2</td>\n",
       "      <td>8.78</td>\n",
       "    </tr>\n",
       "  </tbody>\n",
       "</table>\n",
       "<p>234 rows × 13 columns</p>\n",
       "</div>"
      ],
      "text/plain": [
       "       country                                        description  points  \\\n",
       "0      Germany  Fresh and fragrant of blossoms, tart yellow pe...      91   \n",
       "1      Germany  Just a touch of honey-lemon sweetness is enoug...      91   \n",
       "2      Germany  Irresistably juicy and fruity, yet so delicate...      93   \n",
       "3      Germany  Pristine layers of guava, blossom and green pl...      94   \n",
       "4      Germany  Jolts of lemon-lime acidity reverberate throug...      91   \n",
       "..         ...                                                ...     ...   \n",
       "229    Austria  A rather subdued nose turns into a citric pool...      88   \n",
       "230    Austria  Grassy notes with overtones of nettle and elde...      91   \n",
       "231  Argentina  Harsh, grassy, weedy berry aromas mix with a h...      81   \n",
       "232     France  This is a smooth, ripe style of Sauvignon Blan...      86   \n",
       "233  Australia  Yalumba's efforts with Viognier have trickled ...      85   \n",
       "\n",
       "     price_x          province  \\\n",
       "0       30.0             Mosel   \n",
       "1       22.0             Mosel   \n",
       "2       32.0             Mosel   \n",
       "3       46.0             Mosel   \n",
       "4       42.0             Mosel   \n",
       "..       ...               ...   \n",
       "229      NaN     Südsteiermark   \n",
       "230      NaN     Südsteiermark   \n",
       "231     14.0  Mendoza Province   \n",
       "232     11.0      France Other   \n",
       "233     10.0   South Australia   \n",
       "\n",
       "                                                 title          variety  \\\n",
       "0    Fritz Haag 2014 Brauneberger Feinherb Riesling...         Riesling   \n",
       "1                     Fritz Haag 2014 Riesling (Mosel)         Riesling   \n",
       "2    Fritz Haag 2014 Brauneberger Kabinett Riesling...         Riesling   \n",
       "3    Fritz Haag 2014 Brauneberger Juffer Auslese Ri...         Riesling   \n",
       "4    Fritz Haag 2014 Juffer Trocken GG Riesling (Mo...         Riesling   \n",
       "..                                                 ...              ...   \n",
       "229  Gross 2014 Jakobi Sauvignon Blanc (Südsteiermark)  Sauvignon Blanc   \n",
       "230  Gross 2014 Steirische Klassik Sauvignon Blanc ...  Sauvignon Blanc   \n",
       "231               Kaiken 2016 Reserva Malbec (Mendoza)           Malbec   \n",
       "232  Lionel Osmin & Cie 2016 La Réserve Sauvignon B...  Sauvignon Blanc   \n",
       "233     Oxford Landing 2015 Viognier (South Australia)         Viognier   \n",
       "\n",
       "                 winery  year  \\\n",
       "0            Fritz Haag  2014   \n",
       "1            Fritz Haag  2014   \n",
       "2            Fritz Haag  2014   \n",
       "3            Fritz Haag  2014   \n",
       "4            Fritz Haag  2014   \n",
       "..                  ...   ...   \n",
       "229               Gross  2014   \n",
       "230               Gross  2014   \n",
       "231              Kaiken  2016   \n",
       "232  Lionel Osmin & Cie  2016   \n",
       "233      Oxford Landing  2015   \n",
       "\n",
       "                                                  name           region  \\\n",
       "0                                    Riesling Trocken             Mosel   \n",
       "1                                    Riesling Trocken             Mosel   \n",
       "2                                    Riesling Trocken             Mosel   \n",
       "3                                    Riesling Trocken             Mosel   \n",
       "4                                    Riesling Trocken             Mosel   \n",
       "..                                                 ...              ...   \n",
       "229                Steirische Klassik Sauvignon Blanc    SÃ¼dsteiermark   \n",
       "230                Steirische Klassik Sauvignon Blanc    SÃ¼dsteiermark   \n",
       "231                     Mai The First A.Montes Malbec           Mendoza   \n",
       "232  Domaine San de Guilhem Colombard - Sauvignon B...         Gascogne   \n",
       "233                                          Viognier   South Australia   \n",
       "\n",
       "     rating  price_y  \n",
       "0       3.8    10.67  \n",
       "1       3.8    10.67  \n",
       "2       3.8    10.67  \n",
       "3       3.8    10.67  \n",
       "4       3.8    10.67  \n",
       "..      ...      ...  \n",
       "229     3.7    19.39  \n",
       "230     3.7    19.39  \n",
       "231     4.4    61.05  \n",
       "232     3.5     5.31  \n",
       "233     3.2     8.78  \n",
       "\n",
       "[234 rows x 13 columns]"
      ]
     },
     "execution_count": 87,
     "metadata": {},
     "output_type": "execute_result"
    }
   ],
   "source": [
    "merged_data"
   ]
  },
  {
   "cell_type": "code",
   "execution_count": 88,
   "id": "58d6b004",
   "metadata": {},
   "outputs": [
    {
     "data": {
      "text/plain": [
       "115"
      ]
     },
     "execution_count": 88,
     "metadata": {},
     "output_type": "execute_result"
    }
   ],
   "source": [
    "merged_data.duplicated(subset=['variety', 'winery', 'year', 'name', 'rating']).sum()"
   ]
  },
  {
   "cell_type": "code",
   "execution_count": 89,
   "id": "e7cb852a",
   "metadata": {},
   "outputs": [],
   "source": [
    "merged_data.drop_duplicates(subset=['variety', 'winery', 'year', 'name', 'rating'], keep='first', inplace=True)"
   ]
  },
  {
   "cell_type": "code",
   "execution_count": 90,
   "id": "ad06f4a2",
   "metadata": {},
   "outputs": [
    {
     "data": {
      "text/plain": [
       "(119, 13)"
      ]
     },
     "execution_count": 90,
     "metadata": {},
     "output_type": "execute_result"
    }
   ],
   "source": [
    "merged_data.shape #We lost almost all of the data..."
   ]
  },
  {
   "cell_type": "code",
   "execution_count": 91,
   "id": "0538ebe8",
   "metadata": {},
   "outputs": [
    {
     "data": {
      "text/plain": [
       "0"
      ]
     },
     "execution_count": 91,
     "metadata": {},
     "output_type": "execute_result"
    }
   ],
   "source": [
    "merged_data.duplicated().sum()"
   ]
  },
  {
   "cell_type": "code",
   "execution_count": 92,
   "id": "2b3b29ae",
   "metadata": {},
   "outputs": [],
   "source": [
    "#merged_data"
   ]
  },
  {
   "cell_type": "code",
   "execution_count": 93,
   "id": "2827ffa3",
   "metadata": {},
   "outputs": [],
   "source": [
    "merged_data.rename(columns={'price_x': 'price_point', 'price_y':'price_rating'}, inplace=True)"
   ]
  },
  {
   "cell_type": "code",
   "execution_count": 94,
   "id": "abfd6c5c",
   "metadata": {
    "scrolled": false
   },
   "outputs": [
    {
     "data": {
      "text/plain": [
       "<Axes: xlabel='points', ylabel='rating'>"
      ]
     },
     "execution_count": 94,
     "metadata": {},
     "output_type": "execute_result"
    },
    {
     "data": {
      "image/png": "[encoded data removed]",
      "text/plain": [
       "<Figure size 640x480 with 1 Axes>"
      ]
     },
     "metadata": {},
     "output_type": "display_data"
    }
   ],
   "source": [
    "sns.scatterplot(x = \"points\", y = \"rating\", data = merged_data)"
   ]
  },
  {
   "cell_type": "code",
   "execution_count": 95,
   "id": "2976006e",
   "metadata": {
    "scrolled": false
   },
   "outputs": [
    {
     "data": {
      "text/plain": [
       "<seaborn.axisgrid.FacetGrid at 0x17289ecd0>"
      ]
     },
     "execution_count": 95,
     "metadata": {},
     "output_type": "execute_result"
    },
    {
     "data": {
      "image/png": "[encoded data removed]",
      "text/plain": [
       "<Figure size 500x500 with 1 Axes>"
      ]
     },
     "metadata": {},
     "output_type": "display_data"
    }
   ],
   "source": [
    "sns.lmplot(x='points', y='rating', data=merged_data)"
   ]
  },
  {
   "cell_type": "code",
   "execution_count": 96,
   "id": "34416e99",
   "metadata": {},
   "outputs": [
    {
     "data": {
      "text/html": [
       "<div>\n",
       "<style scoped>\n",
       "    .dataframe tbody tr th:only-of-type {\n",
       "        vertical-align: middle;\n",
       "    }\n",
       "\n",
       "    .dataframe tbody tr th {\n",
       "        vertical-align: top;\n",
       "    }\n",
       "\n",
       "    .dataframe thead th {\n",
       "        text-align: right;\n",
       "    }\n",
       "</style>\n",
       "<table border=\"1\" class=\"dataframe\">\n",
       "  <thead>\n",
       "    <tr style=\"text-align: right;\">\n",
       "      <th></th>\n",
       "      <th>country</th>\n",
       "      <th>description</th>\n",
       "      <th>points</th>\n",
       "      <th>price_point</th>\n",
       "      <th>province</th>\n",
       "      <th>title</th>\n",
       "      <th>variety</th>\n",
       "      <th>winery</th>\n",
       "      <th>year</th>\n",
       "      <th>name</th>\n",
       "      <th>region</th>\n",
       "      <th>rating</th>\n",
       "      <th>price_rating</th>\n",
       "    </tr>\n",
       "  </thead>\n",
       "  <tbody>\n",
       "    <tr>\n",
       "      <th>218</th>\n",
       "      <td>France</td>\n",
       "      <td>Touches of crushed purple violets add depth an...</td>\n",
       "      <td>87</td>\n",
       "      <td>11.0</td>\n",
       "      <td>Languedoc-Roussillon</td>\n",
       "      <td>Fortant 2016 Coast Select Cabernet Sauvignon (...</td>\n",
       "      <td>Cabernet Sauvignon</td>\n",
       "      <td>Fortant</td>\n",
       "      <td>2016</td>\n",
       "      <td>Cabernet Sauvignon</td>\n",
       "      <td>Pays d'Oc</td>\n",
       "      <td>2.5</td>\n",
       "      <td>8.29</td>\n",
       "    </tr>\n",
       "  </tbody>\n",
       "</table>\n",
       "</div>"
      ],
      "text/plain": [
       "    country                                        description  points  \\\n",
       "218  France  Touches of crushed purple violets add depth an...      87   \n",
       "\n",
       "     price_point              province  \\\n",
       "218         11.0  Languedoc-Roussillon   \n",
       "\n",
       "                                                 title             variety  \\\n",
       "218  Fortant 2016 Coast Select Cabernet Sauvignon (...  Cabernet Sauvignon   \n",
       "\n",
       "      winery  year                 name     region  rating  price_rating  \n",
       "218  Fortant  2016  Cabernet Sauvignon   Pays d'Oc     2.5          8.29  "
      ]
     },
     "execution_count": 96,
     "metadata": {},
     "output_type": "execute_result"
    }
   ],
   "source": [
    "outlier_1 = merged_data[(merged_data['points'] < 87.5) & (merged_data['rating'] < 2.6)]\n",
    "outlier_1"
   ]
  },
  {
   "cell_type": "code",
   "execution_count": 97,
   "id": "379b1979",
   "metadata": {},
   "outputs": [
    {
     "data": {
      "text/html": [
       "<div>\n",
       "<style scoped>\n",
       "    .dataframe tbody tr th:only-of-type {\n",
       "        vertical-align: middle;\n",
       "    }\n",
       "\n",
       "    .dataframe tbody tr th {\n",
       "        vertical-align: top;\n",
       "    }\n",
       "\n",
       "    .dataframe thead th {\n",
       "        text-align: right;\n",
       "    }\n",
       "</style>\n",
       "<table border=\"1\" class=\"dataframe\">\n",
       "  <thead>\n",
       "    <tr style=\"text-align: right;\">\n",
       "      <th></th>\n",
       "      <th>country</th>\n",
       "      <th>description</th>\n",
       "      <th>points</th>\n",
       "      <th>price_point</th>\n",
       "      <th>province</th>\n",
       "      <th>title</th>\n",
       "      <th>variety</th>\n",
       "      <th>winery</th>\n",
       "      <th>year</th>\n",
       "      <th>name</th>\n",
       "      <th>region</th>\n",
       "      <th>rating</th>\n",
       "      <th>price_rating</th>\n",
       "    </tr>\n",
       "  </thead>\n",
       "  <tbody>\n",
       "    <tr>\n",
       "      <th>211</th>\n",
       "      <td>Argentina</td>\n",
       "      <td>Muddy plum and berry aromas lead to a sharp, r...</td>\n",
       "      <td>81</td>\n",
       "      <td>9.0</td>\n",
       "      <td>Other</td>\n",
       "      <td>Callia 2014 Alta Malbec (Tulum Valley)</td>\n",
       "      <td>Malbec</td>\n",
       "      <td>Callia</td>\n",
       "      <td>2014</td>\n",
       "      <td>Esperado Shiraz - Malbec</td>\n",
       "      <td>Tulum Valley</td>\n",
       "      <td>3.3</td>\n",
       "      <td>7.00</td>\n",
       "    </tr>\n",
       "    <tr>\n",
       "      <th>231</th>\n",
       "      <td>Argentina</td>\n",
       "      <td>Harsh, grassy, weedy berry aromas mix with a h...</td>\n",
       "      <td>81</td>\n",
       "      <td>14.0</td>\n",
       "      <td>Mendoza Province</td>\n",
       "      <td>Kaiken 2016 Reserva Malbec (Mendoza)</td>\n",
       "      <td>Malbec</td>\n",
       "      <td>Kaiken</td>\n",
       "      <td>2016</td>\n",
       "      <td>Mai The First A.Montes Malbec</td>\n",
       "      <td>Mendoza</td>\n",
       "      <td>4.4</td>\n",
       "      <td>61.05</td>\n",
       "    </tr>\n",
       "  </tbody>\n",
       "</table>\n",
       "</div>"
      ],
      "text/plain": [
       "       country                                        description  points  \\\n",
       "211  Argentina  Muddy plum and berry aromas lead to a sharp, r...      81   \n",
       "231  Argentina  Harsh, grassy, weedy berry aromas mix with a h...      81   \n",
       "\n",
       "     price_point          province                                   title  \\\n",
       "211          9.0             Other  Callia 2014 Alta Malbec (Tulum Valley)   \n",
       "231         14.0  Mendoza Province    Kaiken 2016 Reserva Malbec (Mendoza)   \n",
       "\n",
       "    variety  winery  year                            name        region  \\\n",
       "211  Malbec  Callia  2014       Esperado Shiraz - Malbec   Tulum Valley   \n",
       "231  Malbec  Kaiken  2016  Mai The First A.Montes Malbec        Mendoza   \n",
       "\n",
       "     rating  price_rating  \n",
       "211     3.3          7.00  \n",
       "231     4.4         61.05  "
      ]
     },
     "execution_count": 97,
     "metadata": {},
     "output_type": "execute_result"
    }
   ],
   "source": [
    "outlier_2 = merged_data[(merged_data['points'] < 82) & (merged_data['rating'] < 4.5)]\n",
    "outlier_2\n",
    "#The outlier we are looking for is index 231"
   ]
  },
  {
   "cell_type": "code",
   "execution_count": 98,
   "id": "491d8c27",
   "metadata": {
    "scrolled": true
   },
   "outputs": [
    {
     "data": {
      "text/html": [
       "<div>\n",
       "<style scoped>\n",
       "    .dataframe tbody tr th:only-of-type {\n",
       "        vertical-align: middle;\n",
       "    }\n",
       "\n",
       "    .dataframe tbody tr th {\n",
       "        vertical-align: top;\n",
       "    }\n",
       "\n",
       "    .dataframe thead th {\n",
       "        text-align: right;\n",
       "    }\n",
       "</style>\n",
       "<table border=\"1\" class=\"dataframe\">\n",
       "  <thead>\n",
       "    <tr style=\"text-align: right;\">\n",
       "      <th></th>\n",
       "      <th>country</th>\n",
       "      <th>description</th>\n",
       "      <th>points</th>\n",
       "      <th>price_point</th>\n",
       "      <th>province</th>\n",
       "      <th>title</th>\n",
       "      <th>variety</th>\n",
       "      <th>winery</th>\n",
       "      <th>year</th>\n",
       "      <th>name</th>\n",
       "      <th>region</th>\n",
       "      <th>rating</th>\n",
       "      <th>price_rating</th>\n",
       "    </tr>\n",
       "  </thead>\n",
       "  <tbody>\n",
       "    <tr>\n",
       "      <th>54</th>\n",
       "      <td>Argentina</td>\n",
       "      <td>Smooth, savory aromas of prune and blackberry ...</td>\n",
       "      <td>91</td>\n",
       "      <td>120.0</td>\n",
       "      <td>Mendoza Province</td>\n",
       "      <td>El Enemigo 2014 Gran Enemigo Gualtallary Singl...</td>\n",
       "      <td>Cabernet Franc</td>\n",
       "      <td>El Enemigo</td>\n",
       "      <td>2014</td>\n",
       "      <td>Gran Enemigo Single Vineyard Gualtallary Caber...</td>\n",
       "      <td>Gualtallary</td>\n",
       "      <td>4.6</td>\n",
       "      <td>82.86</td>\n",
       "    </tr>\n",
       "  </tbody>\n",
       "</table>\n",
       "</div>"
      ],
      "text/plain": [
       "      country                                        description  points  \\\n",
       "54  Argentina  Smooth, savory aromas of prune and blackberry ...      91   \n",
       "\n",
       "    price_point          province  \\\n",
       "54        120.0  Mendoza Province   \n",
       "\n",
       "                                                title         variety  \\\n",
       "54  El Enemigo 2014 Gran Enemigo Gualtallary Singl...  Cabernet Franc   \n",
       "\n",
       "        winery  year                                               name  \\\n",
       "54  El Enemigo  2014  Gran Enemigo Single Vineyard Gualtallary Caber...   \n",
       "\n",
       "         region  rating  price_rating  \n",
       "54  Gualtallary     4.6         82.86  "
      ]
     },
     "execution_count": 98,
     "metadata": {},
     "output_type": "execute_result"
    }
   ],
   "source": [
    "outlier_3 = merged_data[(merged_data['rating'] > 4.5)]\n",
    "outlier_3"
   ]
  },
  {
   "cell_type": "code",
   "execution_count": 99,
   "id": "c82f0eea",
   "metadata": {},
   "outputs": [
    {
     "data": {
      "text/plain": [
       "54    El Enemigo 2014 Gran Enemigo Gualtallary Singl...\n",
       "Name: title, dtype: object"
      ]
     },
     "execution_count": 99,
     "metadata": {},
     "output_type": "execute_result"
    }
   ],
   "source": [
    "outlier_3['title'] #They seem to be duplicates but they are different bottles"
   ]
  },
  {
   "cell_type": "code",
   "execution_count": 100,
   "id": "471d81b9",
   "metadata": {},
   "outputs": [
    {
     "name": "stdout",
     "output_type": "stream",
     "text": [
      "                            OLS Regression Results                            \n",
      "==============================================================================\n",
      "Dep. Variable:                 points   R-squared:                       0.203\n",
      "Model:                            OLS   Adj. R-squared:                  0.196\n",
      "Method:                 Least Squares   F-statistic:                     29.73\n",
      "Date:                Thu, 16 May 2024   Prob (F-statistic):           2.80e-07\n",
      "Time:                        11:24:54   Log-Likelihood:                -300.32\n",
      "No. Observations:                 119   AIC:                             604.6\n",
      "Df Residuals:                     117   BIC:                             610.2\n",
      "Df Model:                           1                                         \n",
      "Covariance Type:            nonrobust                                         \n",
      "==============================================================================\n",
      "                 coef    std err          t      P>|t|      [0.025      0.975]\n",
      "------------------------------------------------------------------------------\n",
      "const         72.8448      2.985     24.403      0.000      66.933      78.757\n",
      "rating         4.1742      0.766      5.453      0.000       2.658       5.690\n",
      "==============================================================================\n",
      "Omnibus:                        3.780   Durbin-Watson:                   1.965\n",
      "Prob(Omnibus):                  0.151   Jarque-Bera (JB):                4.504\n",
      "Skew:                           0.022   Prob(JB):                        0.105\n",
      "Kurtosis:                       3.952   Cond. No.                         44.4\n",
      "==============================================================================\n",
      "\n",
      "Notes:\n",
      "[1] Standard Errors assume that the covariance matrix of the errors is correctly specified.\n"
     ]
    }
   ],
   "source": [
    "X = sm.add_constant(merged_data['rating'])\n",
    "\n",
    "# Fit OLS model (ordinary least squares)\n",
    "model = sm.OLS(merged_data['points'], X).fit()\n",
    "\n",
    "# Print model summary\n",
    "print(model.summary())"
   ]
  },
  {
   "cell_type": "code",
   "execution_count": null,
   "id": "1e2d603b",
   "metadata": {},
   "outputs": [],
   "source": []
  }
 ],
 "metadata": {
  "kernelspec": {
   "display_name": "Python 3 (ipykernel)",
   "language": "python",
   "name": "python3"
  },
  "language_info": {
   "codemirror_mode": {
    "name": "ipython",
    "version": 3
   },
   "file_extension": ".py",
   "mimetype": "text/x-python",
   "name": "python",
   "nbconvert_exporter": "python",
   "pygments_lexer": "ipython3",
   "version": "3.11.7"
  }
 },
 "nbformat": 4,
 "nbformat_minor": 5
}
