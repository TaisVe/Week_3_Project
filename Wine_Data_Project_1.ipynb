{
 "cells": [
  {
   "cell_type": "code",
   "execution_count": 1,
   "id": "8d30c848",
   "metadata": {},
   "outputs": [],
   "source": [
    "import pandas as pd\n",
    "import numpy as np\n",
    "import seaborn as sns\n",
    "import requests"
   ]
  },
  {
   "cell_type": "code",
   "execution_count": 2,
   "id": "69736abd",
   "metadata": {},
   "outputs": [],
   "source": [
    "wine_data = pd.read_csv('winemag-data-130k-v2.csv')"
   ]
  },
  {
   "cell_type": "code",
   "execution_count": 3,
   "id": "5bdf0ad7",
   "metadata": {},
   "outputs": [
    {
     "data": {
      "text/plain": [
       "(129971, 14)"
      ]
     },
     "execution_count": 3,
     "metadata": {},
     "output_type": "execute_result"
    }
   ],
   "source": [
    "wine_data.shape"
   ]
  },
  {
   "cell_type": "code",
   "execution_count": 4,
   "id": "37fa7269",
   "metadata": {},
   "outputs": [
    {
     "data": {
      "text/html": [
       "<div>\n",
       "<style scoped>\n",
       "    .dataframe tbody tr th:only-of-type {\n",
       "        vertical-align: middle;\n",
       "    }\n",
       "\n",
       "    .dataframe tbody tr th {\n",
       "        vertical-align: top;\n",
       "    }\n",
       "\n",
       "    .dataframe thead th {\n",
       "        text-align: right;\n",
       "    }\n",
       "</style>\n",
       "<table border=\"1\" class=\"dataframe\">\n",
       "  <thead>\n",
       "    <tr style=\"text-align: right;\">\n",
       "      <th></th>\n",
       "      <th>Unnamed: 0</th>\n",
       "      <th>country</th>\n",
       "      <th>description</th>\n",
       "      <th>designation</th>\n",
       "      <th>points</th>\n",
       "      <th>price</th>\n",
       "      <th>province</th>\n",
       "      <th>region_1</th>\n",
       "      <th>region_2</th>\n",
       "      <th>taster_name</th>\n",
       "      <th>taster_twitter_handle</th>\n",
       "      <th>title</th>\n",
       "      <th>variety</th>\n",
       "      <th>winery</th>\n",
       "    </tr>\n",
       "  </thead>\n",
       "  <tbody>\n",
       "    <tr>\n",
       "      <th>0</th>\n",
       "      <td>0</td>\n",
       "      <td>Italy</td>\n",
       "      <td>Aromas include tropical fruit, broom, brimston...</td>\n",
       "      <td>Vulkà Bianco</td>\n",
       "      <td>87</td>\n",
       "      <td>NaN</td>\n",
       "      <td>Sicily &amp; Sardinia</td>\n",
       "      <td>Etna</td>\n",
       "      <td>NaN</td>\n",
       "      <td>Kerin O’Keefe</td>\n",
       "      <td>@kerinokeefe</td>\n",
       "      <td>Nicosia 2013 Vulkà Bianco  (Etna)</td>\n",
       "      <td>White Blend</td>\n",
       "      <td>Nicosia</td>\n",
       "    </tr>\n",
       "    <tr>\n",
       "      <th>1</th>\n",
       "      <td>1</td>\n",
       "      <td>Portugal</td>\n",
       "      <td>This is ripe and fruity, a wine that is smooth...</td>\n",
       "      <td>Avidagos</td>\n",
       "      <td>87</td>\n",
       "      <td>15.0</td>\n",
       "      <td>Douro</td>\n",
       "      <td>NaN</td>\n",
       "      <td>NaN</td>\n",
       "      <td>Roger Voss</td>\n",
       "      <td>@vossroger</td>\n",
       "      <td>Quinta dos Avidagos 2011 Avidagos Red (Douro)</td>\n",
       "      <td>Portuguese Red</td>\n",
       "      <td>Quinta dos Avidagos</td>\n",
       "    </tr>\n",
       "    <tr>\n",
       "      <th>2</th>\n",
       "      <td>2</td>\n",
       "      <td>US</td>\n",
       "      <td>Tart and snappy, the flavors of lime flesh and...</td>\n",
       "      <td>NaN</td>\n",
       "      <td>87</td>\n",
       "      <td>14.0</td>\n",
       "      <td>Oregon</td>\n",
       "      <td>Willamette Valley</td>\n",
       "      <td>Willamette Valley</td>\n",
       "      <td>Paul Gregutt</td>\n",
       "      <td>@paulgwine</td>\n",
       "      <td>Rainstorm 2013 Pinot Gris (Willamette Valley)</td>\n",
       "      <td>Pinot Gris</td>\n",
       "      <td>Rainstorm</td>\n",
       "    </tr>\n",
       "    <tr>\n",
       "      <th>3</th>\n",
       "      <td>3</td>\n",
       "      <td>US</td>\n",
       "      <td>Pineapple rind, lemon pith and orange blossom ...</td>\n",
       "      <td>Reserve Late Harvest</td>\n",
       "      <td>87</td>\n",
       "      <td>13.0</td>\n",
       "      <td>Michigan</td>\n",
       "      <td>Lake Michigan Shore</td>\n",
       "      <td>NaN</td>\n",
       "      <td>Alexander Peartree</td>\n",
       "      <td>NaN</td>\n",
       "      <td>St. Julian 2013 Reserve Late Harvest Riesling ...</td>\n",
       "      <td>Riesling</td>\n",
       "      <td>St. Julian</td>\n",
       "    </tr>\n",
       "    <tr>\n",
       "      <th>4</th>\n",
       "      <td>4</td>\n",
       "      <td>US</td>\n",
       "      <td>Much like the regular bottling from 2012, this...</td>\n",
       "      <td>Vintner's Reserve Wild Child Block</td>\n",
       "      <td>87</td>\n",
       "      <td>65.0</td>\n",
       "      <td>Oregon</td>\n",
       "      <td>Willamette Valley</td>\n",
       "      <td>Willamette Valley</td>\n",
       "      <td>Paul Gregutt</td>\n",
       "      <td>@paulgwine</td>\n",
       "      <td>Sweet Cheeks 2012 Vintner's Reserve Wild Child...</td>\n",
       "      <td>Pinot Noir</td>\n",
       "      <td>Sweet Cheeks</td>\n",
       "    </tr>\n",
       "  </tbody>\n",
       "</table>\n",
       "</div>"
      ],
      "text/plain": [
       "   Unnamed: 0   country                                        description  \\\n",
       "0           0     Italy  Aromas include tropical fruit, broom, brimston...   \n",
       "1           1  Portugal  This is ripe and fruity, a wine that is smooth...   \n",
       "2           2        US  Tart and snappy, the flavors of lime flesh and...   \n",
       "3           3        US  Pineapple rind, lemon pith and orange blossom ...   \n",
       "4           4        US  Much like the regular bottling from 2012, this...   \n",
       "\n",
       "                          designation  points  price           province  \\\n",
       "0                        Vulkà Bianco      87    NaN  Sicily & Sardinia   \n",
       "1                            Avidagos      87   15.0              Douro   \n",
       "2                                 NaN      87   14.0             Oregon   \n",
       "3                Reserve Late Harvest      87   13.0           Michigan   \n",
       "4  Vintner's Reserve Wild Child Block      87   65.0             Oregon   \n",
       "\n",
       "              region_1           region_2         taster_name  \\\n",
       "0                 Etna                NaN       Kerin O’Keefe   \n",
       "1                  NaN                NaN          Roger Voss   \n",
       "2    Willamette Valley  Willamette Valley        Paul Gregutt   \n",
       "3  Lake Michigan Shore                NaN  Alexander Peartree   \n",
       "4    Willamette Valley  Willamette Valley        Paul Gregutt   \n",
       "\n",
       "  taster_twitter_handle                                              title  \\\n",
       "0          @kerinokeefe                  Nicosia 2013 Vulkà Bianco  (Etna)   \n",
       "1            @vossroger      Quinta dos Avidagos 2011 Avidagos Red (Douro)   \n",
       "2           @paulgwine       Rainstorm 2013 Pinot Gris (Willamette Valley)   \n",
       "3                   NaN  St. Julian 2013 Reserve Late Harvest Riesling ...   \n",
       "4           @paulgwine   Sweet Cheeks 2012 Vintner's Reserve Wild Child...   \n",
       "\n",
       "          variety               winery  \n",
       "0     White Blend              Nicosia  \n",
       "1  Portuguese Red  Quinta dos Avidagos  \n",
       "2      Pinot Gris            Rainstorm  \n",
       "3        Riesling           St. Julian  \n",
       "4      Pinot Noir         Sweet Cheeks  "
      ]
     },
     "execution_count": 4,
     "metadata": {},
     "output_type": "execute_result"
    }
   ],
   "source": [
    "wine_data.head()"
   ]
  },
  {
   "cell_type": "code",
   "execution_count": 5,
   "id": "f5a6c2ed",
   "metadata": {
    "scrolled": true
   },
   "outputs": [
    {
     "data": {
      "text/plain": [
       "country\n",
       "US                        54504\n",
       "France                    22093\n",
       "Italy                     19540\n",
       "Spain                      6645\n",
       "Portugal                   5691\n",
       "Chile                      4472\n",
       "Argentina                  3800\n",
       "Austria                    3345\n",
       "Australia                  2329\n",
       "Germany                    2165\n",
       "New Zealand                1419\n",
       "South Africa               1401\n",
       "Israel                      505\n",
       "Greece                      466\n",
       "Canada                      257\n",
       "Hungary                     146\n",
       "Bulgaria                    141\n",
       "Romania                     120\n",
       "Uruguay                     109\n",
       "Turkey                       90\n",
       "Slovenia                     87\n",
       "Georgia                      86\n",
       "England                      74\n",
       "Croatia                      73\n",
       "Mexico                       70\n",
       "Moldova                      59\n",
       "Brazil                       52\n",
       "Lebanon                      35\n",
       "Morocco                      28\n",
       "Peru                         16\n",
       "Ukraine                      14\n",
       "Serbia                       12\n",
       "Czech Republic               12\n",
       "Macedonia                    12\n",
       "Cyprus                       11\n",
       "India                         9\n",
       "Switzerland                   7\n",
       "Luxembourg                    6\n",
       "Bosnia and Herzegovina        2\n",
       "Armenia                       2\n",
       "Slovakia                      1\n",
       "China                         1\n",
       "Egypt                         1\n",
       "Name: count, dtype: int64"
      ]
     },
     "execution_count": 5,
     "metadata": {},
     "output_type": "execute_result"
    }
   ],
   "source": [
    "wine_data['country'].value_counts() #Italy is third for most value counts!"
   ]
  },
  {
   "cell_type": "code",
   "execution_count": 6,
   "id": "c99eb318",
   "metadata": {
    "scrolled": true
   },
   "outputs": [
    {
     "name": "stdout",
     "output_type": "stream",
     "text": [
      "country\n",
      "US           54504\n",
      "France       22093\n",
      "Italy        19540\n",
      "Spain         6645\n",
      "Portugal      5691\n",
      "Chile         4472\n",
      "Argentina     3800\n",
      "Austria       3345\n",
      "Australia     2329\n",
      "Germany       2165\n",
      "Name: count, dtype: int64\n"
     ]
    }
   ],
   "source": [
    "# Sort the countries based on the count of entries in descending order\n",
    "sorted_countries = wine_data['country'].value_counts().sort_values(ascending=False)\n",
    "\n",
    "# Select the top 10 countries\n",
    "top_10_countries = sorted_countries.head(10)\n",
    "\n",
    "print(top_10_countries)"
   ]
  },
  {
   "cell_type": "code",
   "execution_count": 7,
   "id": "af91e9db",
   "metadata": {
    "scrolled": true
   },
   "outputs": [
    {
     "data": {
      "text/plain": [
       "province\n",
       "California        36247\n",
       "Washington         8639\n",
       "Bordeaux           5941\n",
       "Tuscany            5897\n",
       "Oregon             5373\n",
       "                  ...  \n",
       "Messinia              1\n",
       "Markopoulo            1\n",
       "Paardeberg            1\n",
       "Krania Olympus        1\n",
       "Neuchâtel             1\n",
       "Name: count, Length: 425, dtype: int64"
      ]
     },
     "execution_count": 7,
     "metadata": {},
     "output_type": "execute_result"
    }
   ],
   "source": [
    "wine_data['province'].value_counts() #Top province is California"
   ]
  },
  {
   "cell_type": "code",
   "execution_count": 8,
   "id": "19c04b41",
   "metadata": {
    "scrolled": true
   },
   "outputs": [
    {
     "name": "stdout",
     "output_type": "stream",
     "text": [
      "province\n",
      "California          36247\n",
      "Washington           8639\n",
      "Bordeaux             5941\n",
      "Tuscany              5897\n",
      "Oregon               5373\n",
      "Burgundy             3980\n",
      "Northern Spain       3851\n",
      "Piedmont             3729\n",
      "Mendoza Province     3264\n",
      "Veneto               2716\n",
      "Name: count, dtype: int64\n"
     ]
    }
   ],
   "source": [
    "# Sort the province based on the count of entries in descending order\n",
    "sorted_province = wine_data['province'].value_counts().sort_values(ascending=False)\n",
    "\n",
    "# Select the top 10 province\n",
    "top_10_province = sorted_province.head(10)\n",
    "\n",
    "print(top_10_province)"
   ]
  },
  {
   "cell_type": "code",
   "execution_count": 9,
   "id": "01b4be4a",
   "metadata": {},
   "outputs": [
    {
     "name": "stdout",
     "output_type": "stream",
     "text": [
      "province\n",
      "California    36247\n",
      "Washington     8639\n",
      "Oregon         5373\n",
      "New York       2688\n",
      "Virginia        777\n",
      "Idaho           192\n",
      "Michigan        114\n",
      "America          95\n",
      "Texas            94\n",
      "Colorado         68\n",
      "Name: count, dtype: int64\n"
     ]
    }
   ],
   "source": [
    "#top province within the US\n",
    "top_provinces_us = wine_data['province'][wine_data['country'] == 'US'].value_counts().sort_values(ascending=False).head(10)\n",
    "print(top_provinces_us)"
   ]
  },
  {
   "cell_type": "code",
   "execution_count": 10,
   "id": "bdd95ce9",
   "metadata": {
    "scrolled": false
   },
   "outputs": [
    {
     "data": {
      "text/plain": [
       "variety\n",
       "Pinot Noir                    13272\n",
       "Chardonnay                    11753\n",
       "Cabernet Sauvignon             9472\n",
       "Red Blend                      8946\n",
       "Bordeaux-style Red Blend       6915\n",
       "                              ...  \n",
       "Cabernet Sauvignon-Barbera        1\n",
       "Sauvignonasse                     1\n",
       "Forcallà                          1\n",
       "Meseguera                         1\n",
       "Bobal-Cabernet Sauvignon          1\n",
       "Name: count, Length: 707, dtype: int64"
      ]
     },
     "execution_count": 10,
     "metadata": {},
     "output_type": "execute_result"
    }
   ],
   "source": [
    "wine_data['variety'].value_counts() #Majority are Pinot Noir and Chardonnay (makes sense with Cali being 1)"
   ]
  },
  {
   "cell_type": "code",
   "execution_count": 11,
   "id": "6bec3729",
   "metadata": {},
   "outputs": [
    {
     "name": "stdout",
     "output_type": "stream",
     "text": [
      "variety\n",
      "Pinot Noir                  13272\n",
      "Chardonnay                  11753\n",
      "Cabernet Sauvignon           9472\n",
      "Red Blend                    8946\n",
      "Bordeaux-style Red Blend     6915\n",
      "Riesling                     5189\n",
      "Sauvignon Blanc              4967\n",
      "Syrah                        4142\n",
      "Rosé                         3564\n",
      "Merlot                       3102\n",
      "Name: count, dtype: int64\n"
     ]
    }
   ],
   "source": [
    "# Sort the variety based on the count of entries in descending order\n",
    "sorted_variety = wine_data['variety'].value_counts().sort_values(ascending=False)\n",
    "\n",
    "# Select the top 10 variety\n",
    "top_10_variety = sorted_variety.head(10)\n",
    "\n",
    "print(top_10_variety)"
   ]
  },
  {
   "cell_type": "code",
   "execution_count": 12,
   "id": "82beb303",
   "metadata": {
    "scrolled": true
   },
   "outputs": [
    {
     "data": {
      "text/plain": [
       "points\n",
       "88     17207\n",
       "87     16933\n",
       "90     15410\n",
       "86     12600\n",
       "89     12226\n",
       "91     11359\n",
       "92      9613\n",
       "85      9530\n",
       "93      6489\n",
       "84      6480\n",
       "94      3758\n",
       "83      3025\n",
       "82      1836\n",
       "95      1535\n",
       "81       692\n",
       "96       523\n",
       "80       397\n",
       "97       229\n",
       "98        77\n",
       "99        33\n",
       "100       19\n",
       "Name: count, dtype: int64"
      ]
     },
     "execution_count": 12,
     "metadata": {},
     "output_type": "execute_result"
    }
   ],
   "source": [
    "wine_data['points'].value_counts() #Points range from 80 to 100"
   ]
  },
  {
   "cell_type": "code",
   "execution_count": 13,
   "id": "615ba1d0",
   "metadata": {},
   "outputs": [
    {
     "data": {
      "text/plain": [
       "variety\n",
       "Bordeaux-style Red Blend      5\n",
       "Champagne Blend               2\n",
       "Syrah                         2\n",
       "Muscat                        1\n",
       "Prugnolo Gentile              1\n",
       "Merlot                        1\n",
       "Portuguese Red                1\n",
       "Sangiovese                    1\n",
       "Cabernet Sauvignon            1\n",
       "Chardonnay                    1\n",
       "Sangiovese Grosso             1\n",
       "Port                          1\n",
       "Bordeaux-style White Blend    1\n",
       "Name: count, dtype: int64"
      ]
     },
     "execution_count": 13,
     "metadata": {},
     "output_type": "execute_result"
    }
   ],
   "source": [
    "#THE VARIETY WITH THE HIGHEST POINT 100\n",
    "\n",
    "#Sort the points in ascending order\n",
    "sorted_counts = wine_data['points'].value_counts().sort_index(ascending=False)\n",
    "#Top point 88\n",
    "top_point = sorted_counts.index[0]\n",
    "\n",
    "variety_for_top_point = wine_data[wine_data['points'] == top_point]['variety']#.iloc[0]\n",
    "variety_for_top_point.value_counts()"
   ]
  },
  {
   "cell_type": "code",
   "execution_count": 14,
   "id": "139e84e8",
   "metadata": {},
   "outputs": [
    {
     "data": {
      "text/plain": [
       "variety\n",
       "Pinot Noir                  1434\n",
       "Chardonnay                  1393\n",
       "Red Blend                   1354\n",
       "Cabernet Sauvignon          1064\n",
       "Bordeaux-style Red Blend     849\n",
       "Sauvignon Blanc              720\n",
       "Riesling                     636\n",
       "Rosé                         505\n",
       "Syrah                        458\n",
       "Sangiovese                   444\n",
       "Name: count, dtype: int64"
      ]
     },
     "execution_count": 14,
     "metadata": {},
     "output_type": "execute_result"
    }
   ],
   "source": [
    "#THE TOP 10 VARIETIES WITH THE HIGHEST value_count POINT 88\n",
    "\n",
    "top_point = wine_data['points'].value_counts().idxmax()\n",
    "\n",
    "variety_top_value_point = wine_data[wine_data['points'] == top_point]['variety']#.iloc[0]\n",
    "\n",
    "variety_top_value_point.value_counts().head(10)"
   ]
  },
  {
   "cell_type": "code",
   "execution_count": 15,
   "id": "9b0bcb58",
   "metadata": {},
   "outputs": [
    {
     "data": {
      "text/plain": [
       "17207"
      ]
     },
     "execution_count": 15,
     "metadata": {},
     "output_type": "execute_result"
    }
   ],
   "source": [
    "len(variety_top_value_point)"
   ]
  },
  {
   "cell_type": "code",
   "execution_count": 16,
   "id": "adc3264e",
   "metadata": {},
   "outputs": [
    {
     "data": {
      "text/plain": [
       "119955"
      ]
     },
     "execution_count": 16,
     "metadata": {},
     "output_type": "execute_result"
    }
   ],
   "source": [
    "wine_data['description'].nunique() #Filter out unique values by key words (fruity, acidity, citrus...)"
   ]
  },
  {
   "cell_type": "code",
   "execution_count": 17,
   "id": "d0058e48",
   "metadata": {
    "scrolled": true
   },
   "outputs": [],
   "source": [
    "#wine_data['description'].value_counts() TOO MANY DESCRIPTIONS TO SUCCEFULY FILTER OUT"
   ]
  },
  {
   "cell_type": "code",
   "execution_count": 18,
   "id": "f0c5bc90",
   "metadata": {
    "scrolled": true
   },
   "outputs": [
    {
     "data": {
      "text/plain": [
       "707"
      ]
     },
     "execution_count": 18,
     "metadata": {},
     "output_type": "execute_result"
    }
   ],
   "source": [
    "wine_data['variety'].nunique()"
   ]
  },
  {
   "cell_type": "code",
   "execution_count": 19,
   "id": "b9e52651",
   "metadata": {},
   "outputs": [
    {
     "data": {
      "text/plain": [
       "43"
      ]
     },
     "execution_count": 19,
     "metadata": {},
     "output_type": "execute_result"
    }
   ],
   "source": [
    "wine_data['country'].nunique()"
   ]
  },
  {
   "cell_type": "code",
   "execution_count": 20,
   "id": "56fec540",
   "metadata": {},
   "outputs": [],
   "source": [
    "wine_data.drop(columns=['Unnamed: 0', 'designation', 'region_1', 'region_2',\n",
    "                        'taster_name', 'taster_twitter_handle'], inplace=True)"
   ]
  },
  {
   "cell_type": "code",
   "execution_count": 21,
   "id": "7ae14d85",
   "metadata": {
    "scrolled": true
   },
   "outputs": [
    {
     "data": {
      "text/plain": [
       "country         object\n",
       "description     object\n",
       "points           int64\n",
       "price          float64\n",
       "province        object\n",
       "title           object\n",
       "variety         object\n",
       "winery          object\n",
       "dtype: object"
      ]
     },
     "execution_count": 21,
     "metadata": {},
     "output_type": "execute_result"
    }
   ],
   "source": [
    "wine_data.dtypes"
   ]
  },
  {
   "cell_type": "markdown",
   "id": "a6931878",
   "metadata": {},
   "source": [
    "#### Categorical Data: \n",
    "Country, Description, Province, Title, Variety, Winery\n",
    "\n",
    "#### Numerical Data: \n",
    "Points, Price"
   ]
  },
  {
   "cell_type": "code",
   "execution_count": 22,
   "id": "803f3a26",
   "metadata": {},
   "outputs": [
    {
     "data": {
      "text/plain": [
       "country          63\n",
       "description       0\n",
       "points            0\n",
       "price          8996\n",
       "province         63\n",
       "title             0\n",
       "variety           1\n",
       "winery            0\n",
       "dtype: int64"
      ]
     },
     "execution_count": 22,
     "metadata": {},
     "output_type": "execute_result"
    }
   ],
   "source": [
    "wine_data.isna().sum() #No Nan values in description, few in country, only 1 in variety"
   ]
  },
  {
   "cell_type": "markdown",
   "id": "bd2d1646",
   "metadata": {},
   "source": [
    "#### Regular expression pattern to match the whole word \"__________\"\n",
    "pattern = r\"\\b(fruit)\\b\"\n",
    "\n",
    "#### wine_data[\"description\"] = wine_data['description'].fillna('N/A')\n",
    "\n",
    "wine_data[\"description\"] = wine_data[\"description\"].astype(str)\n",
    "wine_data[\"description\"] = wine_data[\"description\"].apply(lambda word : word.strip())\n",
    "\n",
    "#### Filter rows containing the word \"_________\" (case-insensitive, if required)\n",
    "fruit_wine = wine_data[\"description\"].str.extract(pattern)"
   ]
  },
  {
   "cell_type": "code",
   "execution_count": 23,
   "id": "261ec240",
   "metadata": {},
   "outputs": [],
   "source": [
    "#Should we drop price?"
   ]
  },
  {
   "cell_type": "markdown",
   "id": "d17deeb5",
   "metadata": {},
   "source": [
    "------------------------------------------------------------------------------------------------------------"
   ]
  },
  {
   "cell_type": "code",
   "execution_count": 24,
   "id": "bbd0e780",
   "metadata": {},
   "outputs": [],
   "source": [
    "vivino_red_data = pd.read_csv(\"Red.csv\", encoding='latin-1')"
   ]
  },
  {
   "cell_type": "code",
   "execution_count": 25,
   "id": "d80430ad",
   "metadata": {},
   "outputs": [
    {
     "data": {
      "text/plain": [
       "(8666, 8)"
      ]
     },
     "execution_count": 25,
     "metadata": {},
     "output_type": "execute_result"
    }
   ],
   "source": [
    "vivino_red_data.shape"
   ]
  },
  {
   "cell_type": "code",
   "execution_count": 26,
   "id": "d103f4e0",
   "metadata": {},
   "outputs": [
    {
     "data": {
      "text/html": [
       "<div>\n",
       "<style scoped>\n",
       "    .dataframe tbody tr th:only-of-type {\n",
       "        vertical-align: middle;\n",
       "    }\n",
       "\n",
       "    .dataframe tbody tr th {\n",
       "        vertical-align: top;\n",
       "    }\n",
       "\n",
       "    .dataframe thead th {\n",
       "        text-align: right;\n",
       "    }\n",
       "</style>\n",
       "<table border=\"1\" class=\"dataframe\">\n",
       "  <thead>\n",
       "    <tr style=\"text-align: right;\">\n",
       "      <th></th>\n",
       "      <th>ï»¿Name</th>\n",
       "      <th>Country</th>\n",
       "      <th>Region</th>\n",
       "      <th>Winery</th>\n",
       "      <th>Rating</th>\n",
       "      <th>NumberOfRatings</th>\n",
       "      <th>Price</th>\n",
       "      <th>Year</th>\n",
       "    </tr>\n",
       "  </thead>\n",
       "  <tbody>\n",
       "    <tr>\n",
       "      <th>0</th>\n",
       "      <td>Pomerol 2011</td>\n",
       "      <td>France</td>\n",
       "      <td>Pomerol</td>\n",
       "      <td>ChÃ¢teau La Providence</td>\n",
       "      <td>4.2</td>\n",
       "      <td>100</td>\n",
       "      <td>95.00</td>\n",
       "      <td>2011</td>\n",
       "    </tr>\n",
       "    <tr>\n",
       "      <th>1</th>\n",
       "      <td>Lirac 2017</td>\n",
       "      <td>France</td>\n",
       "      <td>Lirac</td>\n",
       "      <td>ChÃ¢teau Mont-Redon</td>\n",
       "      <td>4.3</td>\n",
       "      <td>100</td>\n",
       "      <td>15.50</td>\n",
       "      <td>2017</td>\n",
       "    </tr>\n",
       "    <tr>\n",
       "      <th>2</th>\n",
       "      <td>Erta e China Rosso di Toscana 2015</td>\n",
       "      <td>Italy</td>\n",
       "      <td>Toscana</td>\n",
       "      <td>Renzo Masi</td>\n",
       "      <td>3.9</td>\n",
       "      <td>100</td>\n",
       "      <td>7.45</td>\n",
       "      <td>2015</td>\n",
       "    </tr>\n",
       "    <tr>\n",
       "      <th>3</th>\n",
       "      <td>Bardolino 2019</td>\n",
       "      <td>Italy</td>\n",
       "      <td>Bardolino</td>\n",
       "      <td>Cavalchina</td>\n",
       "      <td>3.5</td>\n",
       "      <td>100</td>\n",
       "      <td>8.72</td>\n",
       "      <td>2019</td>\n",
       "    </tr>\n",
       "    <tr>\n",
       "      <th>4</th>\n",
       "      <td>Ried Scheibner Pinot Noir 2016</td>\n",
       "      <td>Austria</td>\n",
       "      <td>Carnuntum</td>\n",
       "      <td>Markowitsch</td>\n",
       "      <td>3.9</td>\n",
       "      <td>100</td>\n",
       "      <td>29.15</td>\n",
       "      <td>2016</td>\n",
       "    </tr>\n",
       "    <tr>\n",
       "      <th>...</th>\n",
       "      <td>...</td>\n",
       "      <td>...</td>\n",
       "      <td>...</td>\n",
       "      <td>...</td>\n",
       "      <td>...</td>\n",
       "      <td>...</td>\n",
       "      <td>...</td>\n",
       "      <td>...</td>\n",
       "    </tr>\n",
       "    <tr>\n",
       "      <th>8661</th>\n",
       "      <td>6th Sense Syrah 2016</td>\n",
       "      <td>United States</td>\n",
       "      <td>Lodi</td>\n",
       "      <td>Michael David Winery</td>\n",
       "      <td>3.8</td>\n",
       "      <td>994</td>\n",
       "      <td>16.47</td>\n",
       "      <td>2016</td>\n",
       "    </tr>\n",
       "    <tr>\n",
       "      <th>8662</th>\n",
       "      <td>Botrosecco Maremma Toscana 2016</td>\n",
       "      <td>Italy</td>\n",
       "      <td>Maremma Toscana</td>\n",
       "      <td>Le Mortelle</td>\n",
       "      <td>4.0</td>\n",
       "      <td>995</td>\n",
       "      <td>20.09</td>\n",
       "      <td>2016</td>\n",
       "    </tr>\n",
       "    <tr>\n",
       "      <th>8663</th>\n",
       "      <td>Haut-MÃ©doc 2010</td>\n",
       "      <td>France</td>\n",
       "      <td>Haut-MÃ©doc</td>\n",
       "      <td>ChÃ¢teau Cambon La Pelouse</td>\n",
       "      <td>3.7</td>\n",
       "      <td>996</td>\n",
       "      <td>23.95</td>\n",
       "      <td>2010</td>\n",
       "    </tr>\n",
       "    <tr>\n",
       "      <th>8664</th>\n",
       "      <td>Shiraz 2019</td>\n",
       "      <td>Australia</td>\n",
       "      <td>South Eastern Australia</td>\n",
       "      <td>Yellow Tail</td>\n",
       "      <td>3.5</td>\n",
       "      <td>998</td>\n",
       "      <td>6.21</td>\n",
       "      <td>2019</td>\n",
       "    </tr>\n",
       "    <tr>\n",
       "      <th>8665</th>\n",
       "      <td>Portillo Cabernet Sauvignon 2016</td>\n",
       "      <td>Argentina</td>\n",
       "      <td>TunuyÃ¡n</td>\n",
       "      <td>Salentein</td>\n",
       "      <td>3.4</td>\n",
       "      <td>999</td>\n",
       "      <td>7.88</td>\n",
       "      <td>2016</td>\n",
       "    </tr>\n",
       "  </tbody>\n",
       "</table>\n",
       "<p>8666 rows × 8 columns</p>\n",
       "</div>"
      ],
      "text/plain": [
       "                                 ï»¿Name        Country  \\\n",
       "0                           Pomerol 2011         France   \n",
       "1                             Lirac 2017         France   \n",
       "2     Erta e China Rosso di Toscana 2015          Italy   \n",
       "3                         Bardolino 2019          Italy   \n",
       "4         Ried Scheibner Pinot Noir 2016        Austria   \n",
       "...                                  ...            ...   \n",
       "8661                6th Sense Syrah 2016  United States   \n",
       "8662     Botrosecco Maremma Toscana 2016          Italy   \n",
       "8663                    Haut-MÃ©doc 2010         France   \n",
       "8664                         Shiraz 2019      Australia   \n",
       "8665    Portillo Cabernet Sauvignon 2016      Argentina   \n",
       "\n",
       "                       Region                      Winery  Rating  \\\n",
       "0                     Pomerol      ChÃ¢teau La Providence     4.2   \n",
       "1                       Lirac         ChÃ¢teau Mont-Redon     4.3   \n",
       "2                     Toscana                  Renzo Masi     3.9   \n",
       "3                   Bardolino                  Cavalchina     3.5   \n",
       "4                   Carnuntum                 Markowitsch     3.9   \n",
       "...                       ...                         ...     ...   \n",
       "8661                     Lodi        Michael David Winery     3.8   \n",
       "8662          Maremma Toscana                 Le Mortelle     4.0   \n",
       "8663              Haut-MÃ©doc  ChÃ¢teau Cambon La Pelouse     3.7   \n",
       "8664  South Eastern Australia                 Yellow Tail     3.5   \n",
       "8665                 TunuyÃ¡n                   Salentein     3.4   \n",
       "\n",
       "      NumberOfRatings  Price  Year  \n",
       "0                 100  95.00  2011  \n",
       "1                 100  15.50  2017  \n",
       "2                 100   7.45  2015  \n",
       "3                 100   8.72  2019  \n",
       "4                 100  29.15  2016  \n",
       "...               ...    ...   ...  \n",
       "8661              994  16.47  2016  \n",
       "8662              995  20.09  2016  \n",
       "8663              996  23.95  2010  \n",
       "8664              998   6.21  2019  \n",
       "8665              999   7.88  2016  \n",
       "\n",
       "[8666 rows x 8 columns]"
      ]
     },
     "execution_count": 26,
     "metadata": {},
     "output_type": "execute_result"
    }
   ],
   "source": [
    "vivino_red_data"
   ]
  },
  {
   "cell_type": "code",
   "execution_count": 27,
   "id": "8e985fde",
   "metadata": {},
   "outputs": [
    {
     "data": {
      "text/plain": [
       "Region\n",
       "Rioja                                   325\n",
       "Toscana                                 249\n",
       "Stellenbosch                            232\n",
       "Saint-Ãmilion Grand Cru                207\n",
       "Barolo                                  175\n",
       "                                       ... \n",
       "Sachsen                                   1\n",
       "Coteaux Varois en Provence                1\n",
       "Orvietano Rosso                           1\n",
       "Mercurey 1er Cru 'Le Clos L'EvÃªque'      1\n",
       "Mount Veeder                              1\n",
       "Name: count, Length: 624, dtype: int64"
      ]
     },
     "execution_count": 27,
     "metadata": {},
     "output_type": "execute_result"
    }
   ],
   "source": [
    "vivino_red_data['Region'].value_counts()"
   ]
  },
  {
   "cell_type": "code",
   "execution_count": 28,
   "id": "bd1a93b3",
   "metadata": {},
   "outputs": [],
   "source": [
    "vivino_red_data.rename(columns={'ï»¿Name': 'Name'}, inplace=True)"
   ]
  },
  {
   "cell_type": "code",
   "execution_count": 29,
   "id": "ed7162f3",
   "metadata": {},
   "outputs": [
    {
     "data": {
      "text/html": [
       "<div>\n",
       "<style scoped>\n",
       "    .dataframe tbody tr th:only-of-type {\n",
       "        vertical-align: middle;\n",
       "    }\n",
       "\n",
       "    .dataframe tbody tr th {\n",
       "        vertical-align: top;\n",
       "    }\n",
       "\n",
       "    .dataframe thead th {\n",
       "        text-align: right;\n",
       "    }\n",
       "</style>\n",
       "<table border=\"1\" class=\"dataframe\">\n",
       "  <thead>\n",
       "    <tr style=\"text-align: right;\">\n",
       "      <th></th>\n",
       "      <th>Name</th>\n",
       "      <th>Country</th>\n",
       "      <th>Region</th>\n",
       "      <th>Winery</th>\n",
       "      <th>Rating</th>\n",
       "      <th>NumberOfRatings</th>\n",
       "      <th>Price</th>\n",
       "      <th>Year</th>\n",
       "    </tr>\n",
       "  </thead>\n",
       "  <tbody>\n",
       "    <tr>\n",
       "      <th>0</th>\n",
       "      <td>Pomerol 2011</td>\n",
       "      <td>France</td>\n",
       "      <td>Pomerol</td>\n",
       "      <td>ChÃ¢teau La Providence</td>\n",
       "      <td>4.2</td>\n",
       "      <td>100</td>\n",
       "      <td>95.00</td>\n",
       "      <td>2011</td>\n",
       "    </tr>\n",
       "    <tr>\n",
       "      <th>1</th>\n",
       "      <td>Lirac 2017</td>\n",
       "      <td>France</td>\n",
       "      <td>Lirac</td>\n",
       "      <td>ChÃ¢teau Mont-Redon</td>\n",
       "      <td>4.3</td>\n",
       "      <td>100</td>\n",
       "      <td>15.50</td>\n",
       "      <td>2017</td>\n",
       "    </tr>\n",
       "    <tr>\n",
       "      <th>2</th>\n",
       "      <td>Erta e China Rosso di Toscana 2015</td>\n",
       "      <td>Italy</td>\n",
       "      <td>Toscana</td>\n",
       "      <td>Renzo Masi</td>\n",
       "      <td>3.9</td>\n",
       "      <td>100</td>\n",
       "      <td>7.45</td>\n",
       "      <td>2015</td>\n",
       "    </tr>\n",
       "    <tr>\n",
       "      <th>3</th>\n",
       "      <td>Bardolino 2019</td>\n",
       "      <td>Italy</td>\n",
       "      <td>Bardolino</td>\n",
       "      <td>Cavalchina</td>\n",
       "      <td>3.5</td>\n",
       "      <td>100</td>\n",
       "      <td>8.72</td>\n",
       "      <td>2019</td>\n",
       "    </tr>\n",
       "    <tr>\n",
       "      <th>4</th>\n",
       "      <td>Ried Scheibner Pinot Noir 2016</td>\n",
       "      <td>Austria</td>\n",
       "      <td>Carnuntum</td>\n",
       "      <td>Markowitsch</td>\n",
       "      <td>3.9</td>\n",
       "      <td>100</td>\n",
       "      <td>29.15</td>\n",
       "      <td>2016</td>\n",
       "    </tr>\n",
       "    <tr>\n",
       "      <th>...</th>\n",
       "      <td>...</td>\n",
       "      <td>...</td>\n",
       "      <td>...</td>\n",
       "      <td>...</td>\n",
       "      <td>...</td>\n",
       "      <td>...</td>\n",
       "      <td>...</td>\n",
       "      <td>...</td>\n",
       "    </tr>\n",
       "    <tr>\n",
       "      <th>8661</th>\n",
       "      <td>6th Sense Syrah 2016</td>\n",
       "      <td>United States</td>\n",
       "      <td>Lodi</td>\n",
       "      <td>Michael David Winery</td>\n",
       "      <td>3.8</td>\n",
       "      <td>994</td>\n",
       "      <td>16.47</td>\n",
       "      <td>2016</td>\n",
       "    </tr>\n",
       "    <tr>\n",
       "      <th>8662</th>\n",
       "      <td>Botrosecco Maremma Toscana 2016</td>\n",
       "      <td>Italy</td>\n",
       "      <td>Maremma Toscana</td>\n",
       "      <td>Le Mortelle</td>\n",
       "      <td>4.0</td>\n",
       "      <td>995</td>\n",
       "      <td>20.09</td>\n",
       "      <td>2016</td>\n",
       "    </tr>\n",
       "    <tr>\n",
       "      <th>8663</th>\n",
       "      <td>Haut-MÃ©doc 2010</td>\n",
       "      <td>France</td>\n",
       "      <td>Haut-MÃ©doc</td>\n",
       "      <td>ChÃ¢teau Cambon La Pelouse</td>\n",
       "      <td>3.7</td>\n",
       "      <td>996</td>\n",
       "      <td>23.95</td>\n",
       "      <td>2010</td>\n",
       "    </tr>\n",
       "    <tr>\n",
       "      <th>8664</th>\n",
       "      <td>Shiraz 2019</td>\n",
       "      <td>Australia</td>\n",
       "      <td>South Eastern Australia</td>\n",
       "      <td>Yellow Tail</td>\n",
       "      <td>3.5</td>\n",
       "      <td>998</td>\n",
       "      <td>6.21</td>\n",
       "      <td>2019</td>\n",
       "    </tr>\n",
       "    <tr>\n",
       "      <th>8665</th>\n",
       "      <td>Portillo Cabernet Sauvignon 2016</td>\n",
       "      <td>Argentina</td>\n",
       "      <td>TunuyÃ¡n</td>\n",
       "      <td>Salentein</td>\n",
       "      <td>3.4</td>\n",
       "      <td>999</td>\n",
       "      <td>7.88</td>\n",
       "      <td>2016</td>\n",
       "    </tr>\n",
       "  </tbody>\n",
       "</table>\n",
       "<p>8666 rows × 8 columns</p>\n",
       "</div>"
      ],
      "text/plain": [
       "                                    Name        Country  \\\n",
       "0                           Pomerol 2011         France   \n",
       "1                             Lirac 2017         France   \n",
       "2     Erta e China Rosso di Toscana 2015          Italy   \n",
       "3                         Bardolino 2019          Italy   \n",
       "4         Ried Scheibner Pinot Noir 2016        Austria   \n",
       "...                                  ...            ...   \n",
       "8661                6th Sense Syrah 2016  United States   \n",
       "8662     Botrosecco Maremma Toscana 2016          Italy   \n",
       "8663                    Haut-MÃ©doc 2010         France   \n",
       "8664                         Shiraz 2019      Australia   \n",
       "8665    Portillo Cabernet Sauvignon 2016      Argentina   \n",
       "\n",
       "                       Region                      Winery  Rating  \\\n",
       "0                     Pomerol      ChÃ¢teau La Providence     4.2   \n",
       "1                       Lirac         ChÃ¢teau Mont-Redon     4.3   \n",
       "2                     Toscana                  Renzo Masi     3.9   \n",
       "3                   Bardolino                  Cavalchina     3.5   \n",
       "4                   Carnuntum                 Markowitsch     3.9   \n",
       "...                       ...                         ...     ...   \n",
       "8661                     Lodi        Michael David Winery     3.8   \n",
       "8662          Maremma Toscana                 Le Mortelle     4.0   \n",
       "8663              Haut-MÃ©doc  ChÃ¢teau Cambon La Pelouse     3.7   \n",
       "8664  South Eastern Australia                 Yellow Tail     3.5   \n",
       "8665                 TunuyÃ¡n                   Salentein     3.4   \n",
       "\n",
       "      NumberOfRatings  Price  Year  \n",
       "0                 100  95.00  2011  \n",
       "1                 100  15.50  2017  \n",
       "2                 100   7.45  2015  \n",
       "3                 100   8.72  2019  \n",
       "4                 100  29.15  2016  \n",
       "...               ...    ...   ...  \n",
       "8661              994  16.47  2016  \n",
       "8662              995  20.09  2016  \n",
       "8663              996  23.95  2010  \n",
       "8664              998   6.21  2019  \n",
       "8665              999   7.88  2016  \n",
       "\n",
       "[8666 rows x 8 columns]"
      ]
     },
     "execution_count": 29,
     "metadata": {},
     "output_type": "execute_result"
    }
   ],
   "source": [
    "vivino_red_data"
   ]
  },
  {
   "cell_type": "code",
   "execution_count": 30,
   "id": "4130a988",
   "metadata": {},
   "outputs": [],
   "source": [
    "vivino_white_data = pd.read_csv(\"White.csv\", encoding='latin-1')"
   ]
  },
  {
   "cell_type": "code",
   "execution_count": 31,
   "id": "753016b2",
   "metadata": {},
   "outputs": [
    {
     "data": {
      "text/plain": [
       "(3764, 8)"
      ]
     },
     "execution_count": 31,
     "metadata": {},
     "output_type": "execute_result"
    }
   ],
   "source": [
    "vivino_white_data.shape"
   ]
  },
  {
   "cell_type": "code",
   "execution_count": 32,
   "id": "7e77d9b7",
   "metadata": {},
   "outputs": [
    {
     "data": {
      "text/html": [
       "<div>\n",
       "<style scoped>\n",
       "    .dataframe tbody tr th:only-of-type {\n",
       "        vertical-align: middle;\n",
       "    }\n",
       "\n",
       "    .dataframe tbody tr th {\n",
       "        vertical-align: top;\n",
       "    }\n",
       "\n",
       "    .dataframe thead th {\n",
       "        text-align: right;\n",
       "    }\n",
       "</style>\n",
       "<table border=\"1\" class=\"dataframe\">\n",
       "  <thead>\n",
       "    <tr style=\"text-align: right;\">\n",
       "      <th></th>\n",
       "      <th>ï»¿Name</th>\n",
       "      <th>Country</th>\n",
       "      <th>Region</th>\n",
       "      <th>Winery</th>\n",
       "      <th>Rating</th>\n",
       "      <th>NumberOfRatings</th>\n",
       "      <th>Price</th>\n",
       "      <th>Year</th>\n",
       "    </tr>\n",
       "  </thead>\n",
       "  <tbody>\n",
       "    <tr>\n",
       "      <th>0</th>\n",
       "      <td>Vermentino 2017</td>\n",
       "      <td>Italy</td>\n",
       "      <td>Toscana</td>\n",
       "      <td>Famiglia Castellani</td>\n",
       "      <td>3.8</td>\n",
       "      <td>25</td>\n",
       "      <td>5.65</td>\n",
       "      <td>2017</td>\n",
       "    </tr>\n",
       "    <tr>\n",
       "      <th>1</th>\n",
       "      <td>Ronco Broilo 2010</td>\n",
       "      <td>Italy</td>\n",
       "      <td>Colli Orientali del Friuli</td>\n",
       "      <td>Conte d'Attimis Maniago</td>\n",
       "      <td>4.3</td>\n",
       "      <td>25</td>\n",
       "      <td>44.90</td>\n",
       "      <td>2010</td>\n",
       "    </tr>\n",
       "    <tr>\n",
       "      <th>2</th>\n",
       "      <td>Weisser Schiefer s 2017</td>\n",
       "      <td>Austria</td>\n",
       "      <td>SÃ¼dburgenland</td>\n",
       "      <td>Weinbau Uwe Schiefer</td>\n",
       "      <td>4.2</td>\n",
       "      <td>25</td>\n",
       "      <td>33.25</td>\n",
       "      <td>2017</td>\n",
       "    </tr>\n",
       "    <tr>\n",
       "      <th>3</th>\n",
       "      <td>Chardonnay 2018</td>\n",
       "      <td>Germany</td>\n",
       "      <td>Rheinhessen</td>\n",
       "      <td>KrÃ¤mer - Straight</td>\n",
       "      <td>3.9</td>\n",
       "      <td>25</td>\n",
       "      <td>8.99</td>\n",
       "      <td>2018</td>\n",
       "    </tr>\n",
       "    <tr>\n",
       "      <th>4</th>\n",
       "      <td>Maganza Zibibbo 2018</td>\n",
       "      <td>Italy</td>\n",
       "      <td>Terre Siciliane</td>\n",
       "      <td>Luna Gaia</td>\n",
       "      <td>3.9</td>\n",
       "      <td>25</td>\n",
       "      <td>8.60</td>\n",
       "      <td>2018</td>\n",
       "    </tr>\n",
       "    <tr>\n",
       "      <th>...</th>\n",
       "      <td>...</td>\n",
       "      <td>...</td>\n",
       "      <td>...</td>\n",
       "      <td>...</td>\n",
       "      <td>...</td>\n",
       "      <td>...</td>\n",
       "      <td>...</td>\n",
       "      <td>...</td>\n",
       "    </tr>\n",
       "    <tr>\n",
       "      <th>3759</th>\n",
       "      <td>Sauvignon Blanc 2019</td>\n",
       "      <td>New Zealand</td>\n",
       "      <td>Marlborough</td>\n",
       "      <td>Oyster Bay</td>\n",
       "      <td>4.0</td>\n",
       "      <td>4423</td>\n",
       "      <td>10.66</td>\n",
       "      <td>2019</td>\n",
       "    </tr>\n",
       "    <tr>\n",
       "      <th>3760</th>\n",
       "      <td>Vinho Verde Sweet N.V.</td>\n",
       "      <td>Portugal</td>\n",
       "      <td>Vinho Verde</td>\n",
       "      <td>Casal Garcia</td>\n",
       "      <td>4.0</td>\n",
       "      <td>4609</td>\n",
       "      <td>5.05</td>\n",
       "      <td>N.V.</td>\n",
       "    </tr>\n",
       "    <tr>\n",
       "      <th>3761</th>\n",
       "      <td>Sauvignon Blanc 2018</td>\n",
       "      <td>New Zealand</td>\n",
       "      <td>Marlborough</td>\n",
       "      <td>Kim Crawford</td>\n",
       "      <td>3.9</td>\n",
       "      <td>5105</td>\n",
       "      <td>14.90</td>\n",
       "      <td>2018</td>\n",
       "    </tr>\n",
       "    <tr>\n",
       "      <th>3762</th>\n",
       "      <td>Sauvignon Blanc 2019</td>\n",
       "      <td>New Zealand</td>\n",
       "      <td>Marlborough</td>\n",
       "      <td>Hans Greyl</td>\n",
       "      <td>4.2</td>\n",
       "      <td>5817</td>\n",
       "      <td>7.75</td>\n",
       "      <td>2019</td>\n",
       "    </tr>\n",
       "    <tr>\n",
       "      <th>3763</th>\n",
       "      <td>Vinho Verde Branco N.V.</td>\n",
       "      <td>Portugal</td>\n",
       "      <td>Vinho Verde</td>\n",
       "      <td>Casal Garcia</td>\n",
       "      <td>3.7</td>\n",
       "      <td>62980</td>\n",
       "      <td>4.35</td>\n",
       "      <td>N.V.</td>\n",
       "    </tr>\n",
       "  </tbody>\n",
       "</table>\n",
       "<p>3764 rows × 8 columns</p>\n",
       "</div>"
      ],
      "text/plain": [
       "                      ï»¿Name      Country                      Region  \\\n",
       "0             Vermentino 2017        Italy                     Toscana   \n",
       "1           Ronco Broilo 2010        Italy  Colli Orientali del Friuli   \n",
       "2     Weisser Schiefer s 2017      Austria              SÃ¼dburgenland   \n",
       "3             Chardonnay 2018      Germany                 Rheinhessen   \n",
       "4        Maganza Zibibbo 2018        Italy             Terre Siciliane   \n",
       "...                       ...          ...                         ...   \n",
       "3759     Sauvignon Blanc 2019  New Zealand                 Marlborough   \n",
       "3760   Vinho Verde Sweet N.V.     Portugal                 Vinho Verde   \n",
       "3761     Sauvignon Blanc 2018  New Zealand                 Marlborough   \n",
       "3762     Sauvignon Blanc 2019  New Zealand                 Marlborough   \n",
       "3763  Vinho Verde Branco N.V.     Portugal                 Vinho Verde   \n",
       "\n",
       "                       Winery  Rating  NumberOfRatings  Price  Year  \n",
       "0         Famiglia Castellani     3.8               25   5.65  2017  \n",
       "1     Conte d'Attimis Maniago     4.3               25  44.90  2010  \n",
       "2        Weinbau Uwe Schiefer     4.2               25  33.25  2017  \n",
       "3          KrÃ¤mer - Straight     3.9               25   8.99  2018  \n",
       "4                   Luna Gaia     3.9               25   8.60  2018  \n",
       "...                       ...     ...              ...    ...   ...  \n",
       "3759               Oyster Bay     4.0             4423  10.66  2019  \n",
       "3760             Casal Garcia     4.0             4609   5.05  N.V.  \n",
       "3761             Kim Crawford     3.9             5105  14.90  2018  \n",
       "3762               Hans Greyl     4.2             5817   7.75  2019  \n",
       "3763             Casal Garcia     3.7            62980   4.35  N.V.  \n",
       "\n",
       "[3764 rows x 8 columns]"
      ]
     },
     "execution_count": 32,
     "metadata": {},
     "output_type": "execute_result"
    }
   ],
   "source": [
    "vivino_white_data"
   ]
  },
  {
   "cell_type": "code",
   "execution_count": 33,
   "id": "975b2cce",
   "metadata": {},
   "outputs": [
    {
     "data": {
      "text/html": [
       "<div>\n",
       "<style scoped>\n",
       "    .dataframe tbody tr th:only-of-type {\n",
       "        vertical-align: middle;\n",
       "    }\n",
       "\n",
       "    .dataframe tbody tr th {\n",
       "        vertical-align: top;\n",
       "    }\n",
       "\n",
       "    .dataframe thead th {\n",
       "        text-align: right;\n",
       "    }\n",
       "</style>\n",
       "<table border=\"1\" class=\"dataframe\">\n",
       "  <thead>\n",
       "    <tr style=\"text-align: right;\">\n",
       "      <th></th>\n",
       "      <th>Name</th>\n",
       "      <th>Country</th>\n",
       "      <th>Region</th>\n",
       "      <th>Winery</th>\n",
       "      <th>Rating</th>\n",
       "      <th>NumberOfRatings</th>\n",
       "      <th>Price</th>\n",
       "      <th>Year</th>\n",
       "    </tr>\n",
       "  </thead>\n",
       "  <tbody>\n",
       "    <tr>\n",
       "      <th>0</th>\n",
       "      <td>Vermentino 2017</td>\n",
       "      <td>Italy</td>\n",
       "      <td>Toscana</td>\n",
       "      <td>Famiglia Castellani</td>\n",
       "      <td>3.8</td>\n",
       "      <td>25</td>\n",
       "      <td>5.65</td>\n",
       "      <td>2017</td>\n",
       "    </tr>\n",
       "    <tr>\n",
       "      <th>1</th>\n",
       "      <td>Ronco Broilo 2010</td>\n",
       "      <td>Italy</td>\n",
       "      <td>Colli Orientali del Friuli</td>\n",
       "      <td>Conte d'Attimis Maniago</td>\n",
       "      <td>4.3</td>\n",
       "      <td>25</td>\n",
       "      <td>44.90</td>\n",
       "      <td>2010</td>\n",
       "    </tr>\n",
       "    <tr>\n",
       "      <th>2</th>\n",
       "      <td>Weisser Schiefer s 2017</td>\n",
       "      <td>Austria</td>\n",
       "      <td>SÃ¼dburgenland</td>\n",
       "      <td>Weinbau Uwe Schiefer</td>\n",
       "      <td>4.2</td>\n",
       "      <td>25</td>\n",
       "      <td>33.25</td>\n",
       "      <td>2017</td>\n",
       "    </tr>\n",
       "    <tr>\n",
       "      <th>3</th>\n",
       "      <td>Chardonnay 2018</td>\n",
       "      <td>Germany</td>\n",
       "      <td>Rheinhessen</td>\n",
       "      <td>KrÃ¤mer - Straight</td>\n",
       "      <td>3.9</td>\n",
       "      <td>25</td>\n",
       "      <td>8.99</td>\n",
       "      <td>2018</td>\n",
       "    </tr>\n",
       "    <tr>\n",
       "      <th>4</th>\n",
       "      <td>Maganza Zibibbo 2018</td>\n",
       "      <td>Italy</td>\n",
       "      <td>Terre Siciliane</td>\n",
       "      <td>Luna Gaia</td>\n",
       "      <td>3.9</td>\n",
       "      <td>25</td>\n",
       "      <td>8.60</td>\n",
       "      <td>2018</td>\n",
       "    </tr>\n",
       "    <tr>\n",
       "      <th>...</th>\n",
       "      <td>...</td>\n",
       "      <td>...</td>\n",
       "      <td>...</td>\n",
       "      <td>...</td>\n",
       "      <td>...</td>\n",
       "      <td>...</td>\n",
       "      <td>...</td>\n",
       "      <td>...</td>\n",
       "    </tr>\n",
       "    <tr>\n",
       "      <th>3759</th>\n",
       "      <td>Sauvignon Blanc 2019</td>\n",
       "      <td>New Zealand</td>\n",
       "      <td>Marlborough</td>\n",
       "      <td>Oyster Bay</td>\n",
       "      <td>4.0</td>\n",
       "      <td>4423</td>\n",
       "      <td>10.66</td>\n",
       "      <td>2019</td>\n",
       "    </tr>\n",
       "    <tr>\n",
       "      <th>3760</th>\n",
       "      <td>Vinho Verde Sweet N.V.</td>\n",
       "      <td>Portugal</td>\n",
       "      <td>Vinho Verde</td>\n",
       "      <td>Casal Garcia</td>\n",
       "      <td>4.0</td>\n",
       "      <td>4609</td>\n",
       "      <td>5.05</td>\n",
       "      <td>N.V.</td>\n",
       "    </tr>\n",
       "    <tr>\n",
       "      <th>3761</th>\n",
       "      <td>Sauvignon Blanc 2018</td>\n",
       "      <td>New Zealand</td>\n",
       "      <td>Marlborough</td>\n",
       "      <td>Kim Crawford</td>\n",
       "      <td>3.9</td>\n",
       "      <td>5105</td>\n",
       "      <td>14.90</td>\n",
       "      <td>2018</td>\n",
       "    </tr>\n",
       "    <tr>\n",
       "      <th>3762</th>\n",
       "      <td>Sauvignon Blanc 2019</td>\n",
       "      <td>New Zealand</td>\n",
       "      <td>Marlborough</td>\n",
       "      <td>Hans Greyl</td>\n",
       "      <td>4.2</td>\n",
       "      <td>5817</td>\n",
       "      <td>7.75</td>\n",
       "      <td>2019</td>\n",
       "    </tr>\n",
       "    <tr>\n",
       "      <th>3763</th>\n",
       "      <td>Vinho Verde Branco N.V.</td>\n",
       "      <td>Portugal</td>\n",
       "      <td>Vinho Verde</td>\n",
       "      <td>Casal Garcia</td>\n",
       "      <td>3.7</td>\n",
       "      <td>62980</td>\n",
       "      <td>4.35</td>\n",
       "      <td>N.V.</td>\n",
       "    </tr>\n",
       "  </tbody>\n",
       "</table>\n",
       "<p>3764 rows × 8 columns</p>\n",
       "</div>"
      ],
      "text/plain": [
       "                         Name      Country                      Region  \\\n",
       "0             Vermentino 2017        Italy                     Toscana   \n",
       "1           Ronco Broilo 2010        Italy  Colli Orientali del Friuli   \n",
       "2     Weisser Schiefer s 2017      Austria              SÃ¼dburgenland   \n",
       "3             Chardonnay 2018      Germany                 Rheinhessen   \n",
       "4        Maganza Zibibbo 2018        Italy             Terre Siciliane   \n",
       "...                       ...          ...                         ...   \n",
       "3759     Sauvignon Blanc 2019  New Zealand                 Marlborough   \n",
       "3760   Vinho Verde Sweet N.V.     Portugal                 Vinho Verde   \n",
       "3761     Sauvignon Blanc 2018  New Zealand                 Marlborough   \n",
       "3762     Sauvignon Blanc 2019  New Zealand                 Marlborough   \n",
       "3763  Vinho Verde Branco N.V.     Portugal                 Vinho Verde   \n",
       "\n",
       "                       Winery  Rating  NumberOfRatings  Price  Year  \n",
       "0         Famiglia Castellani     3.8               25   5.65  2017  \n",
       "1     Conte d'Attimis Maniago     4.3               25  44.90  2010  \n",
       "2        Weinbau Uwe Schiefer     4.2               25  33.25  2017  \n",
       "3          KrÃ¤mer - Straight     3.9               25   8.99  2018  \n",
       "4                   Luna Gaia     3.9               25   8.60  2018  \n",
       "...                       ...     ...              ...    ...   ...  \n",
       "3759               Oyster Bay     4.0             4423  10.66  2019  \n",
       "3760             Casal Garcia     4.0             4609   5.05  N.V.  \n",
       "3761             Kim Crawford     3.9             5105  14.90  2018  \n",
       "3762               Hans Greyl     4.2             5817   7.75  2019  \n",
       "3763             Casal Garcia     3.7            62980   4.35  N.V.  \n",
       "\n",
       "[3764 rows x 8 columns]"
      ]
     },
     "execution_count": 33,
     "metadata": {},
     "output_type": "execute_result"
    }
   ],
   "source": [
    "vivino_white_data.rename(columns={'ï»¿Name': 'Name'}, inplace=True)\n",
    "vivino_white_data"
   ]
  },
  {
   "cell_type": "code",
   "execution_count": 34,
   "id": "8940a380",
   "metadata": {
    "scrolled": true
   },
   "outputs": [],
   "source": [
    "vivino_data = pd.concat([vivino_red_data, vivino_white_data], axis=0)"
   ]
  },
  {
   "cell_type": "code",
   "execution_count": 35,
   "id": "d70db249",
   "metadata": {},
   "outputs": [
    {
     "data": {
      "text/plain": [
       "(12430, 8)"
      ]
     },
     "execution_count": 35,
     "metadata": {},
     "output_type": "execute_result"
    }
   ],
   "source": [
    "vivino_data.shape"
   ]
  },
  {
   "cell_type": "code",
   "execution_count": 36,
   "id": "95635849",
   "metadata": {},
   "outputs": [
    {
     "data": {
      "text/html": [
       "<div>\n",
       "<style scoped>\n",
       "    .dataframe tbody tr th:only-of-type {\n",
       "        vertical-align: middle;\n",
       "    }\n",
       "\n",
       "    .dataframe tbody tr th {\n",
       "        vertical-align: top;\n",
       "    }\n",
       "\n",
       "    .dataframe thead th {\n",
       "        text-align: right;\n",
       "    }\n",
       "</style>\n",
       "<table border=\"1\" class=\"dataframe\">\n",
       "  <thead>\n",
       "    <tr style=\"text-align: right;\">\n",
       "      <th></th>\n",
       "      <th>Name</th>\n",
       "      <th>Country</th>\n",
       "      <th>Region</th>\n",
       "      <th>Winery</th>\n",
       "      <th>Rating</th>\n",
       "      <th>NumberOfRatings</th>\n",
       "      <th>Price</th>\n",
       "      <th>Year</th>\n",
       "    </tr>\n",
       "  </thead>\n",
       "  <tbody>\n",
       "    <tr>\n",
       "      <th>0</th>\n",
       "      <td>Pomerol 2011</td>\n",
       "      <td>France</td>\n",
       "      <td>Pomerol</td>\n",
       "      <td>ChÃ¢teau La Providence</td>\n",
       "      <td>4.2</td>\n",
       "      <td>100</td>\n",
       "      <td>95.00</td>\n",
       "      <td>2011</td>\n",
       "    </tr>\n",
       "    <tr>\n",
       "      <th>1</th>\n",
       "      <td>Lirac 2017</td>\n",
       "      <td>France</td>\n",
       "      <td>Lirac</td>\n",
       "      <td>ChÃ¢teau Mont-Redon</td>\n",
       "      <td>4.3</td>\n",
       "      <td>100</td>\n",
       "      <td>15.50</td>\n",
       "      <td>2017</td>\n",
       "    </tr>\n",
       "    <tr>\n",
       "      <th>2</th>\n",
       "      <td>Erta e China Rosso di Toscana 2015</td>\n",
       "      <td>Italy</td>\n",
       "      <td>Toscana</td>\n",
       "      <td>Renzo Masi</td>\n",
       "      <td>3.9</td>\n",
       "      <td>100</td>\n",
       "      <td>7.45</td>\n",
       "      <td>2015</td>\n",
       "    </tr>\n",
       "    <tr>\n",
       "      <th>3</th>\n",
       "      <td>Bardolino 2019</td>\n",
       "      <td>Italy</td>\n",
       "      <td>Bardolino</td>\n",
       "      <td>Cavalchina</td>\n",
       "      <td>3.5</td>\n",
       "      <td>100</td>\n",
       "      <td>8.72</td>\n",
       "      <td>2019</td>\n",
       "    </tr>\n",
       "    <tr>\n",
       "      <th>4</th>\n",
       "      <td>Ried Scheibner Pinot Noir 2016</td>\n",
       "      <td>Austria</td>\n",
       "      <td>Carnuntum</td>\n",
       "      <td>Markowitsch</td>\n",
       "      <td>3.9</td>\n",
       "      <td>100</td>\n",
       "      <td>29.15</td>\n",
       "      <td>2016</td>\n",
       "    </tr>\n",
       "    <tr>\n",
       "      <th>...</th>\n",
       "      <td>...</td>\n",
       "      <td>...</td>\n",
       "      <td>...</td>\n",
       "      <td>...</td>\n",
       "      <td>...</td>\n",
       "      <td>...</td>\n",
       "      <td>...</td>\n",
       "      <td>...</td>\n",
       "    </tr>\n",
       "    <tr>\n",
       "      <th>3759</th>\n",
       "      <td>Sauvignon Blanc 2019</td>\n",
       "      <td>New Zealand</td>\n",
       "      <td>Marlborough</td>\n",
       "      <td>Oyster Bay</td>\n",
       "      <td>4.0</td>\n",
       "      <td>4423</td>\n",
       "      <td>10.66</td>\n",
       "      <td>2019</td>\n",
       "    </tr>\n",
       "    <tr>\n",
       "      <th>3760</th>\n",
       "      <td>Vinho Verde Sweet N.V.</td>\n",
       "      <td>Portugal</td>\n",
       "      <td>Vinho Verde</td>\n",
       "      <td>Casal Garcia</td>\n",
       "      <td>4.0</td>\n",
       "      <td>4609</td>\n",
       "      <td>5.05</td>\n",
       "      <td>N.V.</td>\n",
       "    </tr>\n",
       "    <tr>\n",
       "      <th>3761</th>\n",
       "      <td>Sauvignon Blanc 2018</td>\n",
       "      <td>New Zealand</td>\n",
       "      <td>Marlborough</td>\n",
       "      <td>Kim Crawford</td>\n",
       "      <td>3.9</td>\n",
       "      <td>5105</td>\n",
       "      <td>14.90</td>\n",
       "      <td>2018</td>\n",
       "    </tr>\n",
       "    <tr>\n",
       "      <th>3762</th>\n",
       "      <td>Sauvignon Blanc 2019</td>\n",
       "      <td>New Zealand</td>\n",
       "      <td>Marlborough</td>\n",
       "      <td>Hans Greyl</td>\n",
       "      <td>4.2</td>\n",
       "      <td>5817</td>\n",
       "      <td>7.75</td>\n",
       "      <td>2019</td>\n",
       "    </tr>\n",
       "    <tr>\n",
       "      <th>3763</th>\n",
       "      <td>Vinho Verde Branco N.V.</td>\n",
       "      <td>Portugal</td>\n",
       "      <td>Vinho Verde</td>\n",
       "      <td>Casal Garcia</td>\n",
       "      <td>3.7</td>\n",
       "      <td>62980</td>\n",
       "      <td>4.35</td>\n",
       "      <td>N.V.</td>\n",
       "    </tr>\n",
       "  </tbody>\n",
       "</table>\n",
       "<p>12430 rows × 8 columns</p>\n",
       "</div>"
      ],
      "text/plain": [
       "                                    Name      Country       Region  \\\n",
       "0                           Pomerol 2011       France      Pomerol   \n",
       "1                             Lirac 2017       France        Lirac   \n",
       "2     Erta e China Rosso di Toscana 2015        Italy      Toscana   \n",
       "3                         Bardolino 2019        Italy    Bardolino   \n",
       "4         Ried Scheibner Pinot Noir 2016      Austria    Carnuntum   \n",
       "...                                  ...          ...          ...   \n",
       "3759                Sauvignon Blanc 2019  New Zealand  Marlborough   \n",
       "3760              Vinho Verde Sweet N.V.     Portugal  Vinho Verde   \n",
       "3761                Sauvignon Blanc 2018  New Zealand  Marlborough   \n",
       "3762                Sauvignon Blanc 2019  New Zealand  Marlborough   \n",
       "3763             Vinho Verde Branco N.V.     Portugal  Vinho Verde   \n",
       "\n",
       "                      Winery  Rating  NumberOfRatings  Price  Year  \n",
       "0     ChÃ¢teau La Providence     4.2              100  95.00  2011  \n",
       "1        ChÃ¢teau Mont-Redon     4.3              100  15.50  2017  \n",
       "2                 Renzo Masi     3.9              100   7.45  2015  \n",
       "3                 Cavalchina     3.5              100   8.72  2019  \n",
       "4                Markowitsch     3.9              100  29.15  2016  \n",
       "...                      ...     ...              ...    ...   ...  \n",
       "3759              Oyster Bay     4.0             4423  10.66  2019  \n",
       "3760            Casal Garcia     4.0             4609   5.05  N.V.  \n",
       "3761            Kim Crawford     3.9             5105  14.90  2018  \n",
       "3762              Hans Greyl     4.2             5817   7.75  2019  \n",
       "3763            Casal Garcia     3.7            62980   4.35  N.V.  \n",
       "\n",
       "[12430 rows x 8 columns]"
      ]
     },
     "execution_count": 36,
     "metadata": {},
     "output_type": "execute_result"
    }
   ],
   "source": [
    "vivino_data"
   ]
  },
  {
   "cell_type": "code",
   "execution_count": 37,
   "id": "b1ef89d7",
   "metadata": {
    "scrolled": false
   },
   "outputs": [],
   "source": [
    "vivino_data['Name'] = vivino_data['Name'].str.extract(r'([^\\d]+)')"
   ]
  },
  {
   "cell_type": "code",
   "execution_count": 38,
   "id": "301fc79a",
   "metadata": {},
   "outputs": [],
   "source": [
    "vivino_data.drop(columns=['NumberOfRatings'], inplace = True)"
   ]
  },
  {
   "cell_type": "code",
   "execution_count": 45,
   "id": "a817a9d0",
   "metadata": {},
   "outputs": [
    {
     "data": {
      "text/html": [
       "<div>\n",
       "<style scoped>\n",
       "    .dataframe tbody tr th:only-of-type {\n",
       "        vertical-align: middle;\n",
       "    }\n",
       "\n",
       "    .dataframe tbody tr th {\n",
       "        vertical-align: top;\n",
       "    }\n",
       "\n",
       "    .dataframe thead th {\n",
       "        text-align: right;\n",
       "    }\n",
       "</style>\n",
       "<table border=\"1\" class=\"dataframe\">\n",
       "  <thead>\n",
       "    <tr style=\"text-align: right;\">\n",
       "      <th></th>\n",
       "      <th>name</th>\n",
       "      <th>country</th>\n",
       "      <th>region</th>\n",
       "      <th>winery</th>\n",
       "      <th>rating</th>\n",
       "      <th>price</th>\n",
       "      <th>year</th>\n",
       "    </tr>\n",
       "  </thead>\n",
       "  <tbody>\n",
       "    <tr>\n",
       "      <th>0</th>\n",
       "      <td>Pomerol</td>\n",
       "      <td>France</td>\n",
       "      <td>Pomerol</td>\n",
       "      <td>ChÃ¢teau La Providence</td>\n",
       "      <td>4.2</td>\n",
       "      <td>95.00</td>\n",
       "      <td>2011</td>\n",
       "    </tr>\n",
       "    <tr>\n",
       "      <th>1</th>\n",
       "      <td>Lirac</td>\n",
       "      <td>France</td>\n",
       "      <td>Lirac</td>\n",
       "      <td>ChÃ¢teau Mont-Redon</td>\n",
       "      <td>4.3</td>\n",
       "      <td>15.50</td>\n",
       "      <td>2017</td>\n",
       "    </tr>\n",
       "    <tr>\n",
       "      <th>2</th>\n",
       "      <td>Erta e China Rosso di Toscana</td>\n",
       "      <td>Italy</td>\n",
       "      <td>Toscana</td>\n",
       "      <td>Renzo Masi</td>\n",
       "      <td>3.9</td>\n",
       "      <td>7.45</td>\n",
       "      <td>2015</td>\n",
       "    </tr>\n",
       "    <tr>\n",
       "      <th>3</th>\n",
       "      <td>Bardolino</td>\n",
       "      <td>Italy</td>\n",
       "      <td>Bardolino</td>\n",
       "      <td>Cavalchina</td>\n",
       "      <td>3.5</td>\n",
       "      <td>8.72</td>\n",
       "      <td>2019</td>\n",
       "    </tr>\n",
       "    <tr>\n",
       "      <th>4</th>\n",
       "      <td>Ried Scheibner Pinot Noir</td>\n",
       "      <td>Austria</td>\n",
       "      <td>Carnuntum</td>\n",
       "      <td>Markowitsch</td>\n",
       "      <td>3.9</td>\n",
       "      <td>29.15</td>\n",
       "      <td>2016</td>\n",
       "    </tr>\n",
       "    <tr>\n",
       "      <th>...</th>\n",
       "      <td>...</td>\n",
       "      <td>...</td>\n",
       "      <td>...</td>\n",
       "      <td>...</td>\n",
       "      <td>...</td>\n",
       "      <td>...</td>\n",
       "      <td>...</td>\n",
       "    </tr>\n",
       "    <tr>\n",
       "      <th>3759</th>\n",
       "      <td>Sauvignon Blanc</td>\n",
       "      <td>New Zealand</td>\n",
       "      <td>Marlborough</td>\n",
       "      <td>Oyster Bay</td>\n",
       "      <td>4.0</td>\n",
       "      <td>10.66</td>\n",
       "      <td>2019</td>\n",
       "    </tr>\n",
       "    <tr>\n",
       "      <th>3760</th>\n",
       "      <td>Vinho Verde Sweet N.V.</td>\n",
       "      <td>Portugal</td>\n",
       "      <td>Vinho Verde</td>\n",
       "      <td>Casal Garcia</td>\n",
       "      <td>4.0</td>\n",
       "      <td>5.05</td>\n",
       "      <td>N.V.</td>\n",
       "    </tr>\n",
       "    <tr>\n",
       "      <th>3761</th>\n",
       "      <td>Sauvignon Blanc</td>\n",
       "      <td>New Zealand</td>\n",
       "      <td>Marlborough</td>\n",
       "      <td>Kim Crawford</td>\n",
       "      <td>3.9</td>\n",
       "      <td>14.90</td>\n",
       "      <td>2018</td>\n",
       "    </tr>\n",
       "    <tr>\n",
       "      <th>3762</th>\n",
       "      <td>Sauvignon Blanc</td>\n",
       "      <td>New Zealand</td>\n",
       "      <td>Marlborough</td>\n",
       "      <td>Hans Greyl</td>\n",
       "      <td>4.2</td>\n",
       "      <td>7.75</td>\n",
       "      <td>2019</td>\n",
       "    </tr>\n",
       "    <tr>\n",
       "      <th>3763</th>\n",
       "      <td>Vinho Verde Branco N.V.</td>\n",
       "      <td>Portugal</td>\n",
       "      <td>Vinho Verde</td>\n",
       "      <td>Casal Garcia</td>\n",
       "      <td>3.7</td>\n",
       "      <td>4.35</td>\n",
       "      <td>N.V.</td>\n",
       "    </tr>\n",
       "  </tbody>\n",
       "</table>\n",
       "<p>12430 rows × 7 columns</p>\n",
       "</div>"
      ],
      "text/plain": [
       "                                name      country       region  \\\n",
       "0                           Pomerol        France      Pomerol   \n",
       "1                             Lirac        France        Lirac   \n",
       "2     Erta e China Rosso di Toscana         Italy      Toscana   \n",
       "3                         Bardolino         Italy    Bardolino   \n",
       "4         Ried Scheibner Pinot Noir       Austria    Carnuntum   \n",
       "...                              ...          ...          ...   \n",
       "3759                Sauvignon Blanc   New Zealand  Marlborough   \n",
       "3760          Vinho Verde Sweet N.V.     Portugal  Vinho Verde   \n",
       "3761                Sauvignon Blanc   New Zealand  Marlborough   \n",
       "3762                Sauvignon Blanc   New Zealand  Marlborough   \n",
       "3763         Vinho Verde Branco N.V.     Portugal  Vinho Verde   \n",
       "\n",
       "                      winery  rating  price  year  \n",
       "0     ChÃ¢teau La Providence     4.2  95.00  2011  \n",
       "1        ChÃ¢teau Mont-Redon     4.3  15.50  2017  \n",
       "2                 Renzo Masi     3.9   7.45  2015  \n",
       "3                 Cavalchina     3.5   8.72  2019  \n",
       "4                Markowitsch     3.9  29.15  2016  \n",
       "...                      ...     ...    ...   ...  \n",
       "3759              Oyster Bay     4.0  10.66  2019  \n",
       "3760            Casal Garcia     4.0   5.05  N.V.  \n",
       "3761            Kim Crawford     3.9  14.90  2018  \n",
       "3762              Hans Greyl     4.2   7.75  2019  \n",
       "3763            Casal Garcia     3.7   4.35  N.V.  \n",
       "\n",
       "[12430 rows x 7 columns]"
      ]
     },
     "execution_count": 45,
     "metadata": {},
     "output_type": "execute_result"
    }
   ],
   "source": [
    "vivino_data.rename(columns= lambda x: x.lower(), inplace=True)\n",
    "vivino_data.rename(columns= lambda x: x.replace(\" \", \"_\"), inplace=True)\n",
    "vivino_data"
   ]
  },
  {
   "cell_type": "code",
   "execution_count": 46,
   "id": "5269e28a",
   "metadata": {
    "scrolled": true
   },
   "outputs": [
    {
     "data": {
      "text/plain": [
       "name        object\n",
       "country     object\n",
       "region      object\n",
       "winery      object\n",
       "rating     float64\n",
       "price      float64\n",
       "year        object\n",
       "dtype: object"
      ]
     },
     "execution_count": 46,
     "metadata": {},
     "output_type": "execute_result"
    }
   ],
   "source": [
    "vivino_data.dtypes"
   ]
  },
  {
   "cell_type": "markdown",
   "id": "61cc5e84",
   "metadata": {},
   "source": [
    "#### Categorical Data: \n",
    "Name, Country, Region, Winery, Year\n",
    "\n",
    "#### Numerical Data: \n",
    "Rating, Price"
   ]
  },
  {
   "cell_type": "code",
   "execution_count": 41,
   "id": "19cd412f",
   "metadata": {},
   "outputs": [
    {
     "data": {
      "text/plain": [
       "name       0\n",
       "country    0\n",
       "region     0\n",
       "winery     0\n",
       "rating     0\n",
       "price      0\n",
       "year       0\n",
       "dtype: int64"
      ]
     },
     "execution_count": 41,
     "metadata": {},
     "output_type": "execute_result"
    }
   ],
   "source": [
    "vivino_data.isna().sum() #NO NAN VALUES"
   ]
  },
  {
   "cell_type": "code",
   "execution_count": 47,
   "id": "27f0b4cf",
   "metadata": {
    "scrolled": true
   },
   "outputs": [
    {
     "data": {
      "text/plain": [
       "6835"
      ]
     },
     "execution_count": 47,
     "metadata": {},
     "output_type": "execute_result"
    }
   ],
   "source": [
    "vivino_data['name'].nunique() #ALL UNIQUE VALUES"
   ]
  },
  {
   "cell_type": "code",
   "execution_count": 48,
   "id": "463ba923",
   "metadata": {
    "scrolled": true
   },
   "outputs": [
    {
     "data": {
      "text/plain": [
       "32"
      ]
     },
     "execution_count": 48,
     "metadata": {},
     "output_type": "execute_result"
    }
   ],
   "source": [
    "vivino_data['country'].nunique()"
   ]
  },
  {
   "cell_type": "code",
   "execution_count": 49,
   "id": "dbf9955e",
   "metadata": {},
   "outputs": [
    {
     "data": {
      "text/plain": [
       "804"
      ]
     },
     "execution_count": 49,
     "metadata": {},
     "output_type": "execute_result"
    }
   ],
   "source": [
    "vivino_data['region'].nunique()"
   ]
  },
  {
   "cell_type": "code",
   "execution_count": 50,
   "id": "74066dfb",
   "metadata": {
    "scrolled": false
   },
   "outputs": [
    {
     "data": {
      "text/plain": [
       "rating\n",
       "3.8    1809\n",
       "3.9    1616\n",
       "3.7    1476\n",
       "4.0    1298\n",
       "4.1    1226\n",
       "3.6    1165\n",
       "4.2     940\n",
       "3.5     723\n",
       "4.3     583\n",
       "3.4     434\n",
       "4.4     342\n",
       "3.3     258\n",
       "4.5     180\n",
       "3.2     132\n",
       "4.6     111\n",
       "3.1      45\n",
       "3.0      32\n",
       "4.7      29\n",
       "2.9       8\n",
       "2.8       8\n",
       "4.8       7\n",
       "2.6       2\n",
       "2.7       2\n",
       "2.5       2\n",
       "4.9       1\n",
       "2.2       1\n",
       "Name: count, dtype: int64"
      ]
     },
     "execution_count": 50,
     "metadata": {},
     "output_type": "execute_result"
    }
   ],
   "source": [
    "vivino_data['rating'].value_counts()"
   ]
  },
  {
   "cell_type": "code",
   "execution_count": 51,
   "id": "36b588d1",
   "metadata": {},
   "outputs": [
    {
     "data": {
      "text/plain": [
       "name\n",
       "Cabernet Sauvignon     35\n",
       "Chardonnay             21\n",
       "Riesling Trocken       20\n",
       "Haut-MÃ©doc            18\n",
       "Sauvignon Blanc        17\n",
       "Chianti Classico       15\n",
       "Pinot Noir             13\n",
       "Chablis                12\n",
       "Riesling               12\n",
       "Pinot Grigio           11\n",
       "Name: count, dtype: int64"
      ]
     },
     "execution_count": 51,
     "metadata": {},
     "output_type": "execute_result"
    }
   ],
   "source": [
    "#THE TOP 10 VARIETIES WITH THE HIGHEST value_count Rating 3.8\n",
    "\n",
    "top_rating = vivino_data['rating'].value_counts().idxmax()\n",
    "\n",
    "variety_top_value_rating = vivino_data[vivino_data['rating'] == top_rating]['name']#.iloc[0]\n",
    "\n",
    "variety_top_value_rating.value_counts().head(10)"
   ]
  },
  {
   "cell_type": "code",
   "execution_count": 52,
   "id": "3d521a97",
   "metadata": {},
   "outputs": [
    {
     "data": {
      "text/plain": [
       "1809"
      ]
     },
     "execution_count": 52,
     "metadata": {},
     "output_type": "execute_result"
    }
   ],
   "source": [
    "len(variety_top_value_rating)"
   ]
  },
  {
   "cell_type": "code",
   "execution_count": 53,
   "id": "144fa7ff",
   "metadata": {
    "scrolled": false
   },
   "outputs": [
    {
     "data": {
      "text/plain": [
       "name\n",
       "Chardonnay                                    175\n",
       "Cabernet Sauvignon                            175\n",
       "Sauvignon Blanc                               153\n",
       "Pomerol                                       104\n",
       "Saint-Julien (Grand Cru ClassÃ©)               87\n",
       "                                             ... \n",
       "Hugonis                                         1\n",
       "Finca Biniagual VerÃ¡n                          1\n",
       "Paz Malbec                                      1\n",
       "One Bottle of my Cabernet Sauvignon Beats       1\n",
       "Vinho Verde Branco N.V.                         1\n",
       "Name: count, Length: 6835, dtype: int64"
      ]
     },
     "execution_count": 53,
     "metadata": {},
     "output_type": "execute_result"
    }
   ],
   "source": [
    "vivino_data['name'].value_counts()"
   ]
  },
  {
   "cell_type": "code",
   "execution_count": 54,
   "id": "3c84e782",
   "metadata": {
    "scrolled": true
   },
   "outputs": [
    {
     "name": "stdout",
     "output_type": "stream",
     "text": [
      "country\n",
      "Italy            3442\n",
      "France           2909\n",
      "Spain            1398\n",
      "Germany          1136\n",
      "South Africa      796\n",
      "United States     509\n",
      "Austria           463\n",
      "Chile             425\n",
      "Portugal          319\n",
      "Australia         313\n",
      "Name: count, dtype: int64\n"
     ]
    }
   ],
   "source": [
    "# Sort the countries based on the count of entries in descending order\n",
    "vivino_sorted_countries = vivino_data['country'].value_counts().sort_values(ascending=False)\n",
    "\n",
    "# Select the top 10 countries\n",
    "top_10_countries_vivino = vivino_sorted_countries.head(10)\n",
    "\n",
    "print(top_10_countries_vivino)"
   ]
  },
  {
   "cell_type": "markdown",
   "id": "73b18436",
   "metadata": {},
   "source": [
    "The top country of the original data is number 6 in this dataset"
   ]
  },
  {
   "cell_type": "code",
   "execution_count": 55,
   "id": "603cc354",
   "metadata": {
    "scrolled": true
   },
   "outputs": [
    {
     "name": "stdout",
     "output_type": "stream",
     "text": [
      "region\n",
      "California                          133\n",
      "Napa Valley                          87\n",
      "Columbia Valley                      43\n",
      "Russian River Valley                 19\n",
      "Livermore Valley                     17\n",
      "Sonoma Coast                         16\n",
      "Lodi                                 13\n",
      "Sonoma County                        12\n",
      "Central Coast                        12\n",
      "Los Carneros                         11\n",
      "Monterey                             11\n",
      "Washington                           10\n",
      "Dundee Hills                          8\n",
      "Oakville                              8\n",
      "Dry Creek Valley                      8\n",
      "St. Helena                            8\n",
      "North Coast                           8\n",
      "Sta. Rita Hills                       7\n",
      "Willamette Valley                     7\n",
      "Walla Walla Valley                    6\n",
      "Mendocino County                      6\n",
      "Paso Robles                           5\n",
      "Horse Heaven Hills                    5\n",
      "Alexander Valley                      5\n",
      "Long Island                           4\n",
      "Wahluke Slope                         4\n",
      "Monterey County                       4\n",
      "Red Mountain                          3\n",
      "Napa County                           3\n",
      "Anderson Valley                       3\n",
      "Sonoma Valley                         3\n",
      "Arroyo Seco                           3\n",
      "Rutherford                            2\n",
      "Ancient Lakes of Columbia Valley      2\n",
      "Santa Lucia Highlands                 2\n",
      "Stags Leap District                   2\n",
      "Santa Cruz Mountains                  2\n",
      "Yamhill-Carlton District              1\n",
      "Calistoga                             1\n",
      "Santa Maria Valley                    1\n",
      "Oregon                                1\n",
      "Knights Valley                        1\n",
      "Mount Veeder                          1\n",
      "Santa Barbara County                  1\n",
      "Name: count, dtype: int64\n"
     ]
    }
   ],
   "source": [
    "#top province within the US\n",
    "top_region_us = vivino_data['region'][vivino_data['country'] == 'United States'].value_counts().sort_values(ascending=False).head(50)\n",
    "print(top_region_us)"
   ]
  },
  {
   "cell_type": "markdown",
   "id": "efb00987",
   "metadata": {},
   "source": [
    "Most of these regions are within California; reason why region has so many unique values."
   ]
  },
  {
   "cell_type": "code",
   "execution_count": null,
   "id": "676d6ad4",
   "metadata": {},
   "outputs": [],
   "source": []
  }
 ],
 "metadata": {
  "kernelspec": {
   "display_name": "Python 3 (ipykernel)",
   "language": "python",
   "name": "python3"
  },
  "language_info": {
   "codemirror_mode": {
    "name": "ipython",
    "version": 3
   },
   "file_extension": ".py",
   "mimetype": "text/x-python",
   "name": "python",
   "nbconvert_exporter": "python",
   "pygments_lexer": "ipython3",
   "version": "3.11.7"
  }
 },
 "nbformat": 4,
 "nbformat_minor": 5
}
