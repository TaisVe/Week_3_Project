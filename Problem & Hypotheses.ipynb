{
 "cells": [
  {
   "cell_type": "markdown",
   "id": "52c252b6",
   "metadata": {},
   "source": [
    "# Wine Reviews"
   ]
  },
  {
   "cell_type": "markdown",
   "id": "68e21b91",
   "metadata": {},
   "source": [
    "## Problem"
   ]
  },
  {
   "cell_type": "markdown",
   "id": "e5ec9601",
   "metadata": {},
   "source": [
    "**Compare and analyze wine review datasets from different sources to uncover similarities, differences, and insights. \n",
    "While one dataset is focused on the points given by a professional taster, the second focuses on the reviews given by regular consumers.**\n",
    "\n",
    "During this analysis we will focus on answering the following questions:\n",
    "    \n",
    "> - What are the top countries recorded in each dataset?\n",
    "\n",
    "> - What are the top grapes reviewed in each dataset?\n",
    "\n",
    "> - Is there a correlation between the points given by professional tasters and the reviews given by consumers?\n",
    "\n",
    "Additionally, we will be analyzing the average alcohol consumption (divided by beer, wine and spirits) by country and observing if there are any relations between this information in main datasets."
   ]
  },
  {
   "cell_type": "markdown",
   "id": "13df283c",
   "metadata": {},
   "source": [
    "## Hypotheses"
   ]
  },
  {
   "cell_type": "markdown",
   "id": "fc5df4c7",
   "metadata": {},
   "source": [
    ">1. In both datasets, we believe the predominant country recorded will be United States, with the majority of the concentration being in the region of California. The countries that follow would be most likely European countries such as Spain, France and Italy.\n",
    "\n",
    ">2. The top grapes will be red wine grapes such as Cabernet Sauvignon, Pinot Noir and Merlot. For white wine it will be Chardonnay.\n",
    "\n",
    ">3. There will be consistency between the ratings and reviews of wines in the two datasets.\n",
    "   \n",
    "Note: The two datasets differ in the representation of wine varietals, with one dataset containing a much more diverse selection of varietals than the other. This could be influenced by the methods used to collect the data.\n",
    "\n",
    ">4. We do not believe the United States consumes the most wine per person. Their highest alcohol consumption will be for beer. "
   ]
  }
 ],
 "metadata": {
  "kernelspec": {
   "display_name": "Python 3 (ipykernel)",
   "language": "python",
   "name": "python3"
  },
  "language_info": {
   "codemirror_mode": {
    "name": "ipython",
    "version": 3
   },
   "file_extension": ".py",
   "mimetype": "text/x-python",
   "name": "python",
   "nbconvert_exporter": "python",
   "pygments_lexer": "ipython3",
   "version": "3.11.7"
  }
 },
 "nbformat": 4,
 "nbformat_minor": 5
}
